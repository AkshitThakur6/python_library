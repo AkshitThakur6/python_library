{
 "cells": [
  {
   "cell_type": "markdown",
   "id": "5fee02ab-ef85-4629-b53e-439cd927a96c",
   "metadata": {},
   "source": [
    "Numpy: numerical python<br>\n",
    "it is used for performing all types of mathematical/numerical<br>\n",
    "or scientific calculation<br>\n",
    "numpy uses array: arrays means vectors or metrics of linear algerbra<br>\n",
    "it supports 1,2, or more than 2 dimentional arrays.<br>\n",
    "arrays are homogeneous in nature<br>"
   ]
  },
  {
   "cell_type": "markdown",
   "id": "e080bd5c-ad3f-4776-9287-ba49cc210153",
   "metadata": {},
   "source": [
    "## Numpy\n",
    "NumPy is a general-purpose array-processing package. It provides a high-performance multidimensional array object, and tools for working with these arrays. It is the fundamental package for scientific computing with Python"
   ]
  },
  {
   "cell_type": "markdown",
   "id": "0a0049ea-87fb-47d2-8d63-6190a3929a52",
   "metadata": {},
   "source": [
    "## What is an array\n",
    "An array is a data structure that stores values of same data type. In Python, this is the main difference between arrays and lists. While python lists can contain values corresponding to different data types, arrays in python can only contain values corresponding to same data type"
   ]
  },
  {
   "cell_type": "code",
   "execution_count": 13,
   "id": "e9e2afdc-1544-4513-8fba-9bc1439080ac",
   "metadata": {},
   "outputs": [],
   "source": [
    "import numpy as np\n"
   ]
  },
  {
   "cell_type": "markdown",
   "id": "82d14a54-540d-4669-ab05-484822fb98f7",
   "metadata": {},
   "source": [
    "vertorization: performing fast operations"
   ]
  },
  {
   "cell_type": "code",
   "execution_count": 3,
   "id": "a4f58089-c79e-4978-baa5-cc6e6e33d8e8",
   "metadata": {},
   "outputs": [],
   "source": [
    "k=[1,2,3,4,5,5]"
   ]
  },
  {
   "cell_type": "code",
   "execution_count": 4,
   "id": "7ff2b5cd-ce51-4069-9bba-e759aaf0d03c",
   "metadata": {},
   "outputs": [
    {
     "name": "stdout",
     "output_type": "stream",
     "text": [
      "2\n",
      "3\n",
      "4\n",
      "5\n",
      "6\n",
      "6\n"
     ]
    }
   ],
   "source": [
    "p=[]\n",
    "for i in k:\n",
    "    print(i+1)"
   ]
  },
  {
   "cell_type": "code",
   "execution_count": 5,
   "id": "714cc457-19a2-4f69-b033-926d1f8bec4c",
   "metadata": {},
   "outputs": [],
   "source": [
    "p=[]\n",
    "for i in k:\n",
    "    p.append(i+1)"
   ]
  },
  {
   "cell_type": "code",
   "execution_count": 6,
   "id": "caefe138-c7b8-4759-8254-c40477755050",
   "metadata": {},
   "outputs": [
    {
     "data": {
      "text/plain": [
       "[2, 3, 4, 5, 6, 6]"
      ]
     },
     "execution_count": 6,
     "metadata": {},
     "output_type": "execute_result"
    }
   ],
   "source": [
    "p"
   ]
  },
  {
   "cell_type": "code",
   "execution_count": 11,
   "id": "feaecb6c-83a2-412f-8c85-b25ebd72b0db",
   "metadata": {},
   "outputs": [
    {
     "name": "stdout",
     "output_type": "stream",
     "text": [
      "260 ns ± 27 ns per loop (mean ± std. dev. of 7 runs, 1,000,000 loops each)\n"
     ]
    }
   ],
   "source": [
    "%timeit [i+1 for i in k]"
   ]
  },
  {
   "cell_type": "code",
   "execution_count": 12,
   "id": "e5479924-1c90-4bca-9d9f-641184e53cc1",
   "metadata": {},
   "outputs": [
    {
     "data": {
      "text/plain": [
       "[2, 3, 4, 5, 6, 6]"
      ]
     },
     "execution_count": 12,
     "metadata": {},
     "output_type": "execute_result"
    }
   ],
   "source": [
    "p"
   ]
  },
  {
   "cell_type": "code",
   "execution_count": 13,
   "id": "c8d9b6fb-ab05-4ab6-8047-8d702a2416ef",
   "metadata": {},
   "outputs": [],
   "source": [
    "arr=np.array(p)"
   ]
  },
  {
   "cell_type": "code",
   "execution_count": 14,
   "id": "0203c456-a571-4cda-9940-21c4160fdd72",
   "metadata": {},
   "outputs": [
    {
     "data": {
      "text/plain": [
       "array([2, 3, 4, 5, 6, 6])"
      ]
     },
     "execution_count": 14,
     "metadata": {},
     "output_type": "execute_result"
    }
   ],
   "source": [
    "arr"
   ]
  },
  {
   "cell_type": "code",
   "execution_count": 21,
   "id": "5e49576d-5207-4485-8489-8eef55ae1ac9",
   "metadata": {},
   "outputs": [
    {
     "data": {
      "text/plain": [
       "numpy.ndarray"
      ]
     },
     "execution_count": 21,
     "metadata": {},
     "output_type": "execute_result"
    }
   ],
   "source": [
    "type(arr)"
   ]
  },
  {
   "cell_type": "code",
   "execution_count": 22,
   "id": "508dba6d-1127-4267-8101-8b90c1bfefdc",
   "metadata": {},
   "outputs": [
    {
     "name": "stdout",
     "output_type": "stream",
     "text": [
      "1.17 µs ± 52.6 ns per loop (mean ± std. dev. of 7 runs, 1,000,000 loops each)\n"
     ]
    }
   ],
   "source": [
    "%timeit arr+1"
   ]
  },
  {
   "cell_type": "markdown",
   "id": "8fe0597f-1c84-4b68-852d-447dd2b89ab7",
   "metadata": {},
   "source": [
    "numpy basics<br>\n",
    "np.arrays<br>\n",
    "np.arange<br>"
   ]
  },
  {
   "cell_type": "code",
   "execution_count": 23,
   "id": "8456a086-0033-4093-944e-856cca8f1a21",
   "metadata": {},
   "outputs": [],
   "source": [
    "w=[6,7,8,9,3,4,5]\n",
    "arr=np.array(w)"
   ]
  },
  {
   "cell_type": "code",
   "execution_count": 24,
   "id": "fd562089-c125-41d2-a892-6f6c5177507c",
   "metadata": {},
   "outputs": [
    {
     "data": {
      "text/plain": [
       "array([6, 7, 8, 9, 3, 4, 5])"
      ]
     },
     "execution_count": 24,
     "metadata": {},
     "output_type": "execute_result"
    }
   ],
   "source": [
    "arr"
   ]
  },
  {
   "cell_type": "code",
   "execution_count": 25,
   "id": "6e360107-9349-4677-801e-5169d77b7dbb",
   "metadata": {},
   "outputs": [
    {
     "data": {
      "text/plain": [
       "numpy.ndarray"
      ]
     },
     "execution_count": 25,
     "metadata": {},
     "output_type": "execute_result"
    }
   ],
   "source": [
    "type(arr)"
   ]
  },
  {
   "cell_type": "code",
   "execution_count": 26,
   "id": "5485adaf-ebbd-43a6-8441-1f5a63e06f62",
   "metadata": {},
   "outputs": [
    {
     "data": {
      "text/plain": [
       "1"
      ]
     },
     "execution_count": 26,
     "metadata": {},
     "output_type": "execute_result"
    }
   ],
   "source": [
    "arr.ndim"
   ]
  },
  {
   "cell_type": "code",
   "execution_count": 34,
   "id": "0f559d1d-c8d2-40a9-a3a3-9a1892090ff0",
   "metadata": {},
   "outputs": [],
   "source": [
    "s=[[1,2,3],[4,5,6],[3,4,5]]\n",
    "arr2=np.array(s)"
   ]
  },
  {
   "cell_type": "code",
   "execution_count": 35,
   "id": "4aba0ac6-5f7d-4cc7-a5f5-393ea72488a3",
   "metadata": {},
   "outputs": [
    {
     "data": {
      "text/plain": [
       "array([[1, 2, 3],\n",
       "       [4, 5, 6],\n",
       "       [3, 4, 5]])"
      ]
     },
     "execution_count": 35,
     "metadata": {},
     "output_type": "execute_result"
    }
   ],
   "source": [
    "arr2"
   ]
  },
  {
   "cell_type": "code",
   "execution_count": 36,
   "id": "56aa507b-b803-46af-99b1-862545a39298",
   "metadata": {},
   "outputs": [
    {
     "data": {
      "text/plain": [
       "2"
      ]
     },
     "execution_count": 36,
     "metadata": {},
     "output_type": "execute_result"
    }
   ],
   "source": [
    "arr2.ndim"
   ]
  },
  {
   "cell_type": "code",
   "execution_count": 37,
   "id": "3a8a5711-199e-45b2-b55f-01fbff094fc1",
   "metadata": {},
   "outputs": [
    {
     "data": {
      "text/plain": [
       "(3, 3)"
      ]
     },
     "execution_count": 37,
     "metadata": {},
     "output_type": "execute_result"
    }
   ],
   "source": [
    "arr2.shape"
   ]
  },
  {
   "cell_type": "code",
   "execution_count": 41,
   "id": "0f2fe571-a992-4871-a700-b5817cbfd34a",
   "metadata": {},
   "outputs": [
    {
     "data": {
      "text/plain": [
       "[1, 2, 3, 4, 5, 6, 7, 8, 9]"
      ]
     },
     "execution_count": 41,
     "metadata": {},
     "output_type": "execute_result"
    }
   ],
   "source": [
    "a=list(range(1,10))\n",
    "a"
   ]
  },
  {
   "cell_type": "code",
   "execution_count": 44,
   "id": "8dff5f29-d3db-4b2e-9348-c600f373e6c2",
   "metadata": {},
   "outputs": [
    {
     "data": {
      "text/plain": [
       "array([ 1,  3,  5,  7,  9, 11, 13, 15, 17, 19])"
      ]
     },
     "execution_count": 44,
     "metadata": {},
     "output_type": "execute_result"
    }
   ],
   "source": [
    "arr4=np.arange(1,21,2)\n",
    "arr4"
   ]
  },
  {
   "cell_type": "markdown",
   "id": "e5a86fc0-bc56-45ef-987a-038af45e2bc6",
   "metadata": {},
   "source": [
    "some more special arrays"
   ]
  },
  {
   "cell_type": "code",
   "execution_count": 45,
   "id": "d7e94b0a-57f2-4237-ad48-fab7cf2a256a",
   "metadata": {},
   "outputs": [
    {
     "data": {
      "text/plain": [
       "array([0., 0., 0., 0., 0.])"
      ]
     },
     "execution_count": 45,
     "metadata": {},
     "output_type": "execute_result"
    }
   ],
   "source": [
    "np.zeros(5)"
   ]
  },
  {
   "cell_type": "code",
   "execution_count": 46,
   "id": "1c6092ab-f8b9-44f6-b4ec-01e471fb44db",
   "metadata": {},
   "outputs": [
    {
     "data": {
      "text/plain": [
       "array([0., 0., 0., 0., 0.])"
      ]
     },
     "execution_count": 46,
     "metadata": {},
     "output_type": "execute_result"
    }
   ],
   "source": [
    "np.zeros(5)"
   ]
  },
  {
   "cell_type": "code",
   "execution_count": 48,
   "id": "7f60545f-adcf-4ea1-b7f3-af6f8fd29193",
   "metadata": {},
   "outputs": [
    {
     "data": {
      "text/plain": [
       "array([[0., 0., 0., 0., 0.],\n",
       "       [0., 0., 0., 0., 0.],\n",
       "       [0., 0., 0., 0., 0.],\n",
       "       [0., 0., 0., 0., 0.]])"
      ]
     },
     "execution_count": 48,
     "metadata": {},
     "output_type": "execute_result"
    }
   ],
   "source": [
    "np.zeros((4,5))"
   ]
  },
  {
   "cell_type": "code",
   "execution_count": 49,
   "id": "bc5a04b5-010a-4e9b-9e72-45c04ce71b28",
   "metadata": {},
   "outputs": [
    {
     "data": {
      "text/plain": [
       "array([1.])"
      ]
     },
     "execution_count": 49,
     "metadata": {},
     "output_type": "execute_result"
    }
   ],
   "source": [
    "np.ones(1)"
   ]
  },
  {
   "cell_type": "code",
   "execution_count": 50,
   "id": "40fedcbe-b25d-471d-a5cd-f2d4dc348d3d",
   "metadata": {},
   "outputs": [
    {
     "data": {
      "text/plain": [
       "array([[1., 1., 1., 1., 1.],\n",
       "       [1., 1., 1., 1., 1.],\n",
       "       [1., 1., 1., 1., 1.],\n",
       "       [1., 1., 1., 1., 1.]])"
      ]
     },
     "execution_count": 50,
     "metadata": {},
     "output_type": "execute_result"
    }
   ],
   "source": [
    "np.ones((4,5))"
   ]
  },
  {
   "cell_type": "code",
   "execution_count": 51,
   "id": "bd04ad01-331a-4307-984e-7c8f7df15d51",
   "metadata": {},
   "outputs": [
    {
     "data": {
      "text/plain": [
       "array([[2, 0],\n",
       "       [0, 3]])"
      ]
     },
     "execution_count": 51,
     "metadata": {},
     "output_type": "execute_result"
    }
   ],
   "source": [
    "np.diag([2,3])"
   ]
  },
  {
   "cell_type": "code",
   "execution_count": 52,
   "id": "7c8a002d-81cb-46f3-af43-f709bad2845e",
   "metadata": {},
   "outputs": [
    {
     "data": {
      "text/plain": [
       "array([[1., 0., 0.],\n",
       "       [0., 1., 0.],\n",
       "       [0., 0., 1.]])"
      ]
     },
     "execution_count": 52,
     "metadata": {},
     "output_type": "execute_result"
    }
   ],
   "source": [
    "np.eye((3))"
   ]
  },
  {
   "cell_type": "code",
   "execution_count": 53,
   "id": "6914bd64-eb23-4912-a12e-18aa74dc1f7b",
   "metadata": {},
   "outputs": [
    {
     "data": {
      "text/plain": [
       "array([[1., 0., 0., 0., 0.],\n",
       "       [0., 1., 0., 0., 0.],\n",
       "       [0., 0., 1., 0., 0.],\n",
       "       [0., 0., 0., 1., 0.],\n",
       "       [0., 0., 0., 0., 1.]])"
      ]
     },
     "execution_count": 53,
     "metadata": {},
     "output_type": "execute_result"
    }
   ],
   "source": [
    "np.identity((5))"
   ]
  },
  {
   "cell_type": "code",
   "execution_count": 54,
   "id": "4f03521e-712d-48bd-bc4a-86511902676d",
   "metadata": {},
   "outputs": [
    {
     "data": {
      "text/plain": [
       "array([[3, 0, 0],\n",
       "       [0, 4, 0],\n",
       "       [0, 0, 5]])"
      ]
     },
     "execution_count": 54,
     "metadata": {},
     "output_type": "execute_result"
    }
   ],
   "source": [
    "np.diag([3,4,5])"
   ]
  },
  {
   "cell_type": "code",
   "execution_count": 56,
   "id": "a90e1af0-6ee7-4def-9567-e106f10ea622",
   "metadata": {},
   "outputs": [],
   "source": [
    "#indexing\n",
    "import random"
   ]
  },
  {
   "cell_type": "code",
   "execution_count": 58,
   "id": "378fa918-176a-47c3-8e0e-017b3ffa58dd",
   "metadata": {},
   "outputs": [
    {
     "data": {
      "text/plain": [
       "7"
      ]
     },
     "execution_count": 58,
     "metadata": {},
     "output_type": "execute_result"
    }
   ],
   "source": [
    "random.randint(1,10)"
   ]
  },
  {
   "cell_type": "code",
   "execution_count": 59,
   "id": "c8ff7e2a-2bea-46d4-9456-1be27f863183",
   "metadata": {},
   "outputs": [
    {
     "data": {
      "text/plain": [
       "55"
      ]
     },
     "execution_count": 59,
     "metadata": {},
     "output_type": "execute_result"
    }
   ],
   "source": [
    "np.random.randint(100)"
   ]
  },
  {
   "cell_type": "code",
   "execution_count": 61,
   "id": "ec6d3ff7-9ddd-4bba-88e9-966c4029093a",
   "metadata": {},
   "outputs": [
    {
     "data": {
      "text/plain": [
       "array([[81, 30,  7, 57, 65, 68],\n",
       "       [13,  6, 80, 62, 35, 73],\n",
       "       [62, 13, 65, 43, 13, 50],\n",
       "       [11, 28, 59, 78, 97, 17],\n",
       "       [94,  4, 26, 99, 38, 86],\n",
       "       [94, 27, 72, 10,  1, 56],\n",
       "       [51, 57, 32, 16, 63, 86],\n",
       "       [99, 26, 17, 58, 64, 14]])"
      ]
     },
     "execution_count": 61,
     "metadata": {},
     "output_type": "execute_result"
    }
   ],
   "source": [
    "arr= np.random.randint(1,100,(8,6))\n",
    "arr"
   ]
  },
  {
   "cell_type": "code",
   "execution_count": 4,
   "id": "5612a10b-a1cf-4492-bee2-8e14fb33ebc8",
   "metadata": {},
   "outputs": [
    {
     "data": {
      "text/plain": [
       "array([[58, 38, 68, 19],\n",
       "       [63, 74, 44, 36],\n",
       "       [10, 62, 32, 61]])"
      ]
     },
     "execution_count": 4,
     "metadata": {},
     "output_type": "execute_result"
    }
   ],
   "source": [
    "arr4=np.random.randint(1,100,(3,4))\n",
    "arr4"
   ]
  },
  {
   "cell_type": "code",
   "execution_count": 6,
   "id": "c1a8842e-c8b8-4b68-ae31-147fed51059a",
   "metadata": {},
   "outputs": [
    {
     "data": {
      "text/plain": [
       "array([38, 74, 62])"
      ]
     },
     "execution_count": 6,
     "metadata": {},
     "output_type": "execute_result"
    }
   ],
   "source": [
    "arr4[:,1]"
   ]
  },
  {
   "cell_type": "code",
   "execution_count": 7,
   "id": "d6a0c9dc-b1b7-4670-bd70-a00560590c58",
   "metadata": {},
   "outputs": [],
   "source": [
    "#masking: boolean indexing: "
   ]
  },
  {
   "cell_type": "code",
   "execution_count": 9,
   "id": "563f58e2-817e-4b6e-9f0a-a92445e3e5db",
   "metadata": {},
   "outputs": [
    {
     "data": {
      "text/plain": [
       "array([[ True, False,  True, False],\n",
       "       [ True,  True, False, False],\n",
       "       [False,  True, False,  True]])"
      ]
     },
     "execution_count": 9,
     "metadata": {},
     "output_type": "execute_result"
    }
   ],
   "source": [
    "arr4>50"
   ]
  },
  {
   "cell_type": "code",
   "execution_count": 10,
   "id": "676d3458-2603-46a7-9345-443f00df4ac6",
   "metadata": {},
   "outputs": [],
   "source": [
    "# verisation:\n"
   ]
  },
  {
   "cell_type": "code",
   "execution_count": 11,
   "id": "9a75f5cc-d44e-4027-97a4-87c8e1a805a0",
   "metadata": {},
   "outputs": [],
   "source": [
    "a=[1,2,4,7,-2,9,6,0]\n",
    "b=[5,5,8,2,-9,2,1,6]"
   ]
  },
  {
   "cell_type": "code",
   "execution_count": 18,
   "id": "f0acb4d2-9fdc-4801-bf41-871101b17e1a",
   "metadata": {},
   "outputs": [],
   "source": [
    "a1=np.array(a)\n",
    "b2=np.array(b)"
   ]
  },
  {
   "cell_type": "code",
   "execution_count": 19,
   "id": "575d255c-91f3-43ec-9cd1-21886978e522",
   "metadata": {},
   "outputs": [
    {
     "name": "stdout",
     "output_type": "stream",
     "text": [
      "[ 1  2  4  7 -2  9  6  0]\n",
      "[ 5  5  8  2 -9  2  1  6]\n"
     ]
    }
   ],
   "source": [
    "print(a1)\n",
    "print(b2)"
   ]
  },
  {
   "cell_type": "code",
   "execution_count": 20,
   "id": "11f5c74f-b51d-4891-a28d-da7264641c0a",
   "metadata": {},
   "outputs": [],
   "source": [
    "temp= a1-b2"
   ]
  },
  {
   "cell_type": "code",
   "execution_count": 23,
   "id": "3c8f4f2f-1dc1-43e1-87de-aea867bba910",
   "metadata": {},
   "outputs": [],
   "source": [
    "a3=temp**2"
   ]
  },
  {
   "cell_type": "code",
   "execution_count": 26,
   "id": "1494bd7b-1fa0-4d6a-a910-cd69f8263872",
   "metadata": {},
   "outputs": [
    {
     "data": {
      "text/plain": [
       "array([4., 3., 4., 5., 7., 7., 5., 6.])"
      ]
     },
     "execution_count": 26,
     "metadata": {},
     "output_type": "execute_result"
    }
   ],
   "source": [
    "np.sqrt(a3)"
   ]
  },
  {
   "cell_type": "code",
   "execution_count": 30,
   "id": "b68dedd6-1492-40ff-9d21-90a44a22791c",
   "metadata": {},
   "outputs": [],
   "source": [
    "a1=np.array(a)\n",
    "b2=np.array(b)"
   ]
  },
  {
   "cell_type": "code",
   "execution_count": 32,
   "id": "80ffead0-f37b-4b1b-bdd7-02b6d3ede99f",
   "metadata": {},
   "outputs": [
    {
     "data": {
      "text/plain": [
       "15.0"
      ]
     },
     "execution_count": 32,
     "metadata": {},
     "output_type": "execute_result"
    }
   ],
   "source": [
    "np.sqrt(np.sum(np.square(a1-b2)))"
   ]
  },
  {
   "cell_type": "code",
   "execution_count": 1,
   "id": "98858d1f-0b1f-4462-a0ab-5d131b308b87",
   "metadata": {},
   "outputs": [],
   "source": [
    "#indexing"
   ]
  },
  {
   "cell_type": "code",
   "execution_count": 5,
   "id": "b47a4bac-87a0-4104-9330-b02603104980",
   "metadata": {},
   "outputs": [
    {
     "data": {
      "text/plain": [
       "array([[42, 20, 17, 27, 34],\n",
       "       [45, 43, 24, 14, 47],\n",
       "       [13, 22, 38, 22, 22],\n",
       "       [34, 18,  9, 39, 21]])"
      ]
     },
     "execution_count": 5,
     "metadata": {},
     "output_type": "execute_result"
    }
   ],
   "source": [
    "a=np.random.randint(1,50,(4,5))\n",
    "a"
   ]
  },
  {
   "cell_type": "code",
   "execution_count": 7,
   "id": "4fb815af-d119-458b-8b2c-60dcf5d80fc9",
   "metadata": {},
   "outputs": [
    {
     "data": {
      "text/plain": [
       "array([42, 45, 13, 34])"
      ]
     },
     "execution_count": 7,
     "metadata": {},
     "output_type": "execute_result"
    }
   ],
   "source": [
    "a[:,0]"
   ]
  },
  {
   "cell_type": "code",
   "execution_count": 11,
   "id": "6dc4eaf3-e5e7-4a26-acd6-86eaa2a20f85",
   "metadata": {},
   "outputs": [
    {
     "data": {
      "text/plain": [
       "array([[13, 22],\n",
       "       [34, 18]])"
      ]
     },
     "execution_count": 11,
     "metadata": {},
     "output_type": "execute_result"
    }
   ],
   "source": [
    "a[2:,:2]"
   ]
  },
  {
   "cell_type": "code",
   "execution_count": null,
   "id": "26a69ba1-67f4-4447-92ff-6af66b838f7a",
   "metadata": {},
   "outputs": [],
   "source": []
  },
  {
   "cell_type": "code",
   "execution_count": null,
   "id": "aa13b7ff-c759-4223-8ca2-354e5b747215",
   "metadata": {},
   "outputs": [],
   "source": []
  },
  {
   "cell_type": "code",
   "execution_count": 20,
   "id": "ecf8e906-c5e6-4301-8ee0-32b2ea2eb4bf",
   "metadata": {},
   "outputs": [],
   "source": []
  },
  {
   "cell_type": "code",
   "execution_count": null,
   "id": "b8d1d981-1479-47c9-8c1d-d3695e46efae",
   "metadata": {},
   "outputs": [],
   "source": []
  },
  {
   "cell_type": "code",
   "execution_count": null,
   "id": "2059c29c-bc54-43fe-b511-f5491c913767",
   "metadata": {},
   "outputs": [],
   "source": [
    "\n",
    "\n",
    "\n"
   ]
  },
  {
   "cell_type": "code",
   "execution_count": null,
   "id": "fe6d8d4f-a656-4e1b-827d-2980b350b6d7",
   "metadata": {},
   "outputs": [],
   "source": [
    "\n"
   ]
  },
  {
   "cell_type": "code",
   "execution_count": null,
   "id": "f10860dd-ddc7-41b9-ab0b-ef6755d278c6",
   "metadata": {},
   "outputs": [],
   "source": [
    "\n"
   ]
  },
  {
   "cell_type": "code",
   "execution_count": null,
   "id": "b8b9be2f-b8e9-4ef8-a6ff-d8302885296a",
   "metadata": {},
   "outputs": [],
   "source": [
    "\n"
   ]
  },
  {
   "cell_type": "code",
   "execution_count": null,
   "id": "bbaf80fa-baa4-43b3-ac1f-c10474b15a42",
   "metadata": {},
   "outputs": [],
   "source": [
    "\n"
   ]
  },
  {
   "cell_type": "code",
   "execution_count": null,
   "id": "6907b5ca-c06b-41b5-8277-c65b9f689871",
   "metadata": {},
   "outputs": [],
   "source": []
  },
  {
   "cell_type": "code",
   "execution_count": null,
   "id": "35cf4293-91c1-4800-ae4b-be3c59297458",
   "metadata": {},
   "outputs": [],
   "source": []
  }
 ],
 "metadata": {
  "kernelspec": {
   "display_name": "Python 3 (ipykernel)",
   "language": "python",
   "name": "python3"
  },
  "language_info": {
   "codemirror_mode": {
    "name": "ipython",
    "version": 3
   },
   "file_extension": ".py",
   "mimetype": "text/x-python",
   "name": "python",
   "nbconvert_exporter": "python",
   "pygments_lexer": "ipython3",
   "version": "3.12.0"
  }
 },
 "nbformat": 4,
 "nbformat_minor": 5
}
