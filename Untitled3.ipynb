{
 "cells": [
  {
   "cell_type": "markdown",
   "id": "fd5240b2-986a-43c7-b68e-e6b2adaa03aa",
   "metadata": {},
   "source": [
    "<h1>Numpy</h1>"
   ]
  },
  {
   "cell_type": "code",
   "execution_count": 1,
   "id": "46492d68-a92f-4da3-8658-93055d974f91",
   "metadata": {},
   "outputs": [
    {
     "name": "stdout",
     "output_type": "stream",
     "text": [
      "Requirement already satisfied: numpy in c:\\users\\dell\\appdata\\local\\programs\\python\\python312\\lib\\site-packages (1.26.2)\n"
     ]
    }
   ],
   "source": [
    "!pip install numpy"
   ]
  },
  {
   "cell_type": "code",
   "execution_count": 2,
   "id": "4d6f4375-520c-4b84-aa7d-95de0c7c9b8d",
   "metadata": {},
   "outputs": [],
   "source": [
    "import numpy as np"
   ]
  },
  {
   "cell_type": "code",
   "execution_count": 3,
   "id": "19d88bdc-511d-41e6-86dd-eff2c57181e8",
   "metadata": {},
   "outputs": [],
   "source": [
    "k=[23,3,34,54,56,5,66,45]"
   ]
  },
  {
   "cell_type": "code",
   "execution_count": null,
   "id": "2d3bf184-cacd-4824-88f8-586b99f358e4",
   "metadata": {},
   "outputs": [],
   "source": []
  },
  {
   "cell_type": "code",
   "execution_count": 6,
   "id": "5b3781d6-08b4-4db1-8618-72acd21ff2bd",
   "metadata": {},
   "outputs": [
    {
     "data": {
      "text/plain": [
       "array([23,  3, 34, 54, 56,  5, 66, 45])"
      ]
     },
     "execution_count": 6,
     "metadata": {},
     "output_type": "execute_result"
    }
   ],
   "source": [
    "m=np.array(k)\n",
    "m"
   ]
  },
  {
   "cell_type": "code",
   "execution_count": 7,
   "id": "bfab27ac-2757-4f77-9ffc-d835e0f87d41",
   "metadata": {},
   "outputs": [
    {
     "data": {
      "text/plain": [
       "array([24,  4, 35, 55, 57,  6, 67, 46])"
      ]
     },
     "execution_count": 7,
     "metadata": {},
     "output_type": "execute_result"
    }
   ],
   "source": [
    "m+1"
   ]
  },
  {
   "cell_type": "code",
   "execution_count": 8,
   "id": "0c0503db-01ed-4670-9dd0-d19335242a5f",
   "metadata": {},
   "outputs": [
    {
     "data": {
      "text/plain": [
       "dtype('int32')"
      ]
     },
     "execution_count": 8,
     "metadata": {},
     "output_type": "execute_result"
    }
   ],
   "source": [
    "m.dtype"
   ]
  },
  {
   "cell_type": "code",
   "execution_count": 9,
   "id": "92b62bfa-6ef3-47a4-bc60-369eb4c35341",
   "metadata": {},
   "outputs": [
    {
     "data": {
      "text/plain": [
       "1"
      ]
     },
     "execution_count": 9,
     "metadata": {},
     "output_type": "execute_result"
    }
   ],
   "source": [
    "m.ndim"
   ]
  },
  {
   "cell_type": "code",
   "execution_count": 10,
   "id": "6eab57c7-7fdc-4a7d-aa41-a256305c7e22",
   "metadata": {},
   "outputs": [
    {
     "data": {
      "text/plain": [
       "(8,)"
      ]
     },
     "execution_count": 10,
     "metadata": {},
     "output_type": "execute_result"
    }
   ],
   "source": [
    "m.shape"
   ]
  },
  {
   "cell_type": "code",
   "execution_count": 12,
   "id": "48b09a8e-ce0e-46f1-9f5f-d1b4dcdda7b9",
   "metadata": {},
   "outputs": [
    {
     "data": {
      "text/plain": [
       "array([ 1,  2,  3,  4,  5,  6,  7,  8,  9, 10])"
      ]
     },
     "execution_count": 12,
     "metadata": {},
     "output_type": "execute_result"
    }
   ],
   "source": [
    "np.arange(1,11)"
   ]
  },
  {
   "cell_type": "code",
   "execution_count": 16,
   "id": "c69a1bb8-93c9-439f-b95a-67b5f703762e",
   "metadata": {},
   "outputs": [],
   "source": [
    "f1=[[1,2,3],[4,5,6],[7,8,9]]\n",
    "arr1=np.array(f1)"
   ]
  },
  {
   "cell_type": "code",
   "execution_count": 17,
   "id": "5130b4e2-01c1-475c-8a2e-a7fc89245f8d",
   "metadata": {},
   "outputs": [
    {
     "data": {
      "text/plain": [
       "array([[1, 2, 3],\n",
       "       [4, 5, 6],\n",
       "       [7, 8, 9]])"
      ]
     },
     "execution_count": 17,
     "metadata": {},
     "output_type": "execute_result"
    }
   ],
   "source": [
    "arr1"
   ]
  },
  {
   "cell_type": "code",
   "execution_count": 18,
   "id": "b4f17edd-5d5e-4961-be34-67eecdd4b6d4",
   "metadata": {},
   "outputs": [
    {
     "data": {
      "text/plain": [
       "2"
      ]
     },
     "execution_count": 18,
     "metadata": {},
     "output_type": "execute_result"
    }
   ],
   "source": [
    "arr1.ndim"
   ]
  },
  {
   "cell_type": "code",
   "execution_count": 19,
   "id": "6271c8c0-73d9-4e6f-9e7a-68f4ba4cda3c",
   "metadata": {},
   "outputs": [
    {
     "data": {
      "text/plain": [
       "(3, 3)"
      ]
     },
     "execution_count": 19,
     "metadata": {},
     "output_type": "execute_result"
    }
   ],
   "source": [
    "arr1.shape"
   ]
  },
  {
   "cell_type": "code",
   "execution_count": 20,
   "id": "351e186d-d5a4-4d3e-a643-becf5959b04a",
   "metadata": {},
   "outputs": [
    {
     "data": {
      "text/plain": [
       "dtype('int32')"
      ]
     },
     "execution_count": 20,
     "metadata": {},
     "output_type": "execute_result"
    }
   ],
   "source": [
    "arr1.dtype"
   ]
  },
  {
   "cell_type": "code",
   "execution_count": 21,
   "id": "2e647f02-cd87-41be-88fd-e772cf0ee975",
   "metadata": {},
   "outputs": [],
   "source": [
    "#zero matrix"
   ]
  },
  {
   "cell_type": "code",
   "execution_count": 22,
   "id": "d66e447a-af61-4f55-9556-49ee7b202c91",
   "metadata": {},
   "outputs": [
    {
     "data": {
      "text/plain": [
       "array([0., 0., 0., 0.])"
      ]
     },
     "execution_count": 22,
     "metadata": {},
     "output_type": "execute_result"
    }
   ],
   "source": [
    "np.zeros(4)"
   ]
  },
  {
   "cell_type": "code",
   "execution_count": 23,
   "id": "b0c6968f-4a83-4e0c-b310-1e378fc73119",
   "metadata": {},
   "outputs": [
    {
     "data": {
      "text/plain": [
       "array([[0., 0., 0., 0., 0.],\n",
       "       [0., 0., 0., 0., 0.],\n",
       "       [0., 0., 0., 0., 0.],\n",
       "       [0., 0., 0., 0., 0.]])"
      ]
     },
     "execution_count": 23,
     "metadata": {},
     "output_type": "execute_result"
    }
   ],
   "source": [
    "np.zeros((4,5))"
   ]
  },
  {
   "cell_type": "code",
   "execution_count": 24,
   "id": "7f85b0bf-50be-4107-90ed-32bca404237c",
   "metadata": {},
   "outputs": [
    {
     "data": {
      "text/plain": [
       "array([[1., 1., 1., 1., 1.],\n",
       "       [1., 1., 1., 1., 1.],\n",
       "       [1., 1., 1., 1., 1.],\n",
       "       [1., 1., 1., 1., 1.]])"
      ]
     },
     "execution_count": 24,
     "metadata": {},
     "output_type": "execute_result"
    }
   ],
   "source": [
    "np.ones((4,5))"
   ]
  },
  {
   "cell_type": "code",
   "execution_count": 25,
   "id": "b013feab-99b5-4fb7-8fd9-6f5b73ef54dc",
   "metadata": {},
   "outputs": [
    {
     "data": {
      "text/plain": [
       "array([[1., 0., 0., 0.],\n",
       "       [0., 1., 0., 0.],\n",
       "       [0., 0., 1., 0.],\n",
       "       [0., 0., 0., 1.]])"
      ]
     },
     "execution_count": 25,
     "metadata": {},
     "output_type": "execute_result"
    }
   ],
   "source": [
    "np.eye(4)"
   ]
  },
  {
   "cell_type": "code",
   "execution_count": 26,
   "id": "31d75180-c3be-4b0f-92c3-336334450595",
   "metadata": {},
   "outputs": [
    {
     "data": {
      "text/plain": [
       "array([[1, 0, 0, 0],\n",
       "       [0, 2, 0, 0],\n",
       "       [0, 0, 3, 0],\n",
       "       [0, 0, 0, 4]])"
      ]
     },
     "execution_count": 26,
     "metadata": {},
     "output_type": "execute_result"
    }
   ],
   "source": [
    "np.diag((1,2,3,4))"
   ]
  },
  {
   "cell_type": "code",
   "execution_count": 27,
   "id": "5d582704-1563-4bff-9720-7e20344703b6",
   "metadata": {},
   "outputs": [],
   "source": [
    "#indexing"
   ]
  },
  {
   "cell_type": "code",
   "execution_count": 28,
   "id": "8a5fbd76-4fd0-4a34-94f4-71543c8c8798",
   "metadata": {},
   "outputs": [],
   "source": [
    "import random"
   ]
  },
  {
   "cell_type": "code",
   "execution_count": 29,
   "id": "e565b5a7-a20c-4a1f-931a-6aa6832518f9",
   "metadata": {},
   "outputs": [
    {
     "data": {
      "text/plain": [
       "9"
      ]
     },
     "execution_count": 29,
     "metadata": {},
     "output_type": "execute_result"
    }
   ],
   "source": [
    "random.randint(1,12)"
   ]
  },
  {
   "cell_type": "code",
   "execution_count": 31,
   "id": "61f89bf0-234f-4bf5-9ca0-8b29a311e53f",
   "metadata": {},
   "outputs": [
    {
     "data": {
      "text/plain": [
       "60"
      ]
     },
     "execution_count": 31,
     "metadata": {},
     "output_type": "execute_result"
    }
   ],
   "source": [
    "np.random.randint(1,100)"
   ]
  },
  {
   "cell_type": "code",
   "execution_count": 32,
   "id": "c55b4ca0-08b4-43ed-9ffc-972145146f97",
   "metadata": {},
   "outputs": [
    {
     "data": {
      "text/plain": [
       "array([[60, 26, 17, 75,  1],\n",
       "       [65, 94, 56, 70, 19],\n",
       "       [98, 43, 22, 37, 56],\n",
       "       [27, 68, 63, 68, 54]])"
      ]
     },
     "execution_count": 32,
     "metadata": {},
     "output_type": "execute_result"
    }
   ],
   "source": [
    "np.random.randint(1,100,(4,5))"
   ]
  },
  {
   "cell_type": "code",
   "execution_count": 34,
   "id": "3ba2c384-3286-48c7-8526-0cc10d4fd3a2",
   "metadata": {},
   "outputs": [],
   "source": [
    "arr2=np.random.randint(1,30,(6,6))"
   ]
  },
  {
   "cell_type": "code",
   "execution_count": 35,
   "id": "53acfe83-caca-4980-bafe-f36d14dd0ec4",
   "metadata": {},
   "outputs": [
    {
     "data": {
      "text/plain": [
       "array([[28,  1,  1, 22, 21, 16],\n",
       "       [ 7, 22,  4,  7, 25,  6],\n",
       "       [18,  8,  4, 21,  5,  5],\n",
       "       [10, 20, 27, 12,  7, 12],\n",
       "       [28,  7,  6, 10, 17,  5],\n",
       "       [14, 12,  3, 19, 25,  4]])"
      ]
     },
     "execution_count": 35,
     "metadata": {},
     "output_type": "execute_result"
    }
   ],
   "source": [
    "arr2"
   ]
  },
  {
   "cell_type": "code",
   "execution_count": 36,
   "id": "3fff1083-c588-4b4f-95b1-b352fcb2ec22",
   "metadata": {},
   "outputs": [
    {
     "data": {
      "text/plain": [
       "(6, 6)"
      ]
     },
     "execution_count": 36,
     "metadata": {},
     "output_type": "execute_result"
    }
   ],
   "source": [
    "arr2.shape"
   ]
  },
  {
   "cell_type": "code",
   "execution_count": 37,
   "id": "c5459b35-66b4-48f8-bd52-24e961b84326",
   "metadata": {},
   "outputs": [
    {
     "data": {
      "text/plain": [
       "2"
      ]
     },
     "execution_count": 37,
     "metadata": {},
     "output_type": "execute_result"
    }
   ],
   "source": [
    "arr2.ndim"
   ]
  },
  {
   "cell_type": "code",
   "execution_count": 39,
   "id": "1fc430f7-8e4b-4e8d-a00d-5c11cf93d20d",
   "metadata": {},
   "outputs": [
    {
     "data": {
      "text/plain": [
       "array([28,  1,  1, 22, 21, 16])"
      ]
     },
     "execution_count": 39,
     "metadata": {},
     "output_type": "execute_result"
    }
   ],
   "source": [
    "arr2[0]"
   ]
  },
  {
   "cell_type": "code",
   "execution_count": 40,
   "id": "73443400-4e11-4d4b-97d8-e9e0a3093f77",
   "metadata": {},
   "outputs": [
    {
     "data": {
      "text/plain": [
       "array([[28,  1,  1, 22, 21, 16],\n",
       "       [ 7, 22,  4,  7, 25,  6],\n",
       "       [18,  8,  4, 21,  5,  5],\n",
       "       [10, 20, 27, 12,  7, 12],\n",
       "       [28,  7,  6, 10, 17,  5],\n",
       "       [14, 12,  3, 19, 25,  4]])"
      ]
     },
     "execution_count": 40,
     "metadata": {},
     "output_type": "execute_result"
    }
   ],
   "source": [
    "arr2"
   ]
  },
  {
   "cell_type": "code",
   "execution_count": 41,
   "id": "1530f0c3-9f71-42e8-a56f-6361ced54590",
   "metadata": {},
   "outputs": [
    {
     "data": {
      "text/plain": [
       "array([18,  8,  4, 21,  5,  5])"
      ]
     },
     "execution_count": 41,
     "metadata": {},
     "output_type": "execute_result"
    }
   ],
   "source": [
    "arr2[2]"
   ]
  },
  {
   "cell_type": "code",
   "execution_count": 42,
   "id": "45ddc635-9759-47c4-b8c1-fed4c91d5966",
   "metadata": {},
   "outputs": [
    {
     "data": {
      "text/plain": [
       "22"
      ]
     },
     "execution_count": 42,
     "metadata": {},
     "output_type": "execute_result"
    }
   ],
   "source": [
    "arr2[(1,1)]"
   ]
  },
  {
   "cell_type": "code",
   "execution_count": 43,
   "id": "1ed9b5da-5a10-424b-af00-bec687552412",
   "metadata": {},
   "outputs": [
    {
     "data": {
      "text/plain": [
       "4"
      ]
     },
     "execution_count": 43,
     "metadata": {},
     "output_type": "execute_result"
    }
   ],
   "source": [
    "arr2[(2,2)]"
   ]
  },
  {
   "cell_type": "code",
   "execution_count": 44,
   "id": "f6607a21-45e2-4aea-a3b9-c9da74c719aa",
   "metadata": {},
   "outputs": [
    {
     "data": {
      "text/plain": [
       "array([28,  7, 18, 10, 28, 14])"
      ]
     },
     "execution_count": 44,
     "metadata": {},
     "output_type": "execute_result"
    }
   ],
   "source": [
    "arr2[:,0]"
   ]
  },
  {
   "cell_type": "code",
   "execution_count": 45,
   "id": "485443e9-af45-468f-8fdd-6db805faa659",
   "metadata": {},
   "outputs": [
    {
     "data": {
      "text/plain": [
       "array([14, 12,  3, 19, 25,  4])"
      ]
     },
     "execution_count": 45,
     "metadata": {},
     "output_type": "execute_result"
    }
   ],
   "source": [
    "arr2[-1]"
   ]
  },
  {
   "cell_type": "code",
   "execution_count": 46,
   "id": "d5035d4b-b3c3-48ac-8c6b-a7465e15fd40",
   "metadata": {},
   "outputs": [
    {
     "data": {
      "text/plain": [
       "array([ 1,  4,  4, 27,  6,  3])"
      ]
     },
     "execution_count": 46,
     "metadata": {},
     "output_type": "execute_result"
    }
   ],
   "source": [
    "arr2[:,2]"
   ]
  },
  {
   "cell_type": "code",
   "execution_count": 47,
   "id": "1fae9bb3-09f1-43a8-913b-4a708d7a2202",
   "metadata": {},
   "outputs": [
    {
     "data": {
      "text/plain": [
       "array([10, 20, 27, 12,  7, 12])"
      ]
     },
     "execution_count": 47,
     "metadata": {},
     "output_type": "execute_result"
    }
   ],
   "source": [
    "arr2[3]"
   ]
  },
  {
   "cell_type": "code",
   "execution_count": 48,
   "id": "de69b971-a0f1-4559-8be0-6b0b3ce32b21",
   "metadata": {},
   "outputs": [
    {
     "data": {
      "text/plain": [
       "array([28,  7,  6, 10, 17,  5])"
      ]
     },
     "execution_count": 48,
     "metadata": {},
     "output_type": "execute_result"
    }
   ],
   "source": [
    "arr2[4]"
   ]
  },
  {
   "cell_type": "code",
   "execution_count": 49,
   "id": "5b9de752-1ae5-4aef-97e7-10c879214c2c",
   "metadata": {},
   "outputs": [
    {
     "data": {
      "text/plain": [
       "array([[28,  1,  1, 22, 21, 16],\n",
       "       [ 7, 22,  4,  7, 25,  6],\n",
       "       [18,  8,  4, 21,  5,  5],\n",
       "       [10, 20, 27, 12,  7, 12],\n",
       "       [28,  7,  6, 10, 17,  5],\n",
       "       [14, 12,  3, 19, 25,  4]])"
      ]
     },
     "execution_count": 49,
     "metadata": {},
     "output_type": "execute_result"
    }
   ],
   "source": [
    "arr2"
   ]
  },
  {
   "cell_type": "code",
   "execution_count": 50,
   "id": "938b3438-5dab-464b-a049-571411e0c199",
   "metadata": {},
   "outputs": [
    {
     "data": {
      "text/plain": [
       "array([[28,  1,  1, 22, 21, 16],\n",
       "       [ 7, 22,  4,  7, 25,  6]])"
      ]
     },
     "execution_count": 50,
     "metadata": {},
     "output_type": "execute_result"
    }
   ],
   "source": [
    "arr2[:2,]"
   ]
  },
  {
   "cell_type": "code",
   "execution_count": 51,
   "id": "d51e3c6f-f197-43d4-9159-6a0221efff65",
   "metadata": {},
   "outputs": [
    {
     "data": {
      "text/plain": [
       "array([ 1,  4,  4, 27,  6,  3])"
      ]
     },
     "execution_count": 51,
     "metadata": {},
     "output_type": "execute_result"
    }
   ],
   "source": [
    "arr2[:,2]"
   ]
  },
  {
   "cell_type": "code",
   "execution_count": 55,
   "id": "a53e39a5-6084-4378-9b3b-04a8ca882295",
   "metadata": {},
   "outputs": [
    {
     "data": {
      "text/plain": [
       "array([[22,  4],\n",
       "       [ 8,  4]])"
      ]
     },
     "execution_count": 55,
     "metadata": {},
     "output_type": "execute_result"
    }
   ],
   "source": [
    "arr2[1:3,1:3]"
   ]
  },
  {
   "cell_type": "code",
   "execution_count": 75,
   "id": "d85e22d1-fe14-400e-ae7c-ed75b94ddd28",
   "metadata": {},
   "outputs": [
    {
     "data": {
      "text/plain": [
       "array([[27, 12],\n",
       "       [ 6, 10]])"
      ]
     },
     "execution_count": 75,
     "metadata": {},
     "output_type": "execute_result"
    }
   ],
   "source": [
    "arr2[-3:-1,-4:-2]"
   ]
  },
  {
   "cell_type": "code",
   "execution_count": 78,
   "id": "c8811ae6-5f98-4cfc-bd5a-3ba590ead596",
   "metadata": {},
   "outputs": [
    {
     "data": {
      "text/plain": [
       "array([[49, 45, 32, 21,  1, 10, 15, 18],\n",
       "       [23, 19,  4, 13, 38, 48,  1,  2],\n",
       "       [ 4,  1, 23, 26, 13, 15, 18, 37],\n",
       "       [40, 36,  6,  1, 15,  5,  6, 20],\n",
       "       [25, 40, 23, 15, 40,  2,  2, 39],\n",
       "       [35, 37, 39, 29, 17, 37,  3, 30]])"
      ]
     },
     "execution_count": 78,
     "metadata": {},
     "output_type": "execute_result"
    }
   ],
   "source": [
    "arr3=np.random.randint(1,50,(6,8))\n",
    "arr3"
   ]
  },
  {
   "cell_type": "code",
   "execution_count": 81,
   "id": "8cc209a7-e57f-4414-99e1-391633fbb963",
   "metadata": {},
   "outputs": [],
   "source": [
    "arr3[2:5,2:5]=0"
   ]
  },
  {
   "cell_type": "code",
   "execution_count": 82,
   "id": "0d758865-2f86-4fdb-aab5-370ce294744e",
   "metadata": {},
   "outputs": [
    {
     "data": {
      "text/plain": [
       "array([[49, 45, 32, 21,  1, 10, 15, 18],\n",
       "       [23, 19,  4, 13, 38, 48,  1,  2],\n",
       "       [ 4,  1,  0,  0,  0, 15, 18, 37],\n",
       "       [40, 36,  0,  0,  0,  5,  6, 20],\n",
       "       [25, 40,  0,  0,  0,  2,  2, 39],\n",
       "       [35, 37, 39, 29, 17, 37,  3, 30]])"
      ]
     },
     "execution_count": 82,
     "metadata": {},
     "output_type": "execute_result"
    }
   ],
   "source": [
    "arr3"
   ]
  },
  {
   "cell_type": "code",
   "execution_count": 83,
   "id": "2a58e3e2-dd69-4a70-8119-bb06c34a104e",
   "metadata": {},
   "outputs": [
    {
     "data": {
      "text/plain": [
       "array([[49, 45, 32, 21,  1, 10, 15, 18],\n",
       "       [23, 19,  4, 13, 38, 48,  1,  2],\n",
       "       [ 4,  1,  0,  0,  0, 15, 18, 37],\n",
       "       [40, 36,  0,  0,  0,  5,  6, 20],\n",
       "       [25, 40,  0,  0,  0,  2,  2, 39],\n",
       "       [35, 37, 39, 29, 17, 37,  3, 30]])"
      ]
     },
     "execution_count": 83,
     "metadata": {},
     "output_type": "execute_result"
    }
   ],
   "source": [
    "arr3"
   ]
  },
  {
   "cell_type": "code",
   "execution_count": 85,
   "id": "f30f4e3e-7124-4e46-bcca-a3c1735771dd",
   "metadata": {},
   "outputs": [
    {
     "data": {
      "text/plain": [
       "array([[15, 18],\n",
       "       [ 5,  6],\n",
       "       [ 2,  2]])"
      ]
     },
     "execution_count": 85,
     "metadata": {},
     "output_type": "execute_result"
    }
   ],
   "source": [
    "arr3[-4:-1,-3:-1]"
   ]
  },
  {
   "cell_type": "code",
   "execution_count": 89,
   "id": "8dd05f00-d2cb-41cd-b93f-50f9860a34b7",
   "metadata": {},
   "outputs": [],
   "source": [
    "arr3[-2:,0:2]=56"
   ]
  },
  {
   "cell_type": "code",
   "execution_count": 90,
   "id": "1026bcbe-94c6-4e6e-9aed-d0735dcf875c",
   "metadata": {},
   "outputs": [
    {
     "data": {
      "text/plain": [
       "array([[49, 45, 32, 21,  1, 10, 15, 18],\n",
       "       [23, 19,  4, 13, 38, 48,  1,  2],\n",
       "       [ 4,  1,  0,  0,  0, 15, 18, 37],\n",
       "       [40, 36,  0,  0,  0,  5,  6, 20],\n",
       "       [56, 56,  0,  0,  0,  2,  2, 39],\n",
       "       [56, 56, 39, 29, 17, 37,  3, 30]])"
      ]
     },
     "execution_count": 90,
     "metadata": {},
     "output_type": "execute_result"
    }
   ],
   "source": [
    "arr3"
   ]
  },
  {
   "cell_type": "code",
   "execution_count": 91,
   "id": "aa281678-de9a-4e7b-8f35-c954bdadb1c8",
   "metadata": {},
   "outputs": [
    {
     "data": {
      "text/plain": [
       "array([[94, 85, 53, 59, 80, 16, 26],\n",
       "       [44, 93, 75, 85, 76, 47, 28],\n",
       "       [53,  7, 80, 34,  5, 25, 52],\n",
       "       [74, 76, 48, 24, 88, 30, 48],\n",
       "       [75, 87, 69, 62, 15, 87, 45],\n",
       "       [99, 60, 97, 33, 66, 74, 44],\n",
       "       [32, 40, 55, 48, 42, 45, 20],\n",
       "       [55, 64, 70, 16, 15, 40, 80]])"
      ]
     },
     "execution_count": 91,
     "metadata": {},
     "output_type": "execute_result"
    }
   ],
   "source": [
    "arr=np.random.randint(1,100,(8,7))\n",
    "arr"
   ]
  },
  {
   "cell_type": "code",
   "execution_count": 92,
   "id": "3735d0aa-ac6c-4ae4-9e48-9deb1fd37e20",
   "metadata": {},
   "outputs": [
    {
     "data": {
      "text/plain": [
       "array([[ True,  True, False, False,  True, False, False],\n",
       "       [False,  True,  True,  True,  True, False, False],\n",
       "       [False, False,  True, False, False, False, False],\n",
       "       [ True,  True, False, False,  True, False, False],\n",
       "       [ True,  True, False, False, False,  True, False],\n",
       "       [ True, False,  True, False, False,  True, False],\n",
       "       [False, False, False, False, False, False, False],\n",
       "       [False, False, False, False, False, False,  True]])"
      ]
     },
     "execution_count": 92,
     "metadata": {},
     "output_type": "execute_result"
    }
   ],
   "source": [
    "arr>70"
   ]
  },
  {
   "cell_type": "code",
   "execution_count": 93,
   "id": "1eabc7da-179f-45cd-9a7f-a13de27a0e43",
   "metadata": {},
   "outputs": [],
   "source": [
    "mask=arr>70"
   ]
  },
  {
   "cell_type": "code",
   "execution_count": 96,
   "id": "a38d87a8-2e4b-470f-b169-99d90a247e18",
   "metadata": {},
   "outputs": [
    {
     "data": {
      "text/plain": [
       "array([53, 59, 16, 26, 44, 47, 28, 53,  7, 34,  5, 25, 52, 48, 24, 30, 48,\n",
       "       69, 62, 15, 45, 60, 33, 66, 44, 32, 40, 55, 48, 42, 45, 20, 55, 64,\n",
       "       70, 16, 15, 40])"
      ]
     },
     "execution_count": 96,
     "metadata": {},
     "output_type": "execute_result"
    }
   ],
   "source": [
    "arr[~mask]"
   ]
  },
  {
   "cell_type": "code",
   "execution_count": 97,
   "id": "484a0fe5-7a4a-40c1-91d7-ebab3d05b422",
   "metadata": {},
   "outputs": [
    {
     "data": {
      "text/plain": [
       "array([[ True,  True, False, False,  True, False, False],\n",
       "       [False,  True,  True,  True,  True, False, False],\n",
       "       [False, False,  True, False, False, False, False],\n",
       "       [ True,  True, False, False,  True, False, False],\n",
       "       [ True,  True, False, False, False,  True, False],\n",
       "       [ True, False,  True, False, False,  True, False],\n",
       "       [False, False, False, False, False, False, False],\n",
       "       [False, False, False, False, False, False,  True]])"
      ]
     },
     "execution_count": 97,
     "metadata": {},
     "output_type": "execute_result"
    }
   ],
   "source": [
    "arr>70"
   ]
  },
  {
   "cell_type": "code",
   "execution_count": 101,
   "id": "dae3d9c6-0c43-4871-98f4-04980dd765d5",
   "metadata": {},
   "outputs": [
    {
     "data": {
      "text/plain": [
       "array([94, 85, 80, 93, 75, 85, 76, 80, 74, 76, 88, 75, 87, 87, 99, 97, 74,\n",
       "       80])"
      ]
     },
     "execution_count": 101,
     "metadata": {},
     "output_type": "execute_result"
    }
   ],
   "source": [
    "arr[arr>70]"
   ]
  },
  {
   "cell_type": "code",
   "execution_count": 103,
   "id": "c3ec5d68-ada0-4fb1-9112-e19139def392",
   "metadata": {},
   "outputs": [
    {
     "data": {
      "text/plain": [
       "array([53, 59, 16, 26, 44, 47, 28, 53,  7, 34,  5, 25, 52, 48, 24, 30, 48,\n",
       "       69, 62, 15, 45, 60, 33, 66, 44, 32, 40, 55, 48, 42, 45, 20, 55, 64,\n",
       "       70, 16, 15, 40])"
      ]
     },
     "execution_count": 103,
     "metadata": {},
     "output_type": "execute_result"
    }
   ],
   "source": [
    "arr[~(arr>70)]"
   ]
  },
  {
   "cell_type": "code",
   "execution_count": 104,
   "id": "8bed7208-f815-42be-ae0f-deed7cb77632",
   "metadata": {},
   "outputs": [
    {
     "data": {
      "text/plain": [
       "array([[94, 85, 53, 59, 80, 16, 26],\n",
       "       [44, 93, 75, 85, 76, 47, 28],\n",
       "       [53,  7, 80, 34,  5, 25, 52],\n",
       "       [74, 76, 48, 24, 88, 30, 48],\n",
       "       [75, 87, 69, 62, 15, 87, 45],\n",
       "       [99, 60, 97, 33, 66, 74, 44],\n",
       "       [32, 40, 55, 48, 42, 45, 20],\n",
       "       [55, 64, 70, 16, 15, 40, 80]])"
      ]
     },
     "execution_count": 104,
     "metadata": {},
     "output_type": "execute_result"
    }
   ],
   "source": [
    "arr"
   ]
  },
  {
   "cell_type": "code",
   "execution_count": 110,
   "id": "0d21bbb9-7ac1-4cde-90d7-cb0956714013",
   "metadata": {},
   "outputs": [
    {
     "data": {
      "text/plain": [
       "array([ True,  True,  True,  True,  True, False, False])"
      ]
     },
     "execution_count": 110,
     "metadata": {},
     "output_type": "execute_result"
    }
   ],
   "source": [
    "m=arr[0]>50\n",
    "m"
   ]
  },
  {
   "cell_type": "code",
   "execution_count": 114,
   "id": "1093fa0b-1480-453a-b08e-cbbba96e193f",
   "metadata": {},
   "outputs": [
    {
     "data": {
      "text/plain": [
       "array([94, 85, 53, 59, 80])"
      ]
     },
     "execution_count": 114,
     "metadata": {},
     "output_type": "execute_result"
    }
   ],
   "source": [
    "arr[0][arr[0]>50]"
   ]
  },
  {
   "cell_type": "code",
   "execution_count": 116,
   "id": "e3944641-71d6-49d9-9bf5-8b33512d4bad",
   "metadata": {},
   "outputs": [
    {
     "data": {
      "text/plain": [
       "array([16, 26])"
      ]
     },
     "execution_count": 116,
     "metadata": {},
     "output_type": "execute_result"
    }
   ],
   "source": [
    "arr[0][~(arr[0]>50)]"
   ]
  },
  {
   "cell_type": "code",
   "execution_count": 117,
   "id": "06ecc53a-89bf-4a10-b4d7-0009b90729ac",
   "metadata": {},
   "outputs": [],
   "source": [
    "#sum"
   ]
  },
  {
   "cell_type": "code",
   "execution_count": 118,
   "id": "b2b24adf-c18c-42bf-82fa-2bdf7b1bd3cc",
   "metadata": {},
   "outputs": [
    {
     "data": {
      "text/plain": [
       "array([[94, 85, 53, 59, 80, 16, 26],\n",
       "       [44, 93, 75, 85, 76, 47, 28],\n",
       "       [53,  7, 80, 34,  5, 25, 52],\n",
       "       [74, 76, 48, 24, 88, 30, 48],\n",
       "       [75, 87, 69, 62, 15, 87, 45],\n",
       "       [99, 60, 97, 33, 66, 74, 44],\n",
       "       [32, 40, 55, 48, 42, 45, 20],\n",
       "       [55, 64, 70, 16, 15, 40, 80]])"
      ]
     },
     "execution_count": 118,
     "metadata": {},
     "output_type": "execute_result"
    }
   ],
   "source": [
    "arr"
   ]
  },
  {
   "cell_type": "code",
   "execution_count": 119,
   "id": "7b490743-c695-44e0-8d78-af9ff2369513",
   "metadata": {},
   "outputs": [
    {
     "data": {
      "text/plain": [
       "array([[ True,  True, False, False,  True, False, False],\n",
       "       [False,  True,  True,  True,  True, False, False],\n",
       "       [False, False,  True, False, False, False, False],\n",
       "       [ True,  True, False, False,  True, False, False],\n",
       "       [ True,  True,  True,  True, False,  True, False],\n",
       "       [ True, False,  True, False,  True,  True, False],\n",
       "       [False, False, False, False, False, False, False],\n",
       "       [False,  True,  True, False, False, False,  True]])"
      ]
     },
     "execution_count": 119,
     "metadata": {},
     "output_type": "execute_result"
    }
   ],
   "source": [
    "arr>60"
   ]
  },
  {
   "cell_type": "code",
   "execution_count": 120,
   "id": "f50a67e6-671d-41fc-a9f7-172ddffa3e2c",
   "metadata": {},
   "outputs": [
    {
     "data": {
      "text/plain": [
       "array([94, 85, 80, 93, 75, 85, 76, 80, 74, 76, 88, 75, 87, 69, 62, 87, 99,\n",
       "       97, 66, 74, 64, 70, 80])"
      ]
     },
     "execution_count": 120,
     "metadata": {},
     "output_type": "execute_result"
    }
   ],
   "source": [
    "arr[arr>60]"
   ]
  },
  {
   "cell_type": "code",
   "execution_count": 122,
   "id": "c964a336-ad84-491b-a427-6f3bd356025e",
   "metadata": {},
   "outputs": [
    {
     "data": {
      "text/plain": [
       "23"
      ]
     },
     "execution_count": 122,
     "metadata": {},
     "output_type": "execute_result"
    }
   ],
   "source": [
    "np.sum(arr>60)"
   ]
  },
  {
   "cell_type": "code",
   "execution_count": 125,
   "id": "73f261bf-1818-4035-a11c-3fc2585a8ff3",
   "metadata": {},
   "outputs": [
    {
     "data": {
      "text/plain": [
       "1836"
      ]
     },
     "execution_count": 125,
     "metadata": {},
     "output_type": "execute_result"
    }
   ],
   "source": [
    "np.sum(arr[arr>60])"
   ]
  },
  {
   "cell_type": "code",
   "execution_count": 126,
   "id": "1dae4ff3-d85d-408b-a347-341cc98001d8",
   "metadata": {},
   "outputs": [
    {
     "data": {
      "text/plain": [
       "array([[94, 85, 53, 59, 80, 16, 26],\n",
       "       [44, 93, 75, 85, 76, 47, 28],\n",
       "       [53,  7, 80, 34,  5, 25, 52],\n",
       "       [74, 76, 48, 24, 88, 30, 48],\n",
       "       [75, 87, 69, 62, 15, 87, 45],\n",
       "       [99, 60, 97, 33, 66, 74, 44],\n",
       "       [32, 40, 55, 48, 42, 45, 20],\n",
       "       [55, 64, 70, 16, 15, 40, 80]])"
      ]
     },
     "execution_count": 126,
     "metadata": {},
     "output_type": "execute_result"
    }
   ],
   "source": [
    "arr"
   ]
  },
  {
   "cell_type": "code",
   "execution_count": 135,
   "id": "b4355903-5b41-458e-924d-cebab0a8b551",
   "metadata": {},
   "outputs": [
    {
     "data": {
      "text/plain": [
       "3"
      ]
     },
     "execution_count": 135,
     "metadata": {},
     "output_type": "execute_result"
    }
   ],
   "source": [
    "np.sum(arr[2]>50)"
   ]
  },
  {
   "cell_type": "code",
   "execution_count": 129,
   "id": "32b1f665-fa70-46a4-bb98-6a94b5d8b44b",
   "metadata": {},
   "outputs": [
    {
     "data": {
      "text/plain": [
       "array([53, 80, 52])"
      ]
     },
     "execution_count": 129,
     "metadata": {},
     "output_type": "execute_result"
    }
   ],
   "source": [
    "arr[2][arr[2]>50]"
   ]
  },
  {
   "cell_type": "code",
   "execution_count": 130,
   "id": "30a28728-8732-41c8-852f-a3d985320c7d",
   "metadata": {},
   "outputs": [
    {
     "data": {
      "text/plain": [
       "array([ 7, 34,  5, 25])"
      ]
     },
     "execution_count": 130,
     "metadata": {},
     "output_type": "execute_result"
    }
   ],
   "source": [
    "arr[2][~(arr[2]>50)]"
   ]
  },
  {
   "cell_type": "code",
   "execution_count": 134,
   "id": "d87f6813-40e5-4522-a851-0e07e619d201",
   "metadata": {},
   "outputs": [
    {
     "data": {
      "text/plain": [
       "219"
      ]
     },
     "execution_count": 134,
     "metadata": {},
     "output_type": "execute_result"
    }
   ],
   "source": [
    "np.sum(arr[2][arr[2]>30])"
   ]
  },
  {
   "cell_type": "code",
   "execution_count": 136,
   "id": "0c261b03-6af9-446f-9ad9-ea65744b5487",
   "metadata": {},
   "outputs": [
    {
     "data": {
      "text/plain": [
       "array([[94, 85, 53, 59, 80, 16, 26],\n",
       "       [44, 93, 75, 85, 76, 47, 28],\n",
       "       [53,  7, 80, 34,  5, 25, 52],\n",
       "       [74, 76, 48, 24, 88, 30, 48],\n",
       "       [75, 87, 69, 62, 15, 87, 45],\n",
       "       [99, 60, 97, 33, 66, 74, 44],\n",
       "       [32, 40, 55, 48, 42, 45, 20],\n",
       "       [55, 64, 70, 16, 15, 40, 80]])"
      ]
     },
     "execution_count": 136,
     "metadata": {},
     "output_type": "execute_result"
    }
   ],
   "source": [
    "arr"
   ]
  },
  {
   "cell_type": "code",
   "execution_count": 138,
   "id": "fd691101-9506-4476-814a-7a82a7c84c98",
   "metadata": {},
   "outputs": [
    {
     "data": {
      "text/plain": [
       "array([1, 2, 3, 4, 5])"
      ]
     },
     "execution_count": 138,
     "metadata": {},
     "output_type": "execute_result"
    }
   ],
   "source": [
    "a=np.array([1,2,3,4,5])\n",
    "a"
   ]
  },
  {
   "cell_type": "code",
   "execution_count": 140,
   "id": "8ba5588f-9a74-44dc-badf-bbeb9c5c5a0a",
   "metadata": {},
   "outputs": [
    {
     "data": {
      "text/plain": [
       "array([1, 3, 5, 7, 9])"
      ]
     },
     "execution_count": 140,
     "metadata": {},
     "output_type": "execute_result"
    }
   ],
   "source": [
    "b=np.arange(1,10,2)\n",
    "b"
   ]
  },
  {
   "cell_type": "code",
   "execution_count": 141,
   "id": "3add0140-46d2-4ad5-96bf-5e9f6178f2f7",
   "metadata": {},
   "outputs": [
    {
     "data": {
      "text/plain": [
       "array([ 2,  5,  8, 11, 14])"
      ]
     },
     "execution_count": 141,
     "metadata": {},
     "output_type": "execute_result"
    }
   ],
   "source": [
    "a+b"
   ]
  },
  {
   "cell_type": "code",
   "execution_count": 142,
   "id": "0dcd13ed-421c-4fca-b763-f2a1794b2e34",
   "metadata": {},
   "outputs": [
    {
     "data": {
      "text/plain": [
       "array([ 0, -1, -2, -3, -4])"
      ]
     },
     "execution_count": 142,
     "metadata": {},
     "output_type": "execute_result"
    }
   ],
   "source": [
    "a-b"
   ]
  },
  {
   "cell_type": "code",
   "execution_count": 143,
   "id": "78e750ad-d64d-4789-94c9-b0934e653599",
   "metadata": {},
   "outputs": [
    {
     "data": {
      "text/plain": [
       "array([ 1,  6, 15, 28, 45])"
      ]
     },
     "execution_count": 143,
     "metadata": {},
     "output_type": "execute_result"
    }
   ],
   "source": [
    "a*b"
   ]
  },
  {
   "cell_type": "code",
   "execution_count": 144,
   "id": "33d9a2a4-e56a-46f1-a7cd-c5bf7bc6d8a8",
   "metadata": {},
   "outputs": [
    {
     "data": {
      "text/plain": [
       "array([1.        , 0.66666667, 0.6       , 0.57142857, 0.55555556])"
      ]
     },
     "execution_count": 144,
     "metadata": {},
     "output_type": "execute_result"
    }
   ],
   "source": [
    "a/b"
   ]
  },
  {
   "cell_type": "code",
   "execution_count": 145,
   "id": "807efe19-ebd5-4589-98e7-c73565c23caa",
   "metadata": {},
   "outputs": [
    {
     "data": {
      "text/plain": [
       "array([      1,       8,     243,   16384, 1953125])"
      ]
     },
     "execution_count": 145,
     "metadata": {},
     "output_type": "execute_result"
    }
   ],
   "source": [
    "a**b"
   ]
  },
  {
   "cell_type": "code",
   "execution_count": 146,
   "id": "4c799cbd-fac1-431c-ace5-e027746740d2",
   "metadata": {},
   "outputs": [
    {
     "data": {
      "text/plain": [
       "array([0, 2, 3, 4, 5])"
      ]
     },
     "execution_count": 146,
     "metadata": {},
     "output_type": "execute_result"
    }
   ],
   "source": [
    "a%b"
   ]
  },
  {
   "cell_type": "code",
   "execution_count": 147,
   "id": "3e894ccd-0f75-4e91-90d5-2f6cc4b14cf9",
   "metadata": {},
   "outputs": [
    {
     "data": {
      "text/plain": [
       "array([ 0.84147098,  0.90929743,  0.14112001, -0.7568025 , -0.95892427])"
      ]
     },
     "execution_count": 147,
     "metadata": {},
     "output_type": "execute_result"
    }
   ],
   "source": [
    "np.sin(a)"
   ]
  },
  {
   "cell_type": "code",
   "execution_count": 148,
   "id": "d3b0e08d-f676-444c-ab0a-1798159d33cd",
   "metadata": {},
   "outputs": [
    {
     "data": {
      "text/plain": [
       "array([ 0.54030231, -0.9899925 ,  0.28366219,  0.75390225, -0.91113026])"
      ]
     },
     "execution_count": 148,
     "metadata": {},
     "output_type": "execute_result"
    }
   ],
   "source": [
    "np.cos(b)"
   ]
  },
  {
   "cell_type": "code",
   "execution_count": 149,
   "id": "1358f9a0-8737-41a4-abc1-f0c5c7cc3676",
   "metadata": {},
   "outputs": [
    {
     "data": {
      "text/plain": [
       "array([0.        , 0.69314718, 1.09861229, 1.38629436, 1.60943791])"
      ]
     },
     "execution_count": 149,
     "metadata": {},
     "output_type": "execute_result"
    }
   ],
   "source": [
    "np.log(a)"
   ]
  },
  {
   "cell_type": "code",
   "execution_count": 150,
   "id": "c90a9209-1248-4ec4-8e2d-4a12b67b9616",
   "metadata": {},
   "outputs": [
    {
     "data": {
      "text/plain": [
       "array([1, 3, 5, 7, 9], dtype=int64)"
      ]
     },
     "execution_count": 150,
     "metadata": {},
     "output_type": "execute_result"
    }
   ],
   "source": [
    "np.longlong(b)"
   ]
  },
  {
   "cell_type": "code",
   "execution_count": 153,
   "id": "ca110936-cc94-4c29-b976-37e060ac1c19",
   "metadata": {},
   "outputs": [
    {
     "data": {
      "text/plain": [
       "array([[27, 16, 11, 15,  4],\n",
       "       [34, 15, 42,  5,  5],\n",
       "       [38, 48, 18, 37, 15]])"
      ]
     },
     "execution_count": 153,
     "metadata": {},
     "output_type": "execute_result"
    }
   ],
   "source": [
    "x=np.random.randint(1,50,(3,5))\n",
    "x"
   ]
  },
  {
   "cell_type": "code",
   "execution_count": 171,
   "id": "680fcd1f-ca87-4b41-80e5-6a6f8820b230",
   "metadata": {},
   "outputs": [
    {
     "data": {
      "text/plain": [
       "array([[45, 28, 30, 46, 16,  2],\n",
       "       [44, 11, 37, 24,  1,  4],\n",
       "       [37,  6,  5, 10, 49, 18],\n",
       "       [ 6,  3, 33, 29, 43,  2],\n",
       "       [49, 25, 19,  1, 12, 43]])"
      ]
     },
     "execution_count": 171,
     "metadata": {},
     "output_type": "execute_result"
    }
   ],
   "source": [
    "y=np.random.randint(1,50,(5,6))\n",
    "y"
   ]
  },
  {
   "cell_type": "code",
   "execution_count": 172,
   "id": "9ca31923-d86a-43b4-8604-75062e9136c4",
   "metadata": {},
   "outputs": [
    {
     "data": {
      "text/plain": [
       "array([[2612, 1143, 2028, 2175, 1680,  518],\n",
       "       [4019, 1509, 2045, 2494, 2892, 1109],\n",
       "       [5445, 2186, 4512, 4168, 3309, 1311]])"
      ]
     },
     "execution_count": 172,
     "metadata": {},
     "output_type": "execute_result"
    }
   ],
   "source": [
    "np.dot(x,y)"
   ]
  },
  {
   "cell_type": "code",
   "execution_count": 174,
   "id": "b16e5e70-b469-4db5-833f-85c91a4d04e8",
   "metadata": {},
   "outputs": [
    {
     "data": {
      "text/plain": [
       "array([ 1,  6, 11, 16, 21, 26, 31, 36, 41, 46, 51, 56, 61, 66, 71, 76, 81,\n",
       "       86, 91, 96])"
      ]
     },
     "execution_count": 174,
     "metadata": {},
     "output_type": "execute_result"
    }
   ],
   "source": [
    "c=np.arange(1,100,5)\n",
    "c"
   ]
  },
  {
   "cell_type": "code",
   "execution_count": 181,
   "id": "6930aa07-3db3-4580-9804-0e6516517be3",
   "metadata": {},
   "outputs": [
    {
     "data": {
      "text/plain": [
       "array([[ 1,  6, 11, 16],\n",
       "       [21, 26, 31, 36],\n",
       "       [41, 46, 51, 56],\n",
       "       [61, 66, 71, 76],\n",
       "       [81, 86, 91, 96]])"
      ]
     },
     "execution_count": 181,
     "metadata": {},
     "output_type": "execute_result"
    }
   ],
   "source": [
    "x=np.reshape(c,(5,4))\n",
    "x"
   ]
  },
  {
   "cell_type": "code",
   "execution_count": 192,
   "id": "477e2f87-4563-459b-baa7-8bdeaac6cdf0",
   "metadata": {},
   "outputs": [
    {
     "data": {
      "text/plain": [
       "array([ 1,  6, 11, 16, 21, 26, 31, 36, 41, 46, 51, 56, 61, 66, 71, 76, 81,\n",
       "       86, 91, 96])"
      ]
     },
     "execution_count": 192,
     "metadata": {},
     "output_type": "execute_result"
    }
   ],
   "source": [
    "x.flatten()"
   ]
  },
  {
   "cell_type": "code",
   "execution_count": null,
   "id": "6131e766-8196-466e-bd89-29ce8d5624ac",
   "metadata": {},
   "outputs": [],
   "source": []
  },
  {
   "cell_type": "code",
   "execution_count": 193,
   "id": "fbe39b7e-bf77-4e93-8dfd-2fbf38a89d5b",
   "metadata": {},
   "outputs": [
    {
     "data": {
      "text/plain": [
       "array([1.        , 2.44948974, 3.31662479, 4.        , 4.58257569,\n",
       "       5.09901951, 5.56776436, 6.        , 6.40312424, 6.78232998,\n",
       "       7.14142843, 7.48331477, 7.81024968, 8.1240384 , 8.42614977,\n",
       "       8.71779789, 9.        , 9.2736185 , 9.53939201, 9.79795897])"
      ]
     },
     "execution_count": 193,
     "metadata": {},
     "output_type": "execute_result"
    }
   ],
   "source": [
    "np.sqrt(y)"
   ]
  },
  {
   "cell_type": "code",
   "execution_count": 194,
   "id": "232890ae-b58c-4da6-9846-85ec757ad2da",
   "metadata": {},
   "outputs": [
    {
     "data": {
      "text/plain": [
       "array([1.        , 2.44948974, 3.31662479, 4.        , 4.58257569,\n",
       "       5.09901951, 5.56776436, 6.        , 6.40312424, 6.78232998,\n",
       "       7.14142843, 7.48331477, 7.81024968, 8.1240384 , 8.42614977,\n",
       "       8.71779789, 9.        , 9.2736185 , 9.53939201, 9.79795897])"
      ]
     },
     "execution_count": 194,
     "metadata": {},
     "output_type": "execute_result"
    }
   ],
   "source": [
    "np.sqrt(x)"
   ]
  },
  {
   "cell_type": "code",
   "execution_count": 196,
   "id": "39164108-085c-4488-b4b8-5d1ac569fe2f",
   "metadata": {},
   "outputs": [
    {
     "data": {
      "text/plain": [
       "array([ 1,  6, 11, 16, 21, 26, 31, 36, 41, 46, 51, 56, 61, 66, 71, 76, 81,\n",
       "       86, 91, 96])"
      ]
     },
     "execution_count": 196,
     "metadata": {},
     "output_type": "execute_result"
    }
   ],
   "source": [
    "x"
   ]
  },
  {
   "cell_type": "code",
   "execution_count": 203,
   "id": "b4aef901-a753-4dc3-9ab5-9c3c060b02ef",
   "metadata": {},
   "outputs": [],
   "source": [
    "y=np.reshape(x,(4,5))"
   ]
  },
  {
   "cell_type": "code",
   "execution_count": 204,
   "id": "1382726f-fc2e-4d7f-8ee2-825e5529fd0c",
   "metadata": {},
   "outputs": [
    {
     "data": {
      "text/plain": [
       "970"
      ]
     },
     "execution_count": 204,
     "metadata": {},
     "output_type": "execute_result"
    }
   ],
   "source": [
    "np.sum(y)"
   ]
  },
  {
   "cell_type": "code",
   "execution_count": 205,
   "id": "e6752307-57fa-4b1e-938a-5f6b4949f503",
   "metadata": {},
   "outputs": [
    {
     "data": {
      "text/plain": [
       "array([154, 174, 194, 214, 234])"
      ]
     },
     "execution_count": 205,
     "metadata": {},
     "output_type": "execute_result"
    }
   ],
   "source": [
    "np.sum(y,0)"
   ]
  },
  {
   "cell_type": "code",
   "execution_count": 207,
   "id": "48463703-028d-43fb-8d3a-cb98872f64e8",
   "metadata": {},
   "outputs": [
    {
     "data": {
      "text/plain": [
       "array([ 55, 180, 305, 430])"
      ]
     },
     "execution_count": 207,
     "metadata": {},
     "output_type": "execute_result"
    }
   ],
   "source": [
    "np.sum(y,axis=1)"
   ]
  },
  {
   "cell_type": "code",
   "execution_count": 208,
   "id": "d15916df-1f19-47a6-b2ec-af60c63a9ef8",
   "metadata": {},
   "outputs": [
    {
     "data": {
      "text/plain": [
       "array([[ 1,  6, 11, 16, 21],\n",
       "       [26, 31, 36, 41, 46],\n",
       "       [51, 56, 61, 66, 71],\n",
       "       [76, 81, 86, 91, 96]])"
      ]
     },
     "execution_count": 208,
     "metadata": {},
     "output_type": "execute_result"
    }
   ],
   "source": [
    "y"
   ]
  },
  {
   "cell_type": "code",
   "execution_count": 209,
   "id": "e1fac913-20c4-492d-a5b3-862823ec391f",
   "metadata": {},
   "outputs": [
    {
     "data": {
      "text/plain": [
       "1"
      ]
     },
     "execution_count": 209,
     "metadata": {},
     "output_type": "execute_result"
    }
   ],
   "source": [
    "np.min(y)"
   ]
  },
  {
   "cell_type": "code",
   "execution_count": 210,
   "id": "f7234f56-e466-4e87-a791-ab1705afea52",
   "metadata": {},
   "outputs": [
    {
     "data": {
      "text/plain": [
       "96"
      ]
     },
     "execution_count": 210,
     "metadata": {},
     "output_type": "execute_result"
    }
   ],
   "source": [
    "np.max(y)"
   ]
  },
  {
   "cell_type": "code",
   "execution_count": 211,
   "id": "65fcff23-5bf7-4629-8734-8fad5fb1dad4",
   "metadata": {},
   "outputs": [
    {
     "data": {
      "text/plain": [
       "array([21, 46, 71, 96])"
      ]
     },
     "execution_count": 211,
     "metadata": {},
     "output_type": "execute_result"
    }
   ],
   "source": [
    "np.max(y,1)"
   ]
  },
  {
   "cell_type": "code",
   "execution_count": 212,
   "id": "0c81b961-057d-42e2-8f8e-57bd445c4d99",
   "metadata": {},
   "outputs": [
    {
     "data": {
      "text/plain": [
       "array([21, 46, 71, 96])"
      ]
     },
     "execution_count": 212,
     "metadata": {},
     "output_type": "execute_result"
    }
   ],
   "source": [
    "np.max(y, axis=1)"
   ]
  },
  {
   "cell_type": "code",
   "execution_count": 213,
   "id": "83eaaa3e-763e-4499-a98d-3d9b5ac6a1b4",
   "metadata": {},
   "outputs": [
    {
     "data": {
      "text/plain": [
       "array([ 1,  6, 11, 16, 21])"
      ]
     },
     "execution_count": 213,
     "metadata": {},
     "output_type": "execute_result"
    }
   ],
   "source": [
    "np.min(y,0)"
   ]
  },
  {
   "cell_type": "code",
   "execution_count": 214,
   "id": "1995120b-7740-48c1-b243-3f415d13847f",
   "metadata": {},
   "outputs": [
    {
     "data": {
      "text/plain": [
       "28.83140648667699"
      ]
     },
     "execution_count": 214,
     "metadata": {},
     "output_type": "execute_result"
    }
   ],
   "source": [
    "np.std(y)"
   ]
  },
  {
   "cell_type": "code",
   "execution_count": 215,
   "id": "53164010-ebc8-4c6e-ba56-f58f79cbdc5a",
   "metadata": {},
   "outputs": [
    {
     "data": {
      "text/plain": [
       "array([27.95084972, 27.95084972, 27.95084972, 27.95084972, 27.95084972])"
      ]
     },
     "execution_count": 215,
     "metadata": {},
     "output_type": "execute_result"
    }
   ],
   "source": [
    "np.std(y,axis=0)"
   ]
  },
  {
   "cell_type": "code",
   "execution_count": 216,
   "id": "2314b55e-40e5-48fc-8fe3-dbb8710f6ec3",
   "metadata": {},
   "outputs": [
    {
     "data": {
      "text/plain": [
       "array([7.07106781, 7.07106781, 7.07106781, 7.07106781])"
      ]
     },
     "execution_count": 216,
     "metadata": {},
     "output_type": "execute_result"
    }
   ],
   "source": [
    "np.std(y,axis=1)"
   ]
  },
  {
   "cell_type": "code",
   "execution_count": 217,
   "id": "7b53693d-d145-459d-9517-cee7b32ab728",
   "metadata": {},
   "outputs": [
    {
     "data": {
      "text/plain": [
       "array([ 1,  6, 11, 16, 21, 26, 31, 36, 41, 46, 51, 56, 61, 66, 71, 76, 81,\n",
       "       86, 91, 96])"
      ]
     },
     "execution_count": 217,
     "metadata": {},
     "output_type": "execute_result"
    }
   ],
   "source": [
    "x"
   ]
  },
  {
   "cell_type": "code",
   "execution_count": 218,
   "id": "2dda735d-a8e2-43f1-b028-b7c4b854746c",
   "metadata": {},
   "outputs": [
    {
     "data": {
      "text/plain": [
       "48.5"
      ]
     },
     "execution_count": 218,
     "metadata": {},
     "output_type": "execute_result"
    }
   ],
   "source": [
    "np.mean(x)"
   ]
  },
  {
   "cell_type": "code",
   "execution_count": 219,
   "id": "01b78f2e-0dca-41f4-b01d-355fbe6c1292",
   "metadata": {},
   "outputs": [
    {
     "data": {
      "text/plain": [
       "2.0"
      ]
     },
     "execution_count": 219,
     "metadata": {},
     "output_type": "execute_result"
    }
   ],
   "source": [
    "np.mean([1,2,3])"
   ]
  },
  {
   "cell_type": "code",
   "execution_count": 220,
   "id": "dd7baea9-e475-474d-a439-0fb4ddfbadf1",
   "metadata": {},
   "outputs": [
    {
     "data": {
      "text/plain": [
       "array([[ 1,  6, 11, 16, 21],\n",
       "       [26, 31, 36, 41, 46],\n",
       "       [51, 56, 61, 66, 71],\n",
       "       [76, 81, 86, 91, 96]])"
      ]
     },
     "execution_count": 220,
     "metadata": {},
     "output_type": "execute_result"
    }
   ],
   "source": [
    "y\n"
   ]
  },
  {
   "cell_type": "code",
   "execution_count": 221,
   "id": "c2085ddd-1bed-4661-a32c-4247588ec42c",
   "metadata": {},
   "outputs": [
    {
     "data": {
      "text/plain": [
       "array([[ 1, 26, 51, 76],\n",
       "       [ 6, 31, 56, 81],\n",
       "       [11, 36, 61, 86],\n",
       "       [16, 41, 66, 91],\n",
       "       [21, 46, 71, 96]])"
      ]
     },
     "execution_count": 221,
     "metadata": {},
     "output_type": "execute_result"
    }
   ],
   "source": [
    "np.transpose(y)"
   ]
  },
  {
   "cell_type": "code",
   "execution_count": 223,
   "id": "6ef900a0-add8-4c7b-9bea-4841484d14bd",
   "metadata": {},
   "outputs": [
    {
     "data": {
      "text/plain": [
       "array([[21, 29, 19, 43, 24],\n",
       "       [43, 20, 18, 16, 24],\n",
       "       [12, 38, 49, 45, 20],\n",
       "       [17, 48, 31, 13, 41]])"
      ]
     },
     "execution_count": 223,
     "metadata": {},
     "output_type": "execute_result"
    }
   ],
   "source": [
    "x=np.random.randint(1,50,(4,5))\n",
    "x"
   ]
  },
  {
   "cell_type": "code",
   "execution_count": 233,
   "id": "03666f4a-b5cd-407a-90b3-6cb7e95a7507",
   "metadata": {},
   "outputs": [
    {
     "data": {
      "text/plain": [
       "array([[15, 40, 16, 28, 34],\n",
       "       [30, 45, 28, 31, 29],\n",
       "       [42, 19,  3, 16, 34],\n",
       "       [36, 17, 44, 47, 24]])"
      ]
     },
     "execution_count": 233,
     "metadata": {},
     "output_type": "execute_result"
    }
   ],
   "source": [
    "y=np.random.randint(1,50,(4,5))\n",
    "y"
   ]
  },
  {
   "cell_type": "code",
   "execution_count": 234,
   "id": "126e3d36-391a-4871-82f6-9f38d271fd26",
   "metadata": {},
   "outputs": [
    {
     "data": {
      "text/plain": [
       "array([[21, 29, 19, 43, 24, 15, 40, 16, 28, 34],\n",
       "       [43, 20, 18, 16, 24, 30, 45, 28, 31, 29],\n",
       "       [12, 38, 49, 45, 20, 42, 19,  3, 16, 34],\n",
       "       [17, 48, 31, 13, 41, 36, 17, 44, 47, 24]])"
      ]
     },
     "execution_count": 234,
     "metadata": {},
     "output_type": "execute_result"
    }
   ],
   "source": [
    "np.hstack((x,y))"
   ]
  },
  {
   "cell_type": "code",
   "execution_count": 236,
   "id": "5604f1f7-60e4-4117-a3c0-fa63f56c77d7",
   "metadata": {},
   "outputs": [
    {
     "data": {
      "text/plain": [
       "array([[26, 12, 38, 22, 15],\n",
       "       [42, 42,  6, 32, 12],\n",
       "       [19, 24, 20, 33,  2],\n",
       "       [37, 39, 44, 33, 22],\n",
       "       [ 9, 19, 18, 34, 38]])"
      ]
     },
     "execution_count": 236,
     "metadata": {},
     "output_type": "execute_result"
    }
   ],
   "source": [
    "a=np.random.randint(1,45,(5,5))\n",
    "a"
   ]
  },
  {
   "cell_type": "code",
   "execution_count": 239,
   "id": "b06b0876-f4bc-4398-816d-f270320d46a9",
   "metadata": {},
   "outputs": [
    {
     "data": {
      "text/plain": [
       "array([[29, 19, 15, 20, 12],\n",
       "       [25, 32, 24, 22, 20],\n",
       "       [18,  1, 25, 15,  6],\n",
       "       [ 6, 18, 26, 19, 22],\n",
       "       [ 5, 30, 32, 14, 13]])"
      ]
     },
     "execution_count": 239,
     "metadata": {},
     "output_type": "execute_result"
    }
   ],
   "source": [
    "b=np.random.randint(1,34,(5,5))\n",
    "b"
   ]
  },
  {
   "cell_type": "code",
   "execution_count": 240,
   "id": "c754aa6b-f9b2-486c-af2d-424f64214fad",
   "metadata": {},
   "outputs": [
    {
     "data": {
      "text/plain": [
       "array([[26, 12, 38, 22, 15],\n",
       "       [42, 42,  6, 32, 12],\n",
       "       [19, 24, 20, 33,  2],\n",
       "       [37, 39, 44, 33, 22],\n",
       "       [ 9, 19, 18, 34, 38],\n",
       "       [29, 19, 15, 20, 12],\n",
       "       [25, 32, 24, 22, 20],\n",
       "       [18,  1, 25, 15,  6],\n",
       "       [ 6, 18, 26, 19, 22],\n",
       "       [ 5, 30, 32, 14, 13]])"
      ]
     },
     "execution_count": 240,
     "metadata": {},
     "output_type": "execute_result"
    }
   ],
   "source": [
    "np.vstack((a,b))"
   ]
  },
  {
   "cell_type": "code",
   "execution_count": 241,
   "id": "176de106-4c1c-4eca-8e4f-2c99cd809eb5",
   "metadata": {},
   "outputs": [],
   "source": [
    "#broadcasting"
   ]
  },
  {
   "cell_type": "code",
   "execution_count": 242,
   "id": "417ac60b-70a1-4e24-a88e-3f72100e3723",
   "metadata": {},
   "outputs": [
    {
     "data": {
      "text/plain": [
       "array([[32, 44, 12, 37, 12, 11],\n",
       "       [ 6, 14, 16, 43, 25, 35],\n",
       "       [ 5,  8, 29, 12, 23, 35],\n",
       "       [14, 34, 16,  8, 34, 18],\n",
       "       [44,  6, 15, 29, 31,  4]])"
      ]
     },
     "execution_count": 242,
     "metadata": {},
     "output_type": "execute_result"
    }
   ],
   "source": [
    "z=np.random.randint(2,45, size=(5,6))\n",
    "z"
   ]
  },
  {
   "cell_type": "code",
   "execution_count": 250,
   "id": "2ca3f4d2-9de9-48e1-a544-90bc3cc118b6",
   "metadata": {},
   "outputs": [
    {
     "data": {
      "text/plain": [
       "array([2, 2, 3, 4, 5, 6])"
      ]
     },
     "execution_count": 250,
     "metadata": {},
     "output_type": "execute_result"
    }
   ],
   "source": [
    "d=np.array([2,2,3,4,5,6])\n",
    "d"
   ]
  },
  {
   "cell_type": "code",
   "execution_count": 248,
   "id": "97dbc99d-ced2-4d38-9ff0-ffcc1daac027",
   "metadata": {},
   "outputs": [
    {
     "data": {
      "text/plain": [
       "(5, 6)"
      ]
     },
     "execution_count": 248,
     "metadata": {},
     "output_type": "execute_result"
    }
   ],
   "source": [
    "z.shape"
   ]
  },
  {
   "cell_type": "code",
   "execution_count": 251,
   "id": "5081335e-7df2-4367-992e-e4a740fbb6a1",
   "metadata": {},
   "outputs": [
    {
     "data": {
      "text/plain": [
       "(6,)"
      ]
     },
     "execution_count": 251,
     "metadata": {},
     "output_type": "execute_result"
    }
   ],
   "source": [
    "d.shape"
   ]
  },
  {
   "cell_type": "code",
   "execution_count": 252,
   "id": "7a287e49-4018-4661-b7f4-febb7d605fc9",
   "metadata": {},
   "outputs": [
    {
     "data": {
      "text/plain": [
       "array([[34, 46, 15, 41, 17, 17],\n",
       "       [ 8, 16, 19, 47, 30, 41],\n",
       "       [ 7, 10, 32, 16, 28, 41],\n",
       "       [16, 36, 19, 12, 39, 24],\n",
       "       [46,  8, 18, 33, 36, 10]])"
      ]
     },
     "execution_count": 252,
     "metadata": {},
     "output_type": "execute_result"
    }
   ],
   "source": [
    "z+d"
   ]
  },
  {
   "cell_type": "code",
   "execution_count": 253,
   "id": "9890d80d-1bc4-4bd5-b577-79a762efec35",
   "metadata": {},
   "outputs": [
    {
     "data": {
      "text/plain": [
       "array([[34, 46, 15, 41, 17, 17],\n",
       "       [ 8, 16, 19, 47, 30, 41],\n",
       "       [ 7, 10, 32, 16, 28, 41],\n",
       "       [16, 36, 19, 12, 39, 24],\n",
       "       [46,  8, 18, 33, 36, 10]])"
      ]
     },
     "execution_count": 253,
     "metadata": {},
     "output_type": "execute_result"
    }
   ],
   "source": [
    "d+z"
   ]
  },
  {
   "cell_type": "code",
   "execution_count": 254,
   "id": "02fcca3f-59a2-4b39-868c-d84cbee910be",
   "metadata": {},
   "outputs": [],
   "source": [
    "a=[1,2,3,4,4,55,66,66,6]"
   ]
  },
  {
   "cell_type": "code",
   "execution_count": 255,
   "id": "bb180f0c-daed-46c1-8ebc-8e6e1daa3c9f",
   "metadata": {},
   "outputs": [],
   "source": [
    "b=[3,4,5,6,77,4,333,32,2]"
   ]
  },
  {
   "cell_type": "code",
   "execution_count": 257,
   "id": "1cc0d213-65d5-4619-aea8-34f68e1e439a",
   "metadata": {},
   "outputs": [
    {
     "data": {
      "text/plain": [
       "array([ 1,  2,  3,  4,  4, 55, 66, 66,  6])"
      ]
     },
     "execution_count": 257,
     "metadata": {},
     "output_type": "execute_result"
    }
   ],
   "source": [
    "c=np.array(a)\n",
    "c"
   ]
  },
  {
   "cell_type": "code",
   "execution_count": 260,
   "id": "8979e05e-964a-4c78-8216-3fdd5e843ed9",
   "metadata": {},
   "outputs": [
    {
     "data": {
      "text/plain": [
       "array([  3,   4,   5,   6,  77,   4, 333,  32,   2])"
      ]
     },
     "execution_count": 260,
     "metadata": {},
     "output_type": "execute_result"
    }
   ],
   "source": [
    "d=np.array(b)\n",
    "d"
   ]
  },
  {
   "cell_type": "code",
   "execution_count": 264,
   "id": "055321f2-15eb-4e94-8657-b2a3f1b61083",
   "metadata": {},
   "outputs": [
    {
     "data": {
      "text/plain": [
       "283.56128085477394"
      ]
     },
     "execution_count": 264,
     "metadata": {},
     "output_type": "execute_result"
    }
   ],
   "source": [
    "np.sqrt(np.sum(np.square(d-c)))"
   ]
  },
  {
   "cell_type": "code",
   "execution_count": 317,
   "id": "49c61091-527c-4715-9886-726c0d8a83b4",
   "metadata": {},
   "outputs": [
    {
     "data": {
      "text/plain": [
       "array([[ 2,  3,  4,  5, 56,  6,  6],\n",
       "       [ 3, 45,  6,  6, 67, 45,  4],\n",
       "       [ 3,  4,  5,  6,  7,  7,  8]])"
      ]
     },
     "execution_count": 317,
     "metadata": {},
     "output_type": "execute_result"
    }
   ],
   "source": [
    "a=[2,3,4,5,56,6,6]\n",
    "b=[3,45,6,6,67,45,4]\n",
    "c=[3,4,5,6,7,7,8]\n",
    "arr=np.array([a,b,c])\n",
    "arr"
   ]
  },
  {
   "cell_type": "code",
   "execution_count": 334,
   "id": "c8e7a833-ced0-4650-9b68-363831148e8f",
   "metadata": {},
   "outputs": [
    {
     "data": {
      "text/plain": [
       "array([ 3, 45,  4])"
      ]
     },
     "execution_count": 334,
     "metadata": {},
     "output_type": "execute_result"
    }
   ],
   "source": [
    "arr[:,1]"
   ]
  },
  {
   "cell_type": "code",
   "execution_count": 348,
   "id": "0332a213-e4b1-44f6-84b4-5e046f29a559",
   "metadata": {},
   "outputs": [
    {
     "data": {
      "text/plain": [
       "array([[45,  4],\n",
       "       [ 7,  8]])"
      ]
     },
     "execution_count": 348,
     "metadata": {},
     "output_type": "execute_result"
    }
   ],
   "source": [
    "arr[1:,5:]"
   ]
  },
  {
   "cell_type": "code",
   "execution_count": 318,
   "id": "f8fa880d-b453-41c4-b866-4d63e6b0a20e",
   "metadata": {},
   "outputs": [
    {
     "data": {
      "text/plain": [
       "[2, 3, 4, 5, 56, 6, 6]"
      ]
     },
     "execution_count": 318,
     "metadata": {},
     "output_type": "execute_result"
    }
   ],
   "source": [
    "a"
   ]
  },
  {
   "cell_type": "code",
   "execution_count": 319,
   "id": "cc920e23-5b56-46b4-bdc3-e3f174b9fa0e",
   "metadata": {},
   "outputs": [
    {
     "data": {
      "text/plain": [
       "list"
      ]
     },
     "execution_count": 319,
     "metadata": {},
     "output_type": "execute_result"
    }
   ],
   "source": [
    "type(a)"
   ]
  },
  {
   "cell_type": "code",
   "execution_count": 325,
   "id": "81f1ae61-6387-4f07-bd82-325179049e5c",
   "metadata": {},
   "outputs": [],
   "source": [
    "a1=np.array(a)"
   ]
  },
  {
   "cell_type": "code",
   "execution_count": 331,
   "id": "ca3fb8a3-643b-42cb-9909-8623909c5469",
   "metadata": {},
   "outputs": [
    {
     "data": {
      "text/plain": [
       "array([ 2,  3,  4,  5, 56,  6])"
      ]
     },
     "execution_count": 331,
     "metadata": {},
     "output_type": "execute_result"
    }
   ],
   "source": [
    "a1[:-1]"
   ]
  },
  {
   "cell_type": "code",
   "execution_count": 327,
   "id": "a6764027-33ee-4ec2-8bf1-991879011390",
   "metadata": {},
   "outputs": [
    {
     "data": {
      "text/plain": [
       "numpy.ndarray"
      ]
     },
     "execution_count": 327,
     "metadata": {},
     "output_type": "execute_result"
    }
   ],
   "source": [
    "type(a1)"
   ]
  },
  {
   "cell_type": "code",
   "execution_count": 332,
   "id": "9d603565-7630-4205-bb81-1e0cb8b88d15",
   "metadata": {},
   "outputs": [
    {
     "data": {
      "text/plain": [
       "array([ 6,  6, 56,  5,  4,  3,  2])"
      ]
     },
     "execution_count": 332,
     "metadata": {},
     "output_type": "execute_result"
    }
   ],
   "source": [
    "a1[::-1]"
   ]
  },
  {
   "cell_type": "code",
   "execution_count": 349,
   "id": "3c5b34b8-70d3-47b6-b65b-0439a0d3e705",
   "metadata": {},
   "outputs": [
    {
     "data": {
      "text/plain": [
       "array([ 6, 56,  4,  2])"
      ]
     },
     "execution_count": 349,
     "metadata": {},
     "output_type": "execute_result"
    }
   ],
   "source": [
    "a1[::-2]"
   ]
  },
  {
   "cell_type": "code",
   "execution_count": null,
   "id": "5bb9b541-2fa0-44fc-91d3-862a8179bc1e",
   "metadata": {},
   "outputs": [],
   "source": []
  },
  {
   "cell_type": "code",
   "execution_count": null,
   "id": "2bd4bf0f-86a8-4f73-a05e-09dfeda8a795",
   "metadata": {},
   "outputs": [],
   "source": []
  },
  {
   "cell_type": "code",
   "execution_count": null,
   "id": "41f44656-975d-40d5-bcb0-8356f9c2a88f",
   "metadata": {},
   "outputs": [],
   "source": []
  },
  {
   "cell_type": "code",
   "execution_count": null,
   "id": "2e584ec3-5721-4f90-bc67-f9d09002ea80",
   "metadata": {},
   "outputs": [],
   "source": []
  },
  {
   "cell_type": "code",
   "execution_count": null,
   "id": "f36ec4d6-3958-424e-8b22-9696dd4739ff",
   "metadata": {},
   "outputs": [],
   "source": []
  },
  {
   "cell_type": "markdown",
   "id": "9cf9bafa-4009-442f-94b9-e1146077371e",
   "metadata": {
    "jp-MarkdownHeadingCollapsed": true
   },
   "source": []
  },
  {
   "cell_type": "markdown",
   "id": "8203b64a-e372-4f31-9757-3176cfe730a7",
   "metadata": {},
   "source": [
    "<h1>pandas</h1>\n",
    "\n",
    "#pandas:----------------------------------->dataframe"
   ]
  },
  {
   "cell_type": "code",
   "execution_count": 276,
   "id": "3904f02b-faeb-4ccf-8bc7-9741473dd7aa",
   "metadata": {},
   "outputs": [],
   "source": [
    "st=['html','excel','python','power_bi','machine_learning','sql']"
   ]
  },
  {
   "cell_type": "code",
   "execution_count": 277,
   "id": "e1154b16-a7fb-452e-8ed9-c5cb41d2357c",
   "metadata": {},
   "outputs": [
    {
     "data": {
      "text/plain": [
       "['html', 'excel', 'python', 'power_bi', 'machine_learning', 'sql']"
      ]
     },
     "execution_count": 277,
     "metadata": {},
     "output_type": "execute_result"
    }
   ],
   "source": [
    "st"
   ]
  },
  {
   "cell_type": "code",
   "execution_count": 281,
   "id": "6423759f-6836-406e-8f10-034f2a12cc3c",
   "metadata": {},
   "outputs": [],
   "source": [
    "import pandas as pd"
   ]
  },
  {
   "cell_type": "code",
   "execution_count": 283,
   "id": "8c623b84-eb9f-4437-9dfa-9e7bb0badce3",
   "metadata": {},
   "outputs": [
    {
     "data": {
      "text/plain": [
       "0                html\n",
       "1               excel\n",
       "2              python\n",
       "3            power_bi\n",
       "4    machine_learning\n",
       "5                 sql\n",
       "dtype: object"
      ]
     },
     "execution_count": 283,
     "metadata": {},
     "output_type": "execute_result"
    }
   ],
   "source": [
    "d=pd.Series(st)\n",
    "d"
   ]
  },
  {
   "cell_type": "code",
   "execution_count": 285,
   "id": "ea936506-7cc2-489b-971b-c4832eb1ec51",
   "metadata": {},
   "outputs": [
    {
     "data": {
      "text/plain": [
       "'power_bi'"
      ]
     },
     "execution_count": 285,
     "metadata": {},
     "output_type": "execute_result"
    }
   ],
   "source": [
    "d[3]"
   ]
  },
  {
   "cell_type": "code",
   "execution_count": 290,
   "id": "6eccb74e-85b2-4705-a0f1-64f2b3d9a0b9",
   "metadata": {},
   "outputs": [],
   "source": [
    "d.index=['a','b','c','d','e','f']"
   ]
  },
  {
   "cell_type": "code",
   "execution_count": 291,
   "id": "c7f739f4-be23-4196-af97-dea609eef949",
   "metadata": {},
   "outputs": [
    {
     "data": {
      "text/plain": [
       "a                html\n",
       "b               excel\n",
       "c              python\n",
       "d            power_bi\n",
       "e    machine_learning\n",
       "f                 sql\n",
       "dtype: object"
      ]
     },
     "execution_count": 291,
     "metadata": {},
     "output_type": "execute_result"
    }
   ],
   "source": [
    "d"
   ]
  },
  {
   "cell_type": "code",
   "execution_count": 292,
   "id": "7ac461d0-4d6b-4b1a-9f74-e9bd005813be",
   "metadata": {},
   "outputs": [
    {
     "data": {
      "text/plain": [
       "'sql'"
      ]
     },
     "execution_count": 292,
     "metadata": {},
     "output_type": "execute_result"
    }
   ],
   "source": [
    "d['f']"
   ]
  },
  {
   "cell_type": "code",
   "execution_count": 293,
   "id": "2796b677-6379-41a2-a9b0-07863d85d29b",
   "metadata": {},
   "outputs": [
    {
     "name": "stderr",
     "output_type": "stream",
     "text": [
      "C:\\Users\\DELL\\AppData\\Local\\Temp\\ipykernel_16864\\1062201034.py:1: FutureWarning: Series.__getitem__ treating keys as positions is deprecated. In a future version, integer keys will always be treated as labels (consistent with DataFrame behavior). To access a value by position, use `ser.iloc[pos]`\n",
      "  d[-3]\n"
     ]
    },
    {
     "data": {
      "text/plain": [
       "'power_bi'"
      ]
     },
     "execution_count": 293,
     "metadata": {},
     "output_type": "execute_result"
    }
   ],
   "source": [
    "d[-3]"
   ]
  },
  {
   "cell_type": "code",
   "execution_count": 294,
   "id": "bbf299a6-c1c1-40b1-83d3-7e348f1809f9",
   "metadata": {},
   "outputs": [],
   "source": [
    "arr1=np.random.randint(1,100,(56,45))"
   ]
  },
  {
   "cell_type": "code",
   "execution_count": 295,
   "id": "c659268c-18a8-464b-8706-8f8b250f3791",
   "metadata": {},
   "outputs": [
    {
     "data": {
      "text/plain": [
       "array([[83, 64, 65, ..., 64, 36, 86],\n",
       "       [11, 58, 40, ..., 70,  7, 21],\n",
       "       [78, 44, 26, ..., 66, 94, 81],\n",
       "       ...,\n",
       "       [97, 97,  9, ..., 73, 48, 66],\n",
       "       [51, 26, 53, ..., 65, 31,  9],\n",
       "       [56, 86, 59, ..., 98, 10, 72]])"
      ]
     },
     "execution_count": 295,
     "metadata": {},
     "output_type": "execute_result"
    }
   ],
   "source": [
    "arr1"
   ]
  },
  {
   "cell_type": "code",
   "execution_count": 297,
   "id": "198800b5-bcb0-4b9b-9dd4-87956f967e28",
   "metadata": {},
   "outputs": [],
   "source": [
    "arr=pd.DataFrame(arr1)"
   ]
  },
  {
   "cell_type": "code",
   "execution_count": 298,
   "id": "f9a7ef96-b82b-456e-9c27-c63416bbd94d",
   "metadata": {},
   "outputs": [
    {
     "data": {
      "text/html": [
       "<div>\n",
       "<style scoped>\n",
       "    .dataframe tbody tr th:only-of-type {\n",
       "        vertical-align: middle;\n",
       "    }\n",
       "\n",
       "    .dataframe tbody tr th {\n",
       "        vertical-align: top;\n",
       "    }\n",
       "\n",
       "    .dataframe thead th {\n",
       "        text-align: right;\n",
       "    }\n",
       "</style>\n",
       "<table border=\"1\" class=\"dataframe\">\n",
       "  <thead>\n",
       "    <tr style=\"text-align: right;\">\n",
       "      <th></th>\n",
       "      <th>0</th>\n",
       "      <th>1</th>\n",
       "      <th>2</th>\n",
       "      <th>3</th>\n",
       "      <th>4</th>\n",
       "      <th>5</th>\n",
       "      <th>6</th>\n",
       "      <th>7</th>\n",
       "      <th>8</th>\n",
       "      <th>9</th>\n",
       "      <th>...</th>\n",
       "      <th>35</th>\n",
       "      <th>36</th>\n",
       "      <th>37</th>\n",
       "      <th>38</th>\n",
       "      <th>39</th>\n",
       "      <th>40</th>\n",
       "      <th>41</th>\n",
       "      <th>42</th>\n",
       "      <th>43</th>\n",
       "      <th>44</th>\n",
       "    </tr>\n",
       "  </thead>\n",
       "  <tbody>\n",
       "    <tr>\n",
       "      <th>0</th>\n",
       "      <td>83</td>\n",
       "      <td>64</td>\n",
       "      <td>65</td>\n",
       "      <td>21</td>\n",
       "      <td>76</td>\n",
       "      <td>73</td>\n",
       "      <td>67</td>\n",
       "      <td>74</td>\n",
       "      <td>13</td>\n",
       "      <td>83</td>\n",
       "      <td>...</td>\n",
       "      <td>19</td>\n",
       "      <td>20</td>\n",
       "      <td>2</td>\n",
       "      <td>99</td>\n",
       "      <td>32</td>\n",
       "      <td>61</td>\n",
       "      <td>58</td>\n",
       "      <td>64</td>\n",
       "      <td>36</td>\n",
       "      <td>86</td>\n",
       "    </tr>\n",
       "    <tr>\n",
       "      <th>1</th>\n",
       "      <td>11</td>\n",
       "      <td>58</td>\n",
       "      <td>40</td>\n",
       "      <td>43</td>\n",
       "      <td>30</td>\n",
       "      <td>46</td>\n",
       "      <td>61</td>\n",
       "      <td>72</td>\n",
       "      <td>51</td>\n",
       "      <td>70</td>\n",
       "      <td>...</td>\n",
       "      <td>50</td>\n",
       "      <td>67</td>\n",
       "      <td>14</td>\n",
       "      <td>64</td>\n",
       "      <td>15</td>\n",
       "      <td>99</td>\n",
       "      <td>73</td>\n",
       "      <td>70</td>\n",
       "      <td>7</td>\n",
       "      <td>21</td>\n",
       "    </tr>\n",
       "    <tr>\n",
       "      <th>2</th>\n",
       "      <td>78</td>\n",
       "      <td>44</td>\n",
       "      <td>26</td>\n",
       "      <td>88</td>\n",
       "      <td>7</td>\n",
       "      <td>46</td>\n",
       "      <td>12</td>\n",
       "      <td>59</td>\n",
       "      <td>51</td>\n",
       "      <td>3</td>\n",
       "      <td>...</td>\n",
       "      <td>84</td>\n",
       "      <td>71</td>\n",
       "      <td>52</td>\n",
       "      <td>48</td>\n",
       "      <td>77</td>\n",
       "      <td>61</td>\n",
       "      <td>9</td>\n",
       "      <td>66</td>\n",
       "      <td>94</td>\n",
       "      <td>81</td>\n",
       "    </tr>\n",
       "    <tr>\n",
       "      <th>3</th>\n",
       "      <td>14</td>\n",
       "      <td>24</td>\n",
       "      <td>71</td>\n",
       "      <td>99</td>\n",
       "      <td>42</td>\n",
       "      <td>67</td>\n",
       "      <td>65</td>\n",
       "      <td>24</td>\n",
       "      <td>94</td>\n",
       "      <td>23</td>\n",
       "      <td>...</td>\n",
       "      <td>23</td>\n",
       "      <td>7</td>\n",
       "      <td>33</td>\n",
       "      <td>26</td>\n",
       "      <td>96</td>\n",
       "      <td>24</td>\n",
       "      <td>13</td>\n",
       "      <td>48</td>\n",
       "      <td>88</td>\n",
       "      <td>6</td>\n",
       "    </tr>\n",
       "    <tr>\n",
       "      <th>4</th>\n",
       "      <td>10</td>\n",
       "      <td>8</td>\n",
       "      <td>82</td>\n",
       "      <td>75</td>\n",
       "      <td>62</td>\n",
       "      <td>75</td>\n",
       "      <td>26</td>\n",
       "      <td>32</td>\n",
       "      <td>28</td>\n",
       "      <td>41</td>\n",
       "      <td>...</td>\n",
       "      <td>95</td>\n",
       "      <td>88</td>\n",
       "      <td>94</td>\n",
       "      <td>89</td>\n",
       "      <td>37</td>\n",
       "      <td>34</td>\n",
       "      <td>36</td>\n",
       "      <td>99</td>\n",
       "      <td>77</td>\n",
       "      <td>3</td>\n",
       "    </tr>\n",
       "    <tr>\n",
       "      <th>5</th>\n",
       "      <td>75</td>\n",
       "      <td>96</td>\n",
       "      <td>78</td>\n",
       "      <td>94</td>\n",
       "      <td>99</td>\n",
       "      <td>97</td>\n",
       "      <td>26</td>\n",
       "      <td>97</td>\n",
       "      <td>15</td>\n",
       "      <td>69</td>\n",
       "      <td>...</td>\n",
       "      <td>28</td>\n",
       "      <td>80</td>\n",
       "      <td>52</td>\n",
       "      <td>85</td>\n",
       "      <td>83</td>\n",
       "      <td>22</td>\n",
       "      <td>2</td>\n",
       "      <td>43</td>\n",
       "      <td>91</td>\n",
       "      <td>14</td>\n",
       "    </tr>\n",
       "    <tr>\n",
       "      <th>6</th>\n",
       "      <td>36</td>\n",
       "      <td>54</td>\n",
       "      <td>48</td>\n",
       "      <td>10</td>\n",
       "      <td>71</td>\n",
       "      <td>9</td>\n",
       "      <td>69</td>\n",
       "      <td>47</td>\n",
       "      <td>89</td>\n",
       "      <td>88</td>\n",
       "      <td>...</td>\n",
       "      <td>99</td>\n",
       "      <td>21</td>\n",
       "      <td>6</td>\n",
       "      <td>4</td>\n",
       "      <td>52</td>\n",
       "      <td>18</td>\n",
       "      <td>42</td>\n",
       "      <td>19</td>\n",
       "      <td>90</td>\n",
       "      <td>43</td>\n",
       "    </tr>\n",
       "    <tr>\n",
       "      <th>7</th>\n",
       "      <td>20</td>\n",
       "      <td>63</td>\n",
       "      <td>9</td>\n",
       "      <td>38</td>\n",
       "      <td>40</td>\n",
       "      <td>30</td>\n",
       "      <td>16</td>\n",
       "      <td>92</td>\n",
       "      <td>69</td>\n",
       "      <td>62</td>\n",
       "      <td>...</td>\n",
       "      <td>44</td>\n",
       "      <td>49</td>\n",
       "      <td>22</td>\n",
       "      <td>34</td>\n",
       "      <td>92</td>\n",
       "      <td>9</td>\n",
       "      <td>55</td>\n",
       "      <td>54</td>\n",
       "      <td>48</td>\n",
       "      <td>77</td>\n",
       "    </tr>\n",
       "    <tr>\n",
       "      <th>8</th>\n",
       "      <td>60</td>\n",
       "      <td>24</td>\n",
       "      <td>50</td>\n",
       "      <td>33</td>\n",
       "      <td>96</td>\n",
       "      <td>43</td>\n",
       "      <td>34</td>\n",
       "      <td>76</td>\n",
       "      <td>13</td>\n",
       "      <td>51</td>\n",
       "      <td>...</td>\n",
       "      <td>93</td>\n",
       "      <td>76</td>\n",
       "      <td>83</td>\n",
       "      <td>71</td>\n",
       "      <td>20</td>\n",
       "      <td>37</td>\n",
       "      <td>96</td>\n",
       "      <td>90</td>\n",
       "      <td>51</td>\n",
       "      <td>69</td>\n",
       "    </tr>\n",
       "    <tr>\n",
       "      <th>9</th>\n",
       "      <td>44</td>\n",
       "      <td>66</td>\n",
       "      <td>64</td>\n",
       "      <td>23</td>\n",
       "      <td>23</td>\n",
       "      <td>32</td>\n",
       "      <td>46</td>\n",
       "      <td>22</td>\n",
       "      <td>37</td>\n",
       "      <td>70</td>\n",
       "      <td>...</td>\n",
       "      <td>3</td>\n",
       "      <td>15</td>\n",
       "      <td>56</td>\n",
       "      <td>86</td>\n",
       "      <td>89</td>\n",
       "      <td>90</td>\n",
       "      <td>64</td>\n",
       "      <td>67</td>\n",
       "      <td>58</td>\n",
       "      <td>3</td>\n",
       "    </tr>\n",
       "    <tr>\n",
       "      <th>10</th>\n",
       "      <td>73</td>\n",
       "      <td>5</td>\n",
       "      <td>51</td>\n",
       "      <td>96</td>\n",
       "      <td>77</td>\n",
       "      <td>38</td>\n",
       "      <td>71</td>\n",
       "      <td>44</td>\n",
       "      <td>99</td>\n",
       "      <td>25</td>\n",
       "      <td>...</td>\n",
       "      <td>33</td>\n",
       "      <td>85</td>\n",
       "      <td>29</td>\n",
       "      <td>44</td>\n",
       "      <td>48</td>\n",
       "      <td>63</td>\n",
       "      <td>3</td>\n",
       "      <td>75</td>\n",
       "      <td>79</td>\n",
       "      <td>49</td>\n",
       "    </tr>\n",
       "    <tr>\n",
       "      <th>11</th>\n",
       "      <td>72</td>\n",
       "      <td>44</td>\n",
       "      <td>49</td>\n",
       "      <td>72</td>\n",
       "      <td>20</td>\n",
       "      <td>57</td>\n",
       "      <td>37</td>\n",
       "      <td>70</td>\n",
       "      <td>58</td>\n",
       "      <td>17</td>\n",
       "      <td>...</td>\n",
       "      <td>53</td>\n",
       "      <td>15</td>\n",
       "      <td>25</td>\n",
       "      <td>8</td>\n",
       "      <td>80</td>\n",
       "      <td>43</td>\n",
       "      <td>55</td>\n",
       "      <td>43</td>\n",
       "      <td>78</td>\n",
       "      <td>35</td>\n",
       "    </tr>\n",
       "    <tr>\n",
       "      <th>12</th>\n",
       "      <td>82</td>\n",
       "      <td>21</td>\n",
       "      <td>64</td>\n",
       "      <td>68</td>\n",
       "      <td>38</td>\n",
       "      <td>48</td>\n",
       "      <td>70</td>\n",
       "      <td>38</td>\n",
       "      <td>75</td>\n",
       "      <td>44</td>\n",
       "      <td>...</td>\n",
       "      <td>59</td>\n",
       "      <td>27</td>\n",
       "      <td>22</td>\n",
       "      <td>23</td>\n",
       "      <td>45</td>\n",
       "      <td>27</td>\n",
       "      <td>84</td>\n",
       "      <td>67</td>\n",
       "      <td>53</td>\n",
       "      <td>34</td>\n",
       "    </tr>\n",
       "    <tr>\n",
       "      <th>13</th>\n",
       "      <td>56</td>\n",
       "      <td>85</td>\n",
       "      <td>38</td>\n",
       "      <td>34</td>\n",
       "      <td>40</td>\n",
       "      <td>53</td>\n",
       "      <td>99</td>\n",
       "      <td>92</td>\n",
       "      <td>7</td>\n",
       "      <td>74</td>\n",
       "      <td>...</td>\n",
       "      <td>89</td>\n",
       "      <td>72</td>\n",
       "      <td>66</td>\n",
       "      <td>57</td>\n",
       "      <td>3</td>\n",
       "      <td>83</td>\n",
       "      <td>51</td>\n",
       "      <td>92</td>\n",
       "      <td>24</td>\n",
       "      <td>74</td>\n",
       "    </tr>\n",
       "    <tr>\n",
       "      <th>14</th>\n",
       "      <td>55</td>\n",
       "      <td>10</td>\n",
       "      <td>93</td>\n",
       "      <td>44</td>\n",
       "      <td>7</td>\n",
       "      <td>37</td>\n",
       "      <td>88</td>\n",
       "      <td>57</td>\n",
       "      <td>35</td>\n",
       "      <td>46</td>\n",
       "      <td>...</td>\n",
       "      <td>8</td>\n",
       "      <td>97</td>\n",
       "      <td>8</td>\n",
       "      <td>61</td>\n",
       "      <td>29</td>\n",
       "      <td>50</td>\n",
       "      <td>87</td>\n",
       "      <td>56</td>\n",
       "      <td>81</td>\n",
       "      <td>39</td>\n",
       "    </tr>\n",
       "    <tr>\n",
       "      <th>15</th>\n",
       "      <td>69</td>\n",
       "      <td>58</td>\n",
       "      <td>67</td>\n",
       "      <td>27</td>\n",
       "      <td>88</td>\n",
       "      <td>55</td>\n",
       "      <td>6</td>\n",
       "      <td>57</td>\n",
       "      <td>56</td>\n",
       "      <td>26</td>\n",
       "      <td>...</td>\n",
       "      <td>41</td>\n",
       "      <td>2</td>\n",
       "      <td>25</td>\n",
       "      <td>10</td>\n",
       "      <td>29</td>\n",
       "      <td>72</td>\n",
       "      <td>87</td>\n",
       "      <td>24</td>\n",
       "      <td>65</td>\n",
       "      <td>27</td>\n",
       "    </tr>\n",
       "    <tr>\n",
       "      <th>16</th>\n",
       "      <td>27</td>\n",
       "      <td>41</td>\n",
       "      <td>2</td>\n",
       "      <td>30</td>\n",
       "      <td>19</td>\n",
       "      <td>39</td>\n",
       "      <td>71</td>\n",
       "      <td>70</td>\n",
       "      <td>92</td>\n",
       "      <td>9</td>\n",
       "      <td>...</td>\n",
       "      <td>84</td>\n",
       "      <td>52</td>\n",
       "      <td>46</td>\n",
       "      <td>74</td>\n",
       "      <td>35</td>\n",
       "      <td>61</td>\n",
       "      <td>85</td>\n",
       "      <td>22</td>\n",
       "      <td>60</td>\n",
       "      <td>14</td>\n",
       "    </tr>\n",
       "    <tr>\n",
       "      <th>17</th>\n",
       "      <td>19</td>\n",
       "      <td>56</td>\n",
       "      <td>96</td>\n",
       "      <td>98</td>\n",
       "      <td>24</td>\n",
       "      <td>42</td>\n",
       "      <td>35</td>\n",
       "      <td>11</td>\n",
       "      <td>68</td>\n",
       "      <td>53</td>\n",
       "      <td>...</td>\n",
       "      <td>21</td>\n",
       "      <td>33</td>\n",
       "      <td>71</td>\n",
       "      <td>48</td>\n",
       "      <td>65</td>\n",
       "      <td>1</td>\n",
       "      <td>7</td>\n",
       "      <td>95</td>\n",
       "      <td>86</td>\n",
       "      <td>39</td>\n",
       "    </tr>\n",
       "    <tr>\n",
       "      <th>18</th>\n",
       "      <td>19</td>\n",
       "      <td>41</td>\n",
       "      <td>68</td>\n",
       "      <td>65</td>\n",
       "      <td>66</td>\n",
       "      <td>89</td>\n",
       "      <td>5</td>\n",
       "      <td>68</td>\n",
       "      <td>94</td>\n",
       "      <td>23</td>\n",
       "      <td>...</td>\n",
       "      <td>82</td>\n",
       "      <td>95</td>\n",
       "      <td>5</td>\n",
       "      <td>9</td>\n",
       "      <td>42</td>\n",
       "      <td>33</td>\n",
       "      <td>50</td>\n",
       "      <td>21</td>\n",
       "      <td>20</td>\n",
       "      <td>38</td>\n",
       "    </tr>\n",
       "    <tr>\n",
       "      <th>19</th>\n",
       "      <td>11</td>\n",
       "      <td>9</td>\n",
       "      <td>82</td>\n",
       "      <td>44</td>\n",
       "      <td>51</td>\n",
       "      <td>86</td>\n",
       "      <td>12</td>\n",
       "      <td>4</td>\n",
       "      <td>61</td>\n",
       "      <td>60</td>\n",
       "      <td>...</td>\n",
       "      <td>11</td>\n",
       "      <td>12</td>\n",
       "      <td>86</td>\n",
       "      <td>87</td>\n",
       "      <td>17</td>\n",
       "      <td>15</td>\n",
       "      <td>40</td>\n",
       "      <td>86</td>\n",
       "      <td>73</td>\n",
       "      <td>38</td>\n",
       "    </tr>\n",
       "    <tr>\n",
       "      <th>20</th>\n",
       "      <td>60</td>\n",
       "      <td>82</td>\n",
       "      <td>20</td>\n",
       "      <td>95</td>\n",
       "      <td>32</td>\n",
       "      <td>8</td>\n",
       "      <td>92</td>\n",
       "      <td>81</td>\n",
       "      <td>18</td>\n",
       "      <td>47</td>\n",
       "      <td>...</td>\n",
       "      <td>24</td>\n",
       "      <td>1</td>\n",
       "      <td>85</td>\n",
       "      <td>3</td>\n",
       "      <td>84</td>\n",
       "      <td>11</td>\n",
       "      <td>93</td>\n",
       "      <td>42</td>\n",
       "      <td>86</td>\n",
       "      <td>53</td>\n",
       "    </tr>\n",
       "    <tr>\n",
       "      <th>21</th>\n",
       "      <td>81</td>\n",
       "      <td>70</td>\n",
       "      <td>60</td>\n",
       "      <td>37</td>\n",
       "      <td>92</td>\n",
       "      <td>52</td>\n",
       "      <td>77</td>\n",
       "      <td>71</td>\n",
       "      <td>19</td>\n",
       "      <td>74</td>\n",
       "      <td>...</td>\n",
       "      <td>64</td>\n",
       "      <td>54</td>\n",
       "      <td>39</td>\n",
       "      <td>7</td>\n",
       "      <td>3</td>\n",
       "      <td>47</td>\n",
       "      <td>70</td>\n",
       "      <td>9</td>\n",
       "      <td>59</td>\n",
       "      <td>39</td>\n",
       "    </tr>\n",
       "    <tr>\n",
       "      <th>22</th>\n",
       "      <td>97</td>\n",
       "      <td>9</td>\n",
       "      <td>53</td>\n",
       "      <td>17</td>\n",
       "      <td>95</td>\n",
       "      <td>11</td>\n",
       "      <td>50</td>\n",
       "      <td>56</td>\n",
       "      <td>16</td>\n",
       "      <td>24</td>\n",
       "      <td>...</td>\n",
       "      <td>20</td>\n",
       "      <td>21</td>\n",
       "      <td>54</td>\n",
       "      <td>67</td>\n",
       "      <td>7</td>\n",
       "      <td>45</td>\n",
       "      <td>30</td>\n",
       "      <td>30</td>\n",
       "      <td>45</td>\n",
       "      <td>25</td>\n",
       "    </tr>\n",
       "    <tr>\n",
       "      <th>23</th>\n",
       "      <td>16</td>\n",
       "      <td>15</td>\n",
       "      <td>75</td>\n",
       "      <td>51</td>\n",
       "      <td>86</td>\n",
       "      <td>73</td>\n",
       "      <td>34</td>\n",
       "      <td>26</td>\n",
       "      <td>24</td>\n",
       "      <td>28</td>\n",
       "      <td>...</td>\n",
       "      <td>86</td>\n",
       "      <td>34</td>\n",
       "      <td>31</td>\n",
       "      <td>13</td>\n",
       "      <td>59</td>\n",
       "      <td>73</td>\n",
       "      <td>22</td>\n",
       "      <td>85</td>\n",
       "      <td>82</td>\n",
       "      <td>84</td>\n",
       "    </tr>\n",
       "    <tr>\n",
       "      <th>24</th>\n",
       "      <td>35</td>\n",
       "      <td>90</td>\n",
       "      <td>37</td>\n",
       "      <td>84</td>\n",
       "      <td>79</td>\n",
       "      <td>99</td>\n",
       "      <td>68</td>\n",
       "      <td>26</td>\n",
       "      <td>93</td>\n",
       "      <td>38</td>\n",
       "      <td>...</td>\n",
       "      <td>92</td>\n",
       "      <td>64</td>\n",
       "      <td>16</td>\n",
       "      <td>48</td>\n",
       "      <td>25</td>\n",
       "      <td>98</td>\n",
       "      <td>44</td>\n",
       "      <td>52</td>\n",
       "      <td>79</td>\n",
       "      <td>26</td>\n",
       "    </tr>\n",
       "    <tr>\n",
       "      <th>25</th>\n",
       "      <td>60</td>\n",
       "      <td>44</td>\n",
       "      <td>33</td>\n",
       "      <td>20</td>\n",
       "      <td>27</td>\n",
       "      <td>32</td>\n",
       "      <td>60</td>\n",
       "      <td>70</td>\n",
       "      <td>25</td>\n",
       "      <td>58</td>\n",
       "      <td>...</td>\n",
       "      <td>17</td>\n",
       "      <td>13</td>\n",
       "      <td>63</td>\n",
       "      <td>64</td>\n",
       "      <td>56</td>\n",
       "      <td>66</td>\n",
       "      <td>70</td>\n",
       "      <td>37</td>\n",
       "      <td>67</td>\n",
       "      <td>75</td>\n",
       "    </tr>\n",
       "    <tr>\n",
       "      <th>26</th>\n",
       "      <td>28</td>\n",
       "      <td>97</td>\n",
       "      <td>73</td>\n",
       "      <td>45</td>\n",
       "      <td>60</td>\n",
       "      <td>84</td>\n",
       "      <td>32</td>\n",
       "      <td>23</td>\n",
       "      <td>53</td>\n",
       "      <td>20</td>\n",
       "      <td>...</td>\n",
       "      <td>23</td>\n",
       "      <td>64</td>\n",
       "      <td>36</td>\n",
       "      <td>89</td>\n",
       "      <td>83</td>\n",
       "      <td>55</td>\n",
       "      <td>75</td>\n",
       "      <td>83</td>\n",
       "      <td>50</td>\n",
       "      <td>26</td>\n",
       "    </tr>\n",
       "    <tr>\n",
       "      <th>27</th>\n",
       "      <td>30</td>\n",
       "      <td>35</td>\n",
       "      <td>43</td>\n",
       "      <td>80</td>\n",
       "      <td>99</td>\n",
       "      <td>4</td>\n",
       "      <td>26</td>\n",
       "      <td>54</td>\n",
       "      <td>72</td>\n",
       "      <td>7</td>\n",
       "      <td>...</td>\n",
       "      <td>82</td>\n",
       "      <td>42</td>\n",
       "      <td>69</td>\n",
       "      <td>15</td>\n",
       "      <td>51</td>\n",
       "      <td>5</td>\n",
       "      <td>89</td>\n",
       "      <td>72</td>\n",
       "      <td>2</td>\n",
       "      <td>45</td>\n",
       "    </tr>\n",
       "    <tr>\n",
       "      <th>28</th>\n",
       "      <td>33</td>\n",
       "      <td>38</td>\n",
       "      <td>20</td>\n",
       "      <td>72</td>\n",
       "      <td>72</td>\n",
       "      <td>37</td>\n",
       "      <td>76</td>\n",
       "      <td>10</td>\n",
       "      <td>75</td>\n",
       "      <td>8</td>\n",
       "      <td>...</td>\n",
       "      <td>33</td>\n",
       "      <td>69</td>\n",
       "      <td>52</td>\n",
       "      <td>85</td>\n",
       "      <td>53</td>\n",
       "      <td>58</td>\n",
       "      <td>74</td>\n",
       "      <td>1</td>\n",
       "      <td>44</td>\n",
       "      <td>23</td>\n",
       "    </tr>\n",
       "    <tr>\n",
       "      <th>29</th>\n",
       "      <td>17</td>\n",
       "      <td>25</td>\n",
       "      <td>8</td>\n",
       "      <td>81</td>\n",
       "      <td>17</td>\n",
       "      <td>75</td>\n",
       "      <td>59</td>\n",
       "      <td>45</td>\n",
       "      <td>16</td>\n",
       "      <td>57</td>\n",
       "      <td>...</td>\n",
       "      <td>67</td>\n",
       "      <td>2</td>\n",
       "      <td>25</td>\n",
       "      <td>1</td>\n",
       "      <td>55</td>\n",
       "      <td>46</td>\n",
       "      <td>65</td>\n",
       "      <td>64</td>\n",
       "      <td>6</td>\n",
       "      <td>40</td>\n",
       "    </tr>\n",
       "    <tr>\n",
       "      <th>30</th>\n",
       "      <td>67</td>\n",
       "      <td>22</td>\n",
       "      <td>69</td>\n",
       "      <td>12</td>\n",
       "      <td>9</td>\n",
       "      <td>92</td>\n",
       "      <td>4</td>\n",
       "      <td>12</td>\n",
       "      <td>65</td>\n",
       "      <td>88</td>\n",
       "      <td>...</td>\n",
       "      <td>76</td>\n",
       "      <td>39</td>\n",
       "      <td>21</td>\n",
       "      <td>50</td>\n",
       "      <td>26</td>\n",
       "      <td>89</td>\n",
       "      <td>19</td>\n",
       "      <td>59</td>\n",
       "      <td>18</td>\n",
       "      <td>24</td>\n",
       "    </tr>\n",
       "    <tr>\n",
       "      <th>31</th>\n",
       "      <td>52</td>\n",
       "      <td>74</td>\n",
       "      <td>15</td>\n",
       "      <td>78</td>\n",
       "      <td>49</td>\n",
       "      <td>71</td>\n",
       "      <td>50</td>\n",
       "      <td>39</td>\n",
       "      <td>88</td>\n",
       "      <td>63</td>\n",
       "      <td>...</td>\n",
       "      <td>49</td>\n",
       "      <td>41</td>\n",
       "      <td>59</td>\n",
       "      <td>29</td>\n",
       "      <td>30</td>\n",
       "      <td>15</td>\n",
       "      <td>88</td>\n",
       "      <td>35</td>\n",
       "      <td>27</td>\n",
       "      <td>60</td>\n",
       "    </tr>\n",
       "    <tr>\n",
       "      <th>32</th>\n",
       "      <td>15</td>\n",
       "      <td>19</td>\n",
       "      <td>31</td>\n",
       "      <td>82</td>\n",
       "      <td>51</td>\n",
       "      <td>38</td>\n",
       "      <td>5</td>\n",
       "      <td>46</td>\n",
       "      <td>8</td>\n",
       "      <td>95</td>\n",
       "      <td>...</td>\n",
       "      <td>87</td>\n",
       "      <td>5</td>\n",
       "      <td>51</td>\n",
       "      <td>37</td>\n",
       "      <td>39</td>\n",
       "      <td>91</td>\n",
       "      <td>93</td>\n",
       "      <td>74</td>\n",
       "      <td>34</td>\n",
       "      <td>28</td>\n",
       "    </tr>\n",
       "    <tr>\n",
       "      <th>33</th>\n",
       "      <td>4</td>\n",
       "      <td>23</td>\n",
       "      <td>44</td>\n",
       "      <td>49</td>\n",
       "      <td>3</td>\n",
       "      <td>99</td>\n",
       "      <td>67</td>\n",
       "      <td>69</td>\n",
       "      <td>82</td>\n",
       "      <td>64</td>\n",
       "      <td>...</td>\n",
       "      <td>1</td>\n",
       "      <td>47</td>\n",
       "      <td>54</td>\n",
       "      <td>17</td>\n",
       "      <td>15</td>\n",
       "      <td>52</td>\n",
       "      <td>19</td>\n",
       "      <td>60</td>\n",
       "      <td>44</td>\n",
       "      <td>13</td>\n",
       "    </tr>\n",
       "    <tr>\n",
       "      <th>34</th>\n",
       "      <td>53</td>\n",
       "      <td>91</td>\n",
       "      <td>17</td>\n",
       "      <td>89</td>\n",
       "      <td>14</td>\n",
       "      <td>75</td>\n",
       "      <td>24</td>\n",
       "      <td>80</td>\n",
       "      <td>31</td>\n",
       "      <td>73</td>\n",
       "      <td>...</td>\n",
       "      <td>93</td>\n",
       "      <td>19</td>\n",
       "      <td>53</td>\n",
       "      <td>68</td>\n",
       "      <td>89</td>\n",
       "      <td>46</td>\n",
       "      <td>41</td>\n",
       "      <td>22</td>\n",
       "      <td>96</td>\n",
       "      <td>8</td>\n",
       "    </tr>\n",
       "    <tr>\n",
       "      <th>35</th>\n",
       "      <td>9</td>\n",
       "      <td>44</td>\n",
       "      <td>63</td>\n",
       "      <td>93</td>\n",
       "      <td>26</td>\n",
       "      <td>4</td>\n",
       "      <td>64</td>\n",
       "      <td>23</td>\n",
       "      <td>17</td>\n",
       "      <td>40</td>\n",
       "      <td>...</td>\n",
       "      <td>29</td>\n",
       "      <td>15</td>\n",
       "      <td>30</td>\n",
       "      <td>5</td>\n",
       "      <td>47</td>\n",
       "      <td>68</td>\n",
       "      <td>61</td>\n",
       "      <td>65</td>\n",
       "      <td>73</td>\n",
       "      <td>44</td>\n",
       "    </tr>\n",
       "    <tr>\n",
       "      <th>36</th>\n",
       "      <td>28</td>\n",
       "      <td>91</td>\n",
       "      <td>72</td>\n",
       "      <td>84</td>\n",
       "      <td>65</td>\n",
       "      <td>72</td>\n",
       "      <td>1</td>\n",
       "      <td>89</td>\n",
       "      <td>64</td>\n",
       "      <td>80</td>\n",
       "      <td>...</td>\n",
       "      <td>19</td>\n",
       "      <td>57</td>\n",
       "      <td>92</td>\n",
       "      <td>3</td>\n",
       "      <td>37</td>\n",
       "      <td>27</td>\n",
       "      <td>5</td>\n",
       "      <td>45</td>\n",
       "      <td>7</td>\n",
       "      <td>76</td>\n",
       "    </tr>\n",
       "    <tr>\n",
       "      <th>37</th>\n",
       "      <td>49</td>\n",
       "      <td>31</td>\n",
       "      <td>81</td>\n",
       "      <td>80</td>\n",
       "      <td>58</td>\n",
       "      <td>62</td>\n",
       "      <td>41</td>\n",
       "      <td>85</td>\n",
       "      <td>44</td>\n",
       "      <td>34</td>\n",
       "      <td>...</td>\n",
       "      <td>3</td>\n",
       "      <td>92</td>\n",
       "      <td>72</td>\n",
       "      <td>4</td>\n",
       "      <td>48</td>\n",
       "      <td>79</td>\n",
       "      <td>3</td>\n",
       "      <td>60</td>\n",
       "      <td>17</td>\n",
       "      <td>57</td>\n",
       "    </tr>\n",
       "    <tr>\n",
       "      <th>38</th>\n",
       "      <td>90</td>\n",
       "      <td>82</td>\n",
       "      <td>24</td>\n",
       "      <td>75</td>\n",
       "      <td>35</td>\n",
       "      <td>96</td>\n",
       "      <td>62</td>\n",
       "      <td>45</td>\n",
       "      <td>1</td>\n",
       "      <td>43</td>\n",
       "      <td>...</td>\n",
       "      <td>8</td>\n",
       "      <td>43</td>\n",
       "      <td>61</td>\n",
       "      <td>30</td>\n",
       "      <td>67</td>\n",
       "      <td>94</td>\n",
       "      <td>79</td>\n",
       "      <td>69</td>\n",
       "      <td>6</td>\n",
       "      <td>77</td>\n",
       "    </tr>\n",
       "    <tr>\n",
       "      <th>39</th>\n",
       "      <td>42</td>\n",
       "      <td>42</td>\n",
       "      <td>54</td>\n",
       "      <td>31</td>\n",
       "      <td>84</td>\n",
       "      <td>6</td>\n",
       "      <td>79</td>\n",
       "      <td>56</td>\n",
       "      <td>90</td>\n",
       "      <td>55</td>\n",
       "      <td>...</td>\n",
       "      <td>9</td>\n",
       "      <td>63</td>\n",
       "      <td>73</td>\n",
       "      <td>66</td>\n",
       "      <td>79</td>\n",
       "      <td>36</td>\n",
       "      <td>37</td>\n",
       "      <td>19</td>\n",
       "      <td>71</td>\n",
       "      <td>55</td>\n",
       "    </tr>\n",
       "    <tr>\n",
       "      <th>40</th>\n",
       "      <td>73</td>\n",
       "      <td>53</td>\n",
       "      <td>53</td>\n",
       "      <td>82</td>\n",
       "      <td>47</td>\n",
       "      <td>32</td>\n",
       "      <td>58</td>\n",
       "      <td>37</td>\n",
       "      <td>38</td>\n",
       "      <td>74</td>\n",
       "      <td>...</td>\n",
       "      <td>77</td>\n",
       "      <td>38</td>\n",
       "      <td>46</td>\n",
       "      <td>44</td>\n",
       "      <td>69</td>\n",
       "      <td>20</td>\n",
       "      <td>53</td>\n",
       "      <td>56</td>\n",
       "      <td>58</td>\n",
       "      <td>12</td>\n",
       "    </tr>\n",
       "    <tr>\n",
       "      <th>41</th>\n",
       "      <td>11</td>\n",
       "      <td>54</td>\n",
       "      <td>94</td>\n",
       "      <td>97</td>\n",
       "      <td>38</td>\n",
       "      <td>97</td>\n",
       "      <td>60</td>\n",
       "      <td>94</td>\n",
       "      <td>14</td>\n",
       "      <td>27</td>\n",
       "      <td>...</td>\n",
       "      <td>52</td>\n",
       "      <td>77</td>\n",
       "      <td>12</td>\n",
       "      <td>69</td>\n",
       "      <td>79</td>\n",
       "      <td>27</td>\n",
       "      <td>88</td>\n",
       "      <td>47</td>\n",
       "      <td>74</td>\n",
       "      <td>56</td>\n",
       "    </tr>\n",
       "    <tr>\n",
       "      <th>42</th>\n",
       "      <td>26</td>\n",
       "      <td>89</td>\n",
       "      <td>45</td>\n",
       "      <td>62</td>\n",
       "      <td>72</td>\n",
       "      <td>9</td>\n",
       "      <td>94</td>\n",
       "      <td>63</td>\n",
       "      <td>17</td>\n",
       "      <td>71</td>\n",
       "      <td>...</td>\n",
       "      <td>17</td>\n",
       "      <td>68</td>\n",
       "      <td>86</td>\n",
       "      <td>86</td>\n",
       "      <td>84</td>\n",
       "      <td>86</td>\n",
       "      <td>47</td>\n",
       "      <td>34</td>\n",
       "      <td>77</td>\n",
       "      <td>17</td>\n",
       "    </tr>\n",
       "    <tr>\n",
       "      <th>43</th>\n",
       "      <td>56</td>\n",
       "      <td>42</td>\n",
       "      <td>79</td>\n",
       "      <td>66</td>\n",
       "      <td>72</td>\n",
       "      <td>24</td>\n",
       "      <td>87</td>\n",
       "      <td>80</td>\n",
       "      <td>88</td>\n",
       "      <td>51</td>\n",
       "      <td>...</td>\n",
       "      <td>24</td>\n",
       "      <td>14</td>\n",
       "      <td>46</td>\n",
       "      <td>24</td>\n",
       "      <td>22</td>\n",
       "      <td>71</td>\n",
       "      <td>85</td>\n",
       "      <td>75</td>\n",
       "      <td>59</td>\n",
       "      <td>20</td>\n",
       "    </tr>\n",
       "    <tr>\n",
       "      <th>44</th>\n",
       "      <td>18</td>\n",
       "      <td>90</td>\n",
       "      <td>70</td>\n",
       "      <td>32</td>\n",
       "      <td>2</td>\n",
       "      <td>67</td>\n",
       "      <td>78</td>\n",
       "      <td>52</td>\n",
       "      <td>59</td>\n",
       "      <td>96</td>\n",
       "      <td>...</td>\n",
       "      <td>66</td>\n",
       "      <td>35</td>\n",
       "      <td>31</td>\n",
       "      <td>78</td>\n",
       "      <td>7</td>\n",
       "      <td>89</td>\n",
       "      <td>92</td>\n",
       "      <td>84</td>\n",
       "      <td>32</td>\n",
       "      <td>78</td>\n",
       "    </tr>\n",
       "    <tr>\n",
       "      <th>45</th>\n",
       "      <td>25</td>\n",
       "      <td>50</td>\n",
       "      <td>22</td>\n",
       "      <td>43</td>\n",
       "      <td>42</td>\n",
       "      <td>24</td>\n",
       "      <td>2</td>\n",
       "      <td>46</td>\n",
       "      <td>70</td>\n",
       "      <td>89</td>\n",
       "      <td>...</td>\n",
       "      <td>55</td>\n",
       "      <td>60</td>\n",
       "      <td>98</td>\n",
       "      <td>2</td>\n",
       "      <td>69</td>\n",
       "      <td>47</td>\n",
       "      <td>7</td>\n",
       "      <td>53</td>\n",
       "      <td>66</td>\n",
       "      <td>35</td>\n",
       "    </tr>\n",
       "    <tr>\n",
       "      <th>46</th>\n",
       "      <td>11</td>\n",
       "      <td>43</td>\n",
       "      <td>66</td>\n",
       "      <td>11</td>\n",
       "      <td>67</td>\n",
       "      <td>97</td>\n",
       "      <td>35</td>\n",
       "      <td>35</td>\n",
       "      <td>24</td>\n",
       "      <td>96</td>\n",
       "      <td>...</td>\n",
       "      <td>57</td>\n",
       "      <td>98</td>\n",
       "      <td>56</td>\n",
       "      <td>62</td>\n",
       "      <td>90</td>\n",
       "      <td>18</td>\n",
       "      <td>72</td>\n",
       "      <td>2</td>\n",
       "      <td>44</td>\n",
       "      <td>51</td>\n",
       "    </tr>\n",
       "    <tr>\n",
       "      <th>47</th>\n",
       "      <td>47</td>\n",
       "      <td>26</td>\n",
       "      <td>46</td>\n",
       "      <td>53</td>\n",
       "      <td>20</td>\n",
       "      <td>96</td>\n",
       "      <td>16</td>\n",
       "      <td>58</td>\n",
       "      <td>88</td>\n",
       "      <td>36</td>\n",
       "      <td>...</td>\n",
       "      <td>58</td>\n",
       "      <td>11</td>\n",
       "      <td>54</td>\n",
       "      <td>85</td>\n",
       "      <td>42</td>\n",
       "      <td>64</td>\n",
       "      <td>36</td>\n",
       "      <td>19</td>\n",
       "      <td>61</td>\n",
       "      <td>36</td>\n",
       "    </tr>\n",
       "    <tr>\n",
       "      <th>48</th>\n",
       "      <td>52</td>\n",
       "      <td>91</td>\n",
       "      <td>39</td>\n",
       "      <td>8</td>\n",
       "      <td>49</td>\n",
       "      <td>78</td>\n",
       "      <td>52</td>\n",
       "      <td>88</td>\n",
       "      <td>41</td>\n",
       "      <td>46</td>\n",
       "      <td>...</td>\n",
       "      <td>23</td>\n",
       "      <td>28</td>\n",
       "      <td>62</td>\n",
       "      <td>47</td>\n",
       "      <td>84</td>\n",
       "      <td>92</td>\n",
       "      <td>95</td>\n",
       "      <td>97</td>\n",
       "      <td>37</td>\n",
       "      <td>64</td>\n",
       "    </tr>\n",
       "    <tr>\n",
       "      <th>49</th>\n",
       "      <td>48</td>\n",
       "      <td>90</td>\n",
       "      <td>82</td>\n",
       "      <td>64</td>\n",
       "      <td>18</td>\n",
       "      <td>91</td>\n",
       "      <td>15</td>\n",
       "      <td>97</td>\n",
       "      <td>2</td>\n",
       "      <td>90</td>\n",
       "      <td>...</td>\n",
       "      <td>80</td>\n",
       "      <td>85</td>\n",
       "      <td>55</td>\n",
       "      <td>37</td>\n",
       "      <td>65</td>\n",
       "      <td>55</td>\n",
       "      <td>74</td>\n",
       "      <td>43</td>\n",
       "      <td>75</td>\n",
       "      <td>90</td>\n",
       "    </tr>\n",
       "    <tr>\n",
       "      <th>50</th>\n",
       "      <td>65</td>\n",
       "      <td>23</td>\n",
       "      <td>14</td>\n",
       "      <td>89</td>\n",
       "      <td>95</td>\n",
       "      <td>21</td>\n",
       "      <td>36</td>\n",
       "      <td>83</td>\n",
       "      <td>29</td>\n",
       "      <td>22</td>\n",
       "      <td>...</td>\n",
       "      <td>45</td>\n",
       "      <td>92</td>\n",
       "      <td>85</td>\n",
       "      <td>3</td>\n",
       "      <td>45</td>\n",
       "      <td>38</td>\n",
       "      <td>66</td>\n",
       "      <td>33</td>\n",
       "      <td>86</td>\n",
       "      <td>22</td>\n",
       "    </tr>\n",
       "    <tr>\n",
       "      <th>51</th>\n",
       "      <td>57</td>\n",
       "      <td>68</td>\n",
       "      <td>80</td>\n",
       "      <td>89</td>\n",
       "      <td>60</td>\n",
       "      <td>35</td>\n",
       "      <td>31</td>\n",
       "      <td>98</td>\n",
       "      <td>21</td>\n",
       "      <td>39</td>\n",
       "      <td>...</td>\n",
       "      <td>2</td>\n",
       "      <td>73</td>\n",
       "      <td>69</td>\n",
       "      <td>60</td>\n",
       "      <td>29</td>\n",
       "      <td>23</td>\n",
       "      <td>10</td>\n",
       "      <td>68</td>\n",
       "      <td>13</td>\n",
       "      <td>11</td>\n",
       "    </tr>\n",
       "    <tr>\n",
       "      <th>52</th>\n",
       "      <td>86</td>\n",
       "      <td>51</td>\n",
       "      <td>61</td>\n",
       "      <td>94</td>\n",
       "      <td>12</td>\n",
       "      <td>32</td>\n",
       "      <td>63</td>\n",
       "      <td>77</td>\n",
       "      <td>14</td>\n",
       "      <td>27</td>\n",
       "      <td>...</td>\n",
       "      <td>14</td>\n",
       "      <td>64</td>\n",
       "      <td>72</td>\n",
       "      <td>78</td>\n",
       "      <td>39</td>\n",
       "      <td>5</td>\n",
       "      <td>42</td>\n",
       "      <td>25</td>\n",
       "      <td>71</td>\n",
       "      <td>23</td>\n",
       "    </tr>\n",
       "    <tr>\n",
       "      <th>53</th>\n",
       "      <td>97</td>\n",
       "      <td>97</td>\n",
       "      <td>9</td>\n",
       "      <td>21</td>\n",
       "      <td>27</td>\n",
       "      <td>99</td>\n",
       "      <td>1</td>\n",
       "      <td>85</td>\n",
       "      <td>40</td>\n",
       "      <td>85</td>\n",
       "      <td>...</td>\n",
       "      <td>34</td>\n",
       "      <td>3</td>\n",
       "      <td>86</td>\n",
       "      <td>27</td>\n",
       "      <td>89</td>\n",
       "      <td>29</td>\n",
       "      <td>88</td>\n",
       "      <td>73</td>\n",
       "      <td>48</td>\n",
       "      <td>66</td>\n",
       "    </tr>\n",
       "    <tr>\n",
       "      <th>54</th>\n",
       "      <td>51</td>\n",
       "      <td>26</td>\n",
       "      <td>53</td>\n",
       "      <td>78</td>\n",
       "      <td>32</td>\n",
       "      <td>15</td>\n",
       "      <td>96</td>\n",
       "      <td>69</td>\n",
       "      <td>62</td>\n",
       "      <td>84</td>\n",
       "      <td>...</td>\n",
       "      <td>73</td>\n",
       "      <td>1</td>\n",
       "      <td>22</td>\n",
       "      <td>85</td>\n",
       "      <td>79</td>\n",
       "      <td>86</td>\n",
       "      <td>11</td>\n",
       "      <td>65</td>\n",
       "      <td>31</td>\n",
       "      <td>9</td>\n",
       "    </tr>\n",
       "    <tr>\n",
       "      <th>55</th>\n",
       "      <td>56</td>\n",
       "      <td>86</td>\n",
       "      <td>59</td>\n",
       "      <td>84</td>\n",
       "      <td>35</td>\n",
       "      <td>83</td>\n",
       "      <td>90</td>\n",
       "      <td>98</td>\n",
       "      <td>5</td>\n",
       "      <td>48</td>\n",
       "      <td>...</td>\n",
       "      <td>75</td>\n",
       "      <td>14</td>\n",
       "      <td>66</td>\n",
       "      <td>55</td>\n",
       "      <td>44</td>\n",
       "      <td>33</td>\n",
       "      <td>39</td>\n",
       "      <td>98</td>\n",
       "      <td>10</td>\n",
       "      <td>72</td>\n",
       "    </tr>\n",
       "  </tbody>\n",
       "</table>\n",
       "<p>56 rows × 45 columns</p>\n",
       "</div>"
      ],
      "text/plain": [
       "    0   1   2   3   4   5   6   7   8   9   ...  35  36  37  38  39  40  41  \\\n",
       "0   83  64  65  21  76  73  67  74  13  83  ...  19  20   2  99  32  61  58   \n",
       "1   11  58  40  43  30  46  61  72  51  70  ...  50  67  14  64  15  99  73   \n",
       "2   78  44  26  88   7  46  12  59  51   3  ...  84  71  52  48  77  61   9   \n",
       "3   14  24  71  99  42  67  65  24  94  23  ...  23   7  33  26  96  24  13   \n",
       "4   10   8  82  75  62  75  26  32  28  41  ...  95  88  94  89  37  34  36   \n",
       "5   75  96  78  94  99  97  26  97  15  69  ...  28  80  52  85  83  22   2   \n",
       "6   36  54  48  10  71   9  69  47  89  88  ...  99  21   6   4  52  18  42   \n",
       "7   20  63   9  38  40  30  16  92  69  62  ...  44  49  22  34  92   9  55   \n",
       "8   60  24  50  33  96  43  34  76  13  51  ...  93  76  83  71  20  37  96   \n",
       "9   44  66  64  23  23  32  46  22  37  70  ...   3  15  56  86  89  90  64   \n",
       "10  73   5  51  96  77  38  71  44  99  25  ...  33  85  29  44  48  63   3   \n",
       "11  72  44  49  72  20  57  37  70  58  17  ...  53  15  25   8  80  43  55   \n",
       "12  82  21  64  68  38  48  70  38  75  44  ...  59  27  22  23  45  27  84   \n",
       "13  56  85  38  34  40  53  99  92   7  74  ...  89  72  66  57   3  83  51   \n",
       "14  55  10  93  44   7  37  88  57  35  46  ...   8  97   8  61  29  50  87   \n",
       "15  69  58  67  27  88  55   6  57  56  26  ...  41   2  25  10  29  72  87   \n",
       "16  27  41   2  30  19  39  71  70  92   9  ...  84  52  46  74  35  61  85   \n",
       "17  19  56  96  98  24  42  35  11  68  53  ...  21  33  71  48  65   1   7   \n",
       "18  19  41  68  65  66  89   5  68  94  23  ...  82  95   5   9  42  33  50   \n",
       "19  11   9  82  44  51  86  12   4  61  60  ...  11  12  86  87  17  15  40   \n",
       "20  60  82  20  95  32   8  92  81  18  47  ...  24   1  85   3  84  11  93   \n",
       "21  81  70  60  37  92  52  77  71  19  74  ...  64  54  39   7   3  47  70   \n",
       "22  97   9  53  17  95  11  50  56  16  24  ...  20  21  54  67   7  45  30   \n",
       "23  16  15  75  51  86  73  34  26  24  28  ...  86  34  31  13  59  73  22   \n",
       "24  35  90  37  84  79  99  68  26  93  38  ...  92  64  16  48  25  98  44   \n",
       "25  60  44  33  20  27  32  60  70  25  58  ...  17  13  63  64  56  66  70   \n",
       "26  28  97  73  45  60  84  32  23  53  20  ...  23  64  36  89  83  55  75   \n",
       "27  30  35  43  80  99   4  26  54  72   7  ...  82  42  69  15  51   5  89   \n",
       "28  33  38  20  72  72  37  76  10  75   8  ...  33  69  52  85  53  58  74   \n",
       "29  17  25   8  81  17  75  59  45  16  57  ...  67   2  25   1  55  46  65   \n",
       "30  67  22  69  12   9  92   4  12  65  88  ...  76  39  21  50  26  89  19   \n",
       "31  52  74  15  78  49  71  50  39  88  63  ...  49  41  59  29  30  15  88   \n",
       "32  15  19  31  82  51  38   5  46   8  95  ...  87   5  51  37  39  91  93   \n",
       "33   4  23  44  49   3  99  67  69  82  64  ...   1  47  54  17  15  52  19   \n",
       "34  53  91  17  89  14  75  24  80  31  73  ...  93  19  53  68  89  46  41   \n",
       "35   9  44  63  93  26   4  64  23  17  40  ...  29  15  30   5  47  68  61   \n",
       "36  28  91  72  84  65  72   1  89  64  80  ...  19  57  92   3  37  27   5   \n",
       "37  49  31  81  80  58  62  41  85  44  34  ...   3  92  72   4  48  79   3   \n",
       "38  90  82  24  75  35  96  62  45   1  43  ...   8  43  61  30  67  94  79   \n",
       "39  42  42  54  31  84   6  79  56  90  55  ...   9  63  73  66  79  36  37   \n",
       "40  73  53  53  82  47  32  58  37  38  74  ...  77  38  46  44  69  20  53   \n",
       "41  11  54  94  97  38  97  60  94  14  27  ...  52  77  12  69  79  27  88   \n",
       "42  26  89  45  62  72   9  94  63  17  71  ...  17  68  86  86  84  86  47   \n",
       "43  56  42  79  66  72  24  87  80  88  51  ...  24  14  46  24  22  71  85   \n",
       "44  18  90  70  32   2  67  78  52  59  96  ...  66  35  31  78   7  89  92   \n",
       "45  25  50  22  43  42  24   2  46  70  89  ...  55  60  98   2  69  47   7   \n",
       "46  11  43  66  11  67  97  35  35  24  96  ...  57  98  56  62  90  18  72   \n",
       "47  47  26  46  53  20  96  16  58  88  36  ...  58  11  54  85  42  64  36   \n",
       "48  52  91  39   8  49  78  52  88  41  46  ...  23  28  62  47  84  92  95   \n",
       "49  48  90  82  64  18  91  15  97   2  90  ...  80  85  55  37  65  55  74   \n",
       "50  65  23  14  89  95  21  36  83  29  22  ...  45  92  85   3  45  38  66   \n",
       "51  57  68  80  89  60  35  31  98  21  39  ...   2  73  69  60  29  23  10   \n",
       "52  86  51  61  94  12  32  63  77  14  27  ...  14  64  72  78  39   5  42   \n",
       "53  97  97   9  21  27  99   1  85  40  85  ...  34   3  86  27  89  29  88   \n",
       "54  51  26  53  78  32  15  96  69  62  84  ...  73   1  22  85  79  86  11   \n",
       "55  56  86  59  84  35  83  90  98   5  48  ...  75  14  66  55  44  33  39   \n",
       "\n",
       "    42  43  44  \n",
       "0   64  36  86  \n",
       "1   70   7  21  \n",
       "2   66  94  81  \n",
       "3   48  88   6  \n",
       "4   99  77   3  \n",
       "5   43  91  14  \n",
       "6   19  90  43  \n",
       "7   54  48  77  \n",
       "8   90  51  69  \n",
       "9   67  58   3  \n",
       "10  75  79  49  \n",
       "11  43  78  35  \n",
       "12  67  53  34  \n",
       "13  92  24  74  \n",
       "14  56  81  39  \n",
       "15  24  65  27  \n",
       "16  22  60  14  \n",
       "17  95  86  39  \n",
       "18  21  20  38  \n",
       "19  86  73  38  \n",
       "20  42  86  53  \n",
       "21   9  59  39  \n",
       "22  30  45  25  \n",
       "23  85  82  84  \n",
       "24  52  79  26  \n",
       "25  37  67  75  \n",
       "26  83  50  26  \n",
       "27  72   2  45  \n",
       "28   1  44  23  \n",
       "29  64   6  40  \n",
       "30  59  18  24  \n",
       "31  35  27  60  \n",
       "32  74  34  28  \n",
       "33  60  44  13  \n",
       "34  22  96   8  \n",
       "35  65  73  44  \n",
       "36  45   7  76  \n",
       "37  60  17  57  \n",
       "38  69   6  77  \n",
       "39  19  71  55  \n",
       "40  56  58  12  \n",
       "41  47  74  56  \n",
       "42  34  77  17  \n",
       "43  75  59  20  \n",
       "44  84  32  78  \n",
       "45  53  66  35  \n",
       "46   2  44  51  \n",
       "47  19  61  36  \n",
       "48  97  37  64  \n",
       "49  43  75  90  \n",
       "50  33  86  22  \n",
       "51  68  13  11  \n",
       "52  25  71  23  \n",
       "53  73  48  66  \n",
       "54  65  31   9  \n",
       "55  98  10  72  \n",
       "\n",
       "[56 rows x 45 columns]"
      ]
     },
     "execution_count": 298,
     "metadata": {},
     "output_type": "execute_result"
    }
   ],
   "source": [
    "arr"
   ]
  },
  {
   "cell_type": "code",
   "execution_count": 299,
   "id": "33942a73-6dda-436a-a8a7-c6079644c355",
   "metadata": {},
   "outputs": [
    {
     "data": {
      "text/plain": [
       "0     65\n",
       "1     40\n",
       "2     26\n",
       "3     71\n",
       "4     82\n",
       "5     78\n",
       "6     48\n",
       "7      9\n",
       "8     50\n",
       "9     64\n",
       "10    51\n",
       "11    49\n",
       "12    64\n",
       "13    38\n",
       "14    93\n",
       "15    67\n",
       "16     2\n",
       "17    96\n",
       "18    68\n",
       "19    82\n",
       "20    20\n",
       "21    60\n",
       "22    53\n",
       "23    75\n",
       "24    37\n",
       "25    33\n",
       "26    73\n",
       "27    43\n",
       "28    20\n",
       "29     8\n",
       "30    69\n",
       "31    15\n",
       "32    31\n",
       "33    44\n",
       "34    17\n",
       "35    63\n",
       "36    72\n",
       "37    81\n",
       "38    24\n",
       "39    54\n",
       "40    53\n",
       "41    94\n",
       "42    45\n",
       "43    79\n",
       "44    70\n",
       "45    22\n",
       "46    66\n",
       "47    46\n",
       "48    39\n",
       "49    82\n",
       "50    14\n",
       "51    80\n",
       "52    61\n",
       "53     9\n",
       "54    53\n",
       "55    59\n",
       "Name: 2, dtype: int32"
      ]
     },
     "execution_count": 299,
     "metadata": {},
     "output_type": "execute_result"
    }
   ],
   "source": [
    "arr[2]"
   ]
  },
  {
   "cell_type": "code",
   "execution_count": 300,
   "id": "167671a4-ca01-449e-8161-755fed63c126",
   "metadata": {},
   "outputs": [
    {
     "data": {
      "text/html": [
       "<div>\n",
       "<style scoped>\n",
       "    .dataframe tbody tr th:only-of-type {\n",
       "        vertical-align: middle;\n",
       "    }\n",
       "\n",
       "    .dataframe tbody tr th {\n",
       "        vertical-align: top;\n",
       "    }\n",
       "\n",
       "    .dataframe thead th {\n",
       "        text-align: right;\n",
       "    }\n",
       "</style>\n",
       "<table border=\"1\" class=\"dataframe\">\n",
       "  <thead>\n",
       "    <tr style=\"text-align: right;\">\n",
       "      <th></th>\n",
       "      <th>0</th>\n",
       "      <th>1</th>\n",
       "      <th>2</th>\n",
       "      <th>3</th>\n",
       "      <th>4</th>\n",
       "      <th>5</th>\n",
       "      <th>6</th>\n",
       "      <th>7</th>\n",
       "      <th>8</th>\n",
       "      <th>9</th>\n",
       "      <th>...</th>\n",
       "      <th>35</th>\n",
       "      <th>36</th>\n",
       "      <th>37</th>\n",
       "      <th>38</th>\n",
       "      <th>39</th>\n",
       "      <th>40</th>\n",
       "      <th>41</th>\n",
       "      <th>42</th>\n",
       "      <th>43</th>\n",
       "      <th>44</th>\n",
       "    </tr>\n",
       "  </thead>\n",
       "  <tbody>\n",
       "    <tr>\n",
       "      <th>0</th>\n",
       "      <td>83</td>\n",
       "      <td>64</td>\n",
       "      <td>65</td>\n",
       "      <td>21</td>\n",
       "      <td>76</td>\n",
       "      <td>73</td>\n",
       "      <td>67</td>\n",
       "      <td>74</td>\n",
       "      <td>13</td>\n",
       "      <td>83</td>\n",
       "      <td>...</td>\n",
       "      <td>19</td>\n",
       "      <td>20</td>\n",
       "      <td>2</td>\n",
       "      <td>99</td>\n",
       "      <td>32</td>\n",
       "      <td>61</td>\n",
       "      <td>58</td>\n",
       "      <td>64</td>\n",
       "      <td>36</td>\n",
       "      <td>86</td>\n",
       "    </tr>\n",
       "    <tr>\n",
       "      <th>1</th>\n",
       "      <td>11</td>\n",
       "      <td>58</td>\n",
       "      <td>40</td>\n",
       "      <td>43</td>\n",
       "      <td>30</td>\n",
       "      <td>46</td>\n",
       "      <td>61</td>\n",
       "      <td>72</td>\n",
       "      <td>51</td>\n",
       "      <td>70</td>\n",
       "      <td>...</td>\n",
       "      <td>50</td>\n",
       "      <td>67</td>\n",
       "      <td>14</td>\n",
       "      <td>64</td>\n",
       "      <td>15</td>\n",
       "      <td>99</td>\n",
       "      <td>73</td>\n",
       "      <td>70</td>\n",
       "      <td>7</td>\n",
       "      <td>21</td>\n",
       "    </tr>\n",
       "    <tr>\n",
       "      <th>2</th>\n",
       "      <td>78</td>\n",
       "      <td>44</td>\n",
       "      <td>26</td>\n",
       "      <td>88</td>\n",
       "      <td>7</td>\n",
       "      <td>46</td>\n",
       "      <td>12</td>\n",
       "      <td>59</td>\n",
       "      <td>51</td>\n",
       "      <td>3</td>\n",
       "      <td>...</td>\n",
       "      <td>84</td>\n",
       "      <td>71</td>\n",
       "      <td>52</td>\n",
       "      <td>48</td>\n",
       "      <td>77</td>\n",
       "      <td>61</td>\n",
       "      <td>9</td>\n",
       "      <td>66</td>\n",
       "      <td>94</td>\n",
       "      <td>81</td>\n",
       "    </tr>\n",
       "    <tr>\n",
       "      <th>3</th>\n",
       "      <td>14</td>\n",
       "      <td>24</td>\n",
       "      <td>71</td>\n",
       "      <td>99</td>\n",
       "      <td>42</td>\n",
       "      <td>67</td>\n",
       "      <td>65</td>\n",
       "      <td>24</td>\n",
       "      <td>94</td>\n",
       "      <td>23</td>\n",
       "      <td>...</td>\n",
       "      <td>23</td>\n",
       "      <td>7</td>\n",
       "      <td>33</td>\n",
       "      <td>26</td>\n",
       "      <td>96</td>\n",
       "      <td>24</td>\n",
       "      <td>13</td>\n",
       "      <td>48</td>\n",
       "      <td>88</td>\n",
       "      <td>6</td>\n",
       "    </tr>\n",
       "    <tr>\n",
       "      <th>4</th>\n",
       "      <td>10</td>\n",
       "      <td>8</td>\n",
       "      <td>82</td>\n",
       "      <td>75</td>\n",
       "      <td>62</td>\n",
       "      <td>75</td>\n",
       "      <td>26</td>\n",
       "      <td>32</td>\n",
       "      <td>28</td>\n",
       "      <td>41</td>\n",
       "      <td>...</td>\n",
       "      <td>95</td>\n",
       "      <td>88</td>\n",
       "      <td>94</td>\n",
       "      <td>89</td>\n",
       "      <td>37</td>\n",
       "      <td>34</td>\n",
       "      <td>36</td>\n",
       "      <td>99</td>\n",
       "      <td>77</td>\n",
       "      <td>3</td>\n",
       "    </tr>\n",
       "    <tr>\n",
       "      <th>5</th>\n",
       "      <td>75</td>\n",
       "      <td>96</td>\n",
       "      <td>78</td>\n",
       "      <td>94</td>\n",
       "      <td>99</td>\n",
       "      <td>97</td>\n",
       "      <td>26</td>\n",
       "      <td>97</td>\n",
       "      <td>15</td>\n",
       "      <td>69</td>\n",
       "      <td>...</td>\n",
       "      <td>28</td>\n",
       "      <td>80</td>\n",
       "      <td>52</td>\n",
       "      <td>85</td>\n",
       "      <td>83</td>\n",
       "      <td>22</td>\n",
       "      <td>2</td>\n",
       "      <td>43</td>\n",
       "      <td>91</td>\n",
       "      <td>14</td>\n",
       "    </tr>\n",
       "    <tr>\n",
       "      <th>6</th>\n",
       "      <td>36</td>\n",
       "      <td>54</td>\n",
       "      <td>48</td>\n",
       "      <td>10</td>\n",
       "      <td>71</td>\n",
       "      <td>9</td>\n",
       "      <td>69</td>\n",
       "      <td>47</td>\n",
       "      <td>89</td>\n",
       "      <td>88</td>\n",
       "      <td>...</td>\n",
       "      <td>99</td>\n",
       "      <td>21</td>\n",
       "      <td>6</td>\n",
       "      <td>4</td>\n",
       "      <td>52</td>\n",
       "      <td>18</td>\n",
       "      <td>42</td>\n",
       "      <td>19</td>\n",
       "      <td>90</td>\n",
       "      <td>43</td>\n",
       "    </tr>\n",
       "    <tr>\n",
       "      <th>7</th>\n",
       "      <td>20</td>\n",
       "      <td>63</td>\n",
       "      <td>9</td>\n",
       "      <td>38</td>\n",
       "      <td>40</td>\n",
       "      <td>30</td>\n",
       "      <td>16</td>\n",
       "      <td>92</td>\n",
       "      <td>69</td>\n",
       "      <td>62</td>\n",
       "      <td>...</td>\n",
       "      <td>44</td>\n",
       "      <td>49</td>\n",
       "      <td>22</td>\n",
       "      <td>34</td>\n",
       "      <td>92</td>\n",
       "      <td>9</td>\n",
       "      <td>55</td>\n",
       "      <td>54</td>\n",
       "      <td>48</td>\n",
       "      <td>77</td>\n",
       "    </tr>\n",
       "    <tr>\n",
       "      <th>8</th>\n",
       "      <td>60</td>\n",
       "      <td>24</td>\n",
       "      <td>50</td>\n",
       "      <td>33</td>\n",
       "      <td>96</td>\n",
       "      <td>43</td>\n",
       "      <td>34</td>\n",
       "      <td>76</td>\n",
       "      <td>13</td>\n",
       "      <td>51</td>\n",
       "      <td>...</td>\n",
       "      <td>93</td>\n",
       "      <td>76</td>\n",
       "      <td>83</td>\n",
       "      <td>71</td>\n",
       "      <td>20</td>\n",
       "      <td>37</td>\n",
       "      <td>96</td>\n",
       "      <td>90</td>\n",
       "      <td>51</td>\n",
       "      <td>69</td>\n",
       "    </tr>\n",
       "    <tr>\n",
       "      <th>9</th>\n",
       "      <td>44</td>\n",
       "      <td>66</td>\n",
       "      <td>64</td>\n",
       "      <td>23</td>\n",
       "      <td>23</td>\n",
       "      <td>32</td>\n",
       "      <td>46</td>\n",
       "      <td>22</td>\n",
       "      <td>37</td>\n",
       "      <td>70</td>\n",
       "      <td>...</td>\n",
       "      <td>3</td>\n",
       "      <td>15</td>\n",
       "      <td>56</td>\n",
       "      <td>86</td>\n",
       "      <td>89</td>\n",
       "      <td>90</td>\n",
       "      <td>64</td>\n",
       "      <td>67</td>\n",
       "      <td>58</td>\n",
       "      <td>3</td>\n",
       "    </tr>\n",
       "    <tr>\n",
       "      <th>10</th>\n",
       "      <td>73</td>\n",
       "      <td>5</td>\n",
       "      <td>51</td>\n",
       "      <td>96</td>\n",
       "      <td>77</td>\n",
       "      <td>38</td>\n",
       "      <td>71</td>\n",
       "      <td>44</td>\n",
       "      <td>99</td>\n",
       "      <td>25</td>\n",
       "      <td>...</td>\n",
       "      <td>33</td>\n",
       "      <td>85</td>\n",
       "      <td>29</td>\n",
       "      <td>44</td>\n",
       "      <td>48</td>\n",
       "      <td>63</td>\n",
       "      <td>3</td>\n",
       "      <td>75</td>\n",
       "      <td>79</td>\n",
       "      <td>49</td>\n",
       "    </tr>\n",
       "    <tr>\n",
       "      <th>11</th>\n",
       "      <td>72</td>\n",
       "      <td>44</td>\n",
       "      <td>49</td>\n",
       "      <td>72</td>\n",
       "      <td>20</td>\n",
       "      <td>57</td>\n",
       "      <td>37</td>\n",
       "      <td>70</td>\n",
       "      <td>58</td>\n",
       "      <td>17</td>\n",
       "      <td>...</td>\n",
       "      <td>53</td>\n",
       "      <td>15</td>\n",
       "      <td>25</td>\n",
       "      <td>8</td>\n",
       "      <td>80</td>\n",
       "      <td>43</td>\n",
       "      <td>55</td>\n",
       "      <td>43</td>\n",
       "      <td>78</td>\n",
       "      <td>35</td>\n",
       "    </tr>\n",
       "    <tr>\n",
       "      <th>12</th>\n",
       "      <td>82</td>\n",
       "      <td>21</td>\n",
       "      <td>64</td>\n",
       "      <td>68</td>\n",
       "      <td>38</td>\n",
       "      <td>48</td>\n",
       "      <td>70</td>\n",
       "      <td>38</td>\n",
       "      <td>75</td>\n",
       "      <td>44</td>\n",
       "      <td>...</td>\n",
       "      <td>59</td>\n",
       "      <td>27</td>\n",
       "      <td>22</td>\n",
       "      <td>23</td>\n",
       "      <td>45</td>\n",
       "      <td>27</td>\n",
       "      <td>84</td>\n",
       "      <td>67</td>\n",
       "      <td>53</td>\n",
       "      <td>34</td>\n",
       "    </tr>\n",
       "    <tr>\n",
       "      <th>13</th>\n",
       "      <td>56</td>\n",
       "      <td>85</td>\n",
       "      <td>38</td>\n",
       "      <td>34</td>\n",
       "      <td>40</td>\n",
       "      <td>53</td>\n",
       "      <td>99</td>\n",
       "      <td>92</td>\n",
       "      <td>7</td>\n",
       "      <td>74</td>\n",
       "      <td>...</td>\n",
       "      <td>89</td>\n",
       "      <td>72</td>\n",
       "      <td>66</td>\n",
       "      <td>57</td>\n",
       "      <td>3</td>\n",
       "      <td>83</td>\n",
       "      <td>51</td>\n",
       "      <td>92</td>\n",
       "      <td>24</td>\n",
       "      <td>74</td>\n",
       "    </tr>\n",
       "    <tr>\n",
       "      <th>14</th>\n",
       "      <td>55</td>\n",
       "      <td>10</td>\n",
       "      <td>93</td>\n",
       "      <td>44</td>\n",
       "      <td>7</td>\n",
       "      <td>37</td>\n",
       "      <td>88</td>\n",
       "      <td>57</td>\n",
       "      <td>35</td>\n",
       "      <td>46</td>\n",
       "      <td>...</td>\n",
       "      <td>8</td>\n",
       "      <td>97</td>\n",
       "      <td>8</td>\n",
       "      <td>61</td>\n",
       "      <td>29</td>\n",
       "      <td>50</td>\n",
       "      <td>87</td>\n",
       "      <td>56</td>\n",
       "      <td>81</td>\n",
       "      <td>39</td>\n",
       "    </tr>\n",
       "    <tr>\n",
       "      <th>15</th>\n",
       "      <td>69</td>\n",
       "      <td>58</td>\n",
       "      <td>67</td>\n",
       "      <td>27</td>\n",
       "      <td>88</td>\n",
       "      <td>55</td>\n",
       "      <td>6</td>\n",
       "      <td>57</td>\n",
       "      <td>56</td>\n",
       "      <td>26</td>\n",
       "      <td>...</td>\n",
       "      <td>41</td>\n",
       "      <td>2</td>\n",
       "      <td>25</td>\n",
       "      <td>10</td>\n",
       "      <td>29</td>\n",
       "      <td>72</td>\n",
       "      <td>87</td>\n",
       "      <td>24</td>\n",
       "      <td>65</td>\n",
       "      <td>27</td>\n",
       "    </tr>\n",
       "    <tr>\n",
       "      <th>16</th>\n",
       "      <td>27</td>\n",
       "      <td>41</td>\n",
       "      <td>2</td>\n",
       "      <td>30</td>\n",
       "      <td>19</td>\n",
       "      <td>39</td>\n",
       "      <td>71</td>\n",
       "      <td>70</td>\n",
       "      <td>92</td>\n",
       "      <td>9</td>\n",
       "      <td>...</td>\n",
       "      <td>84</td>\n",
       "      <td>52</td>\n",
       "      <td>46</td>\n",
       "      <td>74</td>\n",
       "      <td>35</td>\n",
       "      <td>61</td>\n",
       "      <td>85</td>\n",
       "      <td>22</td>\n",
       "      <td>60</td>\n",
       "      <td>14</td>\n",
       "    </tr>\n",
       "    <tr>\n",
       "      <th>17</th>\n",
       "      <td>19</td>\n",
       "      <td>56</td>\n",
       "      <td>96</td>\n",
       "      <td>98</td>\n",
       "      <td>24</td>\n",
       "      <td>42</td>\n",
       "      <td>35</td>\n",
       "      <td>11</td>\n",
       "      <td>68</td>\n",
       "      <td>53</td>\n",
       "      <td>...</td>\n",
       "      <td>21</td>\n",
       "      <td>33</td>\n",
       "      <td>71</td>\n",
       "      <td>48</td>\n",
       "      <td>65</td>\n",
       "      <td>1</td>\n",
       "      <td>7</td>\n",
       "      <td>95</td>\n",
       "      <td>86</td>\n",
       "      <td>39</td>\n",
       "    </tr>\n",
       "    <tr>\n",
       "      <th>18</th>\n",
       "      <td>19</td>\n",
       "      <td>41</td>\n",
       "      <td>68</td>\n",
       "      <td>65</td>\n",
       "      <td>66</td>\n",
       "      <td>89</td>\n",
       "      <td>5</td>\n",
       "      <td>68</td>\n",
       "      <td>94</td>\n",
       "      <td>23</td>\n",
       "      <td>...</td>\n",
       "      <td>82</td>\n",
       "      <td>95</td>\n",
       "      <td>5</td>\n",
       "      <td>9</td>\n",
       "      <td>42</td>\n",
       "      <td>33</td>\n",
       "      <td>50</td>\n",
       "      <td>21</td>\n",
       "      <td>20</td>\n",
       "      <td>38</td>\n",
       "    </tr>\n",
       "    <tr>\n",
       "      <th>19</th>\n",
       "      <td>11</td>\n",
       "      <td>9</td>\n",
       "      <td>82</td>\n",
       "      <td>44</td>\n",
       "      <td>51</td>\n",
       "      <td>86</td>\n",
       "      <td>12</td>\n",
       "      <td>4</td>\n",
       "      <td>61</td>\n",
       "      <td>60</td>\n",
       "      <td>...</td>\n",
       "      <td>11</td>\n",
       "      <td>12</td>\n",
       "      <td>86</td>\n",
       "      <td>87</td>\n",
       "      <td>17</td>\n",
       "      <td>15</td>\n",
       "      <td>40</td>\n",
       "      <td>86</td>\n",
       "      <td>73</td>\n",
       "      <td>38</td>\n",
       "    </tr>\n",
       "    <tr>\n",
       "      <th>20</th>\n",
       "      <td>60</td>\n",
       "      <td>82</td>\n",
       "      <td>20</td>\n",
       "      <td>95</td>\n",
       "      <td>32</td>\n",
       "      <td>8</td>\n",
       "      <td>92</td>\n",
       "      <td>81</td>\n",
       "      <td>18</td>\n",
       "      <td>47</td>\n",
       "      <td>...</td>\n",
       "      <td>24</td>\n",
       "      <td>1</td>\n",
       "      <td>85</td>\n",
       "      <td>3</td>\n",
       "      <td>84</td>\n",
       "      <td>11</td>\n",
       "      <td>93</td>\n",
       "      <td>42</td>\n",
       "      <td>86</td>\n",
       "      <td>53</td>\n",
       "    </tr>\n",
       "    <tr>\n",
       "      <th>21</th>\n",
       "      <td>81</td>\n",
       "      <td>70</td>\n",
       "      <td>60</td>\n",
       "      <td>37</td>\n",
       "      <td>92</td>\n",
       "      <td>52</td>\n",
       "      <td>77</td>\n",
       "      <td>71</td>\n",
       "      <td>19</td>\n",
       "      <td>74</td>\n",
       "      <td>...</td>\n",
       "      <td>64</td>\n",
       "      <td>54</td>\n",
       "      <td>39</td>\n",
       "      <td>7</td>\n",
       "      <td>3</td>\n",
       "      <td>47</td>\n",
       "      <td>70</td>\n",
       "      <td>9</td>\n",
       "      <td>59</td>\n",
       "      <td>39</td>\n",
       "    </tr>\n",
       "    <tr>\n",
       "      <th>22</th>\n",
       "      <td>97</td>\n",
       "      <td>9</td>\n",
       "      <td>53</td>\n",
       "      <td>17</td>\n",
       "      <td>95</td>\n",
       "      <td>11</td>\n",
       "      <td>50</td>\n",
       "      <td>56</td>\n",
       "      <td>16</td>\n",
       "      <td>24</td>\n",
       "      <td>...</td>\n",
       "      <td>20</td>\n",
       "      <td>21</td>\n",
       "      <td>54</td>\n",
       "      <td>67</td>\n",
       "      <td>7</td>\n",
       "      <td>45</td>\n",
       "      <td>30</td>\n",
       "      <td>30</td>\n",
       "      <td>45</td>\n",
       "      <td>25</td>\n",
       "    </tr>\n",
       "    <tr>\n",
       "      <th>23</th>\n",
       "      <td>16</td>\n",
       "      <td>15</td>\n",
       "      <td>75</td>\n",
       "      <td>51</td>\n",
       "      <td>86</td>\n",
       "      <td>73</td>\n",
       "      <td>34</td>\n",
       "      <td>26</td>\n",
       "      <td>24</td>\n",
       "      <td>28</td>\n",
       "      <td>...</td>\n",
       "      <td>86</td>\n",
       "      <td>34</td>\n",
       "      <td>31</td>\n",
       "      <td>13</td>\n",
       "      <td>59</td>\n",
       "      <td>73</td>\n",
       "      <td>22</td>\n",
       "      <td>85</td>\n",
       "      <td>82</td>\n",
       "      <td>84</td>\n",
       "    </tr>\n",
       "    <tr>\n",
       "      <th>24</th>\n",
       "      <td>35</td>\n",
       "      <td>90</td>\n",
       "      <td>37</td>\n",
       "      <td>84</td>\n",
       "      <td>79</td>\n",
       "      <td>99</td>\n",
       "      <td>68</td>\n",
       "      <td>26</td>\n",
       "      <td>93</td>\n",
       "      <td>38</td>\n",
       "      <td>...</td>\n",
       "      <td>92</td>\n",
       "      <td>64</td>\n",
       "      <td>16</td>\n",
       "      <td>48</td>\n",
       "      <td>25</td>\n",
       "      <td>98</td>\n",
       "      <td>44</td>\n",
       "      <td>52</td>\n",
       "      <td>79</td>\n",
       "      <td>26</td>\n",
       "    </tr>\n",
       "    <tr>\n",
       "      <th>25</th>\n",
       "      <td>60</td>\n",
       "      <td>44</td>\n",
       "      <td>33</td>\n",
       "      <td>20</td>\n",
       "      <td>27</td>\n",
       "      <td>32</td>\n",
       "      <td>60</td>\n",
       "      <td>70</td>\n",
       "      <td>25</td>\n",
       "      <td>58</td>\n",
       "      <td>...</td>\n",
       "      <td>17</td>\n",
       "      <td>13</td>\n",
       "      <td>63</td>\n",
       "      <td>64</td>\n",
       "      <td>56</td>\n",
       "      <td>66</td>\n",
       "      <td>70</td>\n",
       "      <td>37</td>\n",
       "      <td>67</td>\n",
       "      <td>75</td>\n",
       "    </tr>\n",
       "    <tr>\n",
       "      <th>26</th>\n",
       "      <td>28</td>\n",
       "      <td>97</td>\n",
       "      <td>73</td>\n",
       "      <td>45</td>\n",
       "      <td>60</td>\n",
       "      <td>84</td>\n",
       "      <td>32</td>\n",
       "      <td>23</td>\n",
       "      <td>53</td>\n",
       "      <td>20</td>\n",
       "      <td>...</td>\n",
       "      <td>23</td>\n",
       "      <td>64</td>\n",
       "      <td>36</td>\n",
       "      <td>89</td>\n",
       "      <td>83</td>\n",
       "      <td>55</td>\n",
       "      <td>75</td>\n",
       "      <td>83</td>\n",
       "      <td>50</td>\n",
       "      <td>26</td>\n",
       "    </tr>\n",
       "    <tr>\n",
       "      <th>27</th>\n",
       "      <td>30</td>\n",
       "      <td>35</td>\n",
       "      <td>43</td>\n",
       "      <td>80</td>\n",
       "      <td>99</td>\n",
       "      <td>4</td>\n",
       "      <td>26</td>\n",
       "      <td>54</td>\n",
       "      <td>72</td>\n",
       "      <td>7</td>\n",
       "      <td>...</td>\n",
       "      <td>82</td>\n",
       "      <td>42</td>\n",
       "      <td>69</td>\n",
       "      <td>15</td>\n",
       "      <td>51</td>\n",
       "      <td>5</td>\n",
       "      <td>89</td>\n",
       "      <td>72</td>\n",
       "      <td>2</td>\n",
       "      <td>45</td>\n",
       "    </tr>\n",
       "    <tr>\n",
       "      <th>28</th>\n",
       "      <td>33</td>\n",
       "      <td>38</td>\n",
       "      <td>20</td>\n",
       "      <td>72</td>\n",
       "      <td>72</td>\n",
       "      <td>37</td>\n",
       "      <td>76</td>\n",
       "      <td>10</td>\n",
       "      <td>75</td>\n",
       "      <td>8</td>\n",
       "      <td>...</td>\n",
       "      <td>33</td>\n",
       "      <td>69</td>\n",
       "      <td>52</td>\n",
       "      <td>85</td>\n",
       "      <td>53</td>\n",
       "      <td>58</td>\n",
       "      <td>74</td>\n",
       "      <td>1</td>\n",
       "      <td>44</td>\n",
       "      <td>23</td>\n",
       "    </tr>\n",
       "    <tr>\n",
       "      <th>29</th>\n",
       "      <td>17</td>\n",
       "      <td>25</td>\n",
       "      <td>8</td>\n",
       "      <td>81</td>\n",
       "      <td>17</td>\n",
       "      <td>75</td>\n",
       "      <td>59</td>\n",
       "      <td>45</td>\n",
       "      <td>16</td>\n",
       "      <td>57</td>\n",
       "      <td>...</td>\n",
       "      <td>67</td>\n",
       "      <td>2</td>\n",
       "      <td>25</td>\n",
       "      <td>1</td>\n",
       "      <td>55</td>\n",
       "      <td>46</td>\n",
       "      <td>65</td>\n",
       "      <td>64</td>\n",
       "      <td>6</td>\n",
       "      <td>40</td>\n",
       "    </tr>\n",
       "    <tr>\n",
       "      <th>30</th>\n",
       "      <td>67</td>\n",
       "      <td>22</td>\n",
       "      <td>69</td>\n",
       "      <td>12</td>\n",
       "      <td>9</td>\n",
       "      <td>92</td>\n",
       "      <td>4</td>\n",
       "      <td>12</td>\n",
       "      <td>65</td>\n",
       "      <td>88</td>\n",
       "      <td>...</td>\n",
       "      <td>76</td>\n",
       "      <td>39</td>\n",
       "      <td>21</td>\n",
       "      <td>50</td>\n",
       "      <td>26</td>\n",
       "      <td>89</td>\n",
       "      <td>19</td>\n",
       "      <td>59</td>\n",
       "      <td>18</td>\n",
       "      <td>24</td>\n",
       "    </tr>\n",
       "    <tr>\n",
       "      <th>31</th>\n",
       "      <td>52</td>\n",
       "      <td>74</td>\n",
       "      <td>15</td>\n",
       "      <td>78</td>\n",
       "      <td>49</td>\n",
       "      <td>71</td>\n",
       "      <td>50</td>\n",
       "      <td>39</td>\n",
       "      <td>88</td>\n",
       "      <td>63</td>\n",
       "      <td>...</td>\n",
       "      <td>49</td>\n",
       "      <td>41</td>\n",
       "      <td>59</td>\n",
       "      <td>29</td>\n",
       "      <td>30</td>\n",
       "      <td>15</td>\n",
       "      <td>88</td>\n",
       "      <td>35</td>\n",
       "      <td>27</td>\n",
       "      <td>60</td>\n",
       "    </tr>\n",
       "    <tr>\n",
       "      <th>32</th>\n",
       "      <td>15</td>\n",
       "      <td>19</td>\n",
       "      <td>31</td>\n",
       "      <td>82</td>\n",
       "      <td>51</td>\n",
       "      <td>38</td>\n",
       "      <td>5</td>\n",
       "      <td>46</td>\n",
       "      <td>8</td>\n",
       "      <td>95</td>\n",
       "      <td>...</td>\n",
       "      <td>87</td>\n",
       "      <td>5</td>\n",
       "      <td>51</td>\n",
       "      <td>37</td>\n",
       "      <td>39</td>\n",
       "      <td>91</td>\n",
       "      <td>93</td>\n",
       "      <td>74</td>\n",
       "      <td>34</td>\n",
       "      <td>28</td>\n",
       "    </tr>\n",
       "    <tr>\n",
       "      <th>33</th>\n",
       "      <td>4</td>\n",
       "      <td>23</td>\n",
       "      <td>44</td>\n",
       "      <td>49</td>\n",
       "      <td>3</td>\n",
       "      <td>99</td>\n",
       "      <td>67</td>\n",
       "      <td>69</td>\n",
       "      <td>82</td>\n",
       "      <td>64</td>\n",
       "      <td>...</td>\n",
       "      <td>1</td>\n",
       "      <td>47</td>\n",
       "      <td>54</td>\n",
       "      <td>17</td>\n",
       "      <td>15</td>\n",
       "      <td>52</td>\n",
       "      <td>19</td>\n",
       "      <td>60</td>\n",
       "      <td>44</td>\n",
       "      <td>13</td>\n",
       "    </tr>\n",
       "    <tr>\n",
       "      <th>34</th>\n",
       "      <td>53</td>\n",
       "      <td>91</td>\n",
       "      <td>17</td>\n",
       "      <td>89</td>\n",
       "      <td>14</td>\n",
       "      <td>75</td>\n",
       "      <td>24</td>\n",
       "      <td>80</td>\n",
       "      <td>31</td>\n",
       "      <td>73</td>\n",
       "      <td>...</td>\n",
       "      <td>93</td>\n",
       "      <td>19</td>\n",
       "      <td>53</td>\n",
       "      <td>68</td>\n",
       "      <td>89</td>\n",
       "      <td>46</td>\n",
       "      <td>41</td>\n",
       "      <td>22</td>\n",
       "      <td>96</td>\n",
       "      <td>8</td>\n",
       "    </tr>\n",
       "    <tr>\n",
       "      <th>35</th>\n",
       "      <td>9</td>\n",
       "      <td>44</td>\n",
       "      <td>63</td>\n",
       "      <td>93</td>\n",
       "      <td>26</td>\n",
       "      <td>4</td>\n",
       "      <td>64</td>\n",
       "      <td>23</td>\n",
       "      <td>17</td>\n",
       "      <td>40</td>\n",
       "      <td>...</td>\n",
       "      <td>29</td>\n",
       "      <td>15</td>\n",
       "      <td>30</td>\n",
       "      <td>5</td>\n",
       "      <td>47</td>\n",
       "      <td>68</td>\n",
       "      <td>61</td>\n",
       "      <td>65</td>\n",
       "      <td>73</td>\n",
       "      <td>44</td>\n",
       "    </tr>\n",
       "    <tr>\n",
       "      <th>36</th>\n",
       "      <td>28</td>\n",
       "      <td>91</td>\n",
       "      <td>72</td>\n",
       "      <td>84</td>\n",
       "      <td>65</td>\n",
       "      <td>72</td>\n",
       "      <td>1</td>\n",
       "      <td>89</td>\n",
       "      <td>64</td>\n",
       "      <td>80</td>\n",
       "      <td>...</td>\n",
       "      <td>19</td>\n",
       "      <td>57</td>\n",
       "      <td>92</td>\n",
       "      <td>3</td>\n",
       "      <td>37</td>\n",
       "      <td>27</td>\n",
       "      <td>5</td>\n",
       "      <td>45</td>\n",
       "      <td>7</td>\n",
       "      <td>76</td>\n",
       "    </tr>\n",
       "    <tr>\n",
       "      <th>37</th>\n",
       "      <td>49</td>\n",
       "      <td>31</td>\n",
       "      <td>81</td>\n",
       "      <td>80</td>\n",
       "      <td>58</td>\n",
       "      <td>62</td>\n",
       "      <td>41</td>\n",
       "      <td>85</td>\n",
       "      <td>44</td>\n",
       "      <td>34</td>\n",
       "      <td>...</td>\n",
       "      <td>3</td>\n",
       "      <td>92</td>\n",
       "      <td>72</td>\n",
       "      <td>4</td>\n",
       "      <td>48</td>\n",
       "      <td>79</td>\n",
       "      <td>3</td>\n",
       "      <td>60</td>\n",
       "      <td>17</td>\n",
       "      <td>57</td>\n",
       "    </tr>\n",
       "    <tr>\n",
       "      <th>38</th>\n",
       "      <td>90</td>\n",
       "      <td>82</td>\n",
       "      <td>24</td>\n",
       "      <td>75</td>\n",
       "      <td>35</td>\n",
       "      <td>96</td>\n",
       "      <td>62</td>\n",
       "      <td>45</td>\n",
       "      <td>1</td>\n",
       "      <td>43</td>\n",
       "      <td>...</td>\n",
       "      <td>8</td>\n",
       "      <td>43</td>\n",
       "      <td>61</td>\n",
       "      <td>30</td>\n",
       "      <td>67</td>\n",
       "      <td>94</td>\n",
       "      <td>79</td>\n",
       "      <td>69</td>\n",
       "      <td>6</td>\n",
       "      <td>77</td>\n",
       "    </tr>\n",
       "    <tr>\n",
       "      <th>39</th>\n",
       "      <td>42</td>\n",
       "      <td>42</td>\n",
       "      <td>54</td>\n",
       "      <td>31</td>\n",
       "      <td>84</td>\n",
       "      <td>6</td>\n",
       "      <td>79</td>\n",
       "      <td>56</td>\n",
       "      <td>90</td>\n",
       "      <td>55</td>\n",
       "      <td>...</td>\n",
       "      <td>9</td>\n",
       "      <td>63</td>\n",
       "      <td>73</td>\n",
       "      <td>66</td>\n",
       "      <td>79</td>\n",
       "      <td>36</td>\n",
       "      <td>37</td>\n",
       "      <td>19</td>\n",
       "      <td>71</td>\n",
       "      <td>55</td>\n",
       "    </tr>\n",
       "    <tr>\n",
       "      <th>40</th>\n",
       "      <td>73</td>\n",
       "      <td>53</td>\n",
       "      <td>53</td>\n",
       "      <td>82</td>\n",
       "      <td>47</td>\n",
       "      <td>32</td>\n",
       "      <td>58</td>\n",
       "      <td>37</td>\n",
       "      <td>38</td>\n",
       "      <td>74</td>\n",
       "      <td>...</td>\n",
       "      <td>77</td>\n",
       "      <td>38</td>\n",
       "      <td>46</td>\n",
       "      <td>44</td>\n",
       "      <td>69</td>\n",
       "      <td>20</td>\n",
       "      <td>53</td>\n",
       "      <td>56</td>\n",
       "      <td>58</td>\n",
       "      <td>12</td>\n",
       "    </tr>\n",
       "    <tr>\n",
       "      <th>41</th>\n",
       "      <td>11</td>\n",
       "      <td>54</td>\n",
       "      <td>94</td>\n",
       "      <td>97</td>\n",
       "      <td>38</td>\n",
       "      <td>97</td>\n",
       "      <td>60</td>\n",
       "      <td>94</td>\n",
       "      <td>14</td>\n",
       "      <td>27</td>\n",
       "      <td>...</td>\n",
       "      <td>52</td>\n",
       "      <td>77</td>\n",
       "      <td>12</td>\n",
       "      <td>69</td>\n",
       "      <td>79</td>\n",
       "      <td>27</td>\n",
       "      <td>88</td>\n",
       "      <td>47</td>\n",
       "      <td>74</td>\n",
       "      <td>56</td>\n",
       "    </tr>\n",
       "    <tr>\n",
       "      <th>42</th>\n",
       "      <td>26</td>\n",
       "      <td>89</td>\n",
       "      <td>45</td>\n",
       "      <td>62</td>\n",
       "      <td>72</td>\n",
       "      <td>9</td>\n",
       "      <td>94</td>\n",
       "      <td>63</td>\n",
       "      <td>17</td>\n",
       "      <td>71</td>\n",
       "      <td>...</td>\n",
       "      <td>17</td>\n",
       "      <td>68</td>\n",
       "      <td>86</td>\n",
       "      <td>86</td>\n",
       "      <td>84</td>\n",
       "      <td>86</td>\n",
       "      <td>47</td>\n",
       "      <td>34</td>\n",
       "      <td>77</td>\n",
       "      <td>17</td>\n",
       "    </tr>\n",
       "    <tr>\n",
       "      <th>43</th>\n",
       "      <td>56</td>\n",
       "      <td>42</td>\n",
       "      <td>79</td>\n",
       "      <td>66</td>\n",
       "      <td>72</td>\n",
       "      <td>24</td>\n",
       "      <td>87</td>\n",
       "      <td>80</td>\n",
       "      <td>88</td>\n",
       "      <td>51</td>\n",
       "      <td>...</td>\n",
       "      <td>24</td>\n",
       "      <td>14</td>\n",
       "      <td>46</td>\n",
       "      <td>24</td>\n",
       "      <td>22</td>\n",
       "      <td>71</td>\n",
       "      <td>85</td>\n",
       "      <td>75</td>\n",
       "      <td>59</td>\n",
       "      <td>20</td>\n",
       "    </tr>\n",
       "    <tr>\n",
       "      <th>44</th>\n",
       "      <td>18</td>\n",
       "      <td>90</td>\n",
       "      <td>70</td>\n",
       "      <td>32</td>\n",
       "      <td>2</td>\n",
       "      <td>67</td>\n",
       "      <td>78</td>\n",
       "      <td>52</td>\n",
       "      <td>59</td>\n",
       "      <td>96</td>\n",
       "      <td>...</td>\n",
       "      <td>66</td>\n",
       "      <td>35</td>\n",
       "      <td>31</td>\n",
       "      <td>78</td>\n",
       "      <td>7</td>\n",
       "      <td>89</td>\n",
       "      <td>92</td>\n",
       "      <td>84</td>\n",
       "      <td>32</td>\n",
       "      <td>78</td>\n",
       "    </tr>\n",
       "    <tr>\n",
       "      <th>45</th>\n",
       "      <td>25</td>\n",
       "      <td>50</td>\n",
       "      <td>22</td>\n",
       "      <td>43</td>\n",
       "      <td>42</td>\n",
       "      <td>24</td>\n",
       "      <td>2</td>\n",
       "      <td>46</td>\n",
       "      <td>70</td>\n",
       "      <td>89</td>\n",
       "      <td>...</td>\n",
       "      <td>55</td>\n",
       "      <td>60</td>\n",
       "      <td>98</td>\n",
       "      <td>2</td>\n",
       "      <td>69</td>\n",
       "      <td>47</td>\n",
       "      <td>7</td>\n",
       "      <td>53</td>\n",
       "      <td>66</td>\n",
       "      <td>35</td>\n",
       "    </tr>\n",
       "    <tr>\n",
       "      <th>46</th>\n",
       "      <td>11</td>\n",
       "      <td>43</td>\n",
       "      <td>66</td>\n",
       "      <td>11</td>\n",
       "      <td>67</td>\n",
       "      <td>97</td>\n",
       "      <td>35</td>\n",
       "      <td>35</td>\n",
       "      <td>24</td>\n",
       "      <td>96</td>\n",
       "      <td>...</td>\n",
       "      <td>57</td>\n",
       "      <td>98</td>\n",
       "      <td>56</td>\n",
       "      <td>62</td>\n",
       "      <td>90</td>\n",
       "      <td>18</td>\n",
       "      <td>72</td>\n",
       "      <td>2</td>\n",
       "      <td>44</td>\n",
       "      <td>51</td>\n",
       "    </tr>\n",
       "    <tr>\n",
       "      <th>47</th>\n",
       "      <td>47</td>\n",
       "      <td>26</td>\n",
       "      <td>46</td>\n",
       "      <td>53</td>\n",
       "      <td>20</td>\n",
       "      <td>96</td>\n",
       "      <td>16</td>\n",
       "      <td>58</td>\n",
       "      <td>88</td>\n",
       "      <td>36</td>\n",
       "      <td>...</td>\n",
       "      <td>58</td>\n",
       "      <td>11</td>\n",
       "      <td>54</td>\n",
       "      <td>85</td>\n",
       "      <td>42</td>\n",
       "      <td>64</td>\n",
       "      <td>36</td>\n",
       "      <td>19</td>\n",
       "      <td>61</td>\n",
       "      <td>36</td>\n",
       "    </tr>\n",
       "    <tr>\n",
       "      <th>48</th>\n",
       "      <td>52</td>\n",
       "      <td>91</td>\n",
       "      <td>39</td>\n",
       "      <td>8</td>\n",
       "      <td>49</td>\n",
       "      <td>78</td>\n",
       "      <td>52</td>\n",
       "      <td>88</td>\n",
       "      <td>41</td>\n",
       "      <td>46</td>\n",
       "      <td>...</td>\n",
       "      <td>23</td>\n",
       "      <td>28</td>\n",
       "      <td>62</td>\n",
       "      <td>47</td>\n",
       "      <td>84</td>\n",
       "      <td>92</td>\n",
       "      <td>95</td>\n",
       "      <td>97</td>\n",
       "      <td>37</td>\n",
       "      <td>64</td>\n",
       "    </tr>\n",
       "    <tr>\n",
       "      <th>49</th>\n",
       "      <td>48</td>\n",
       "      <td>90</td>\n",
       "      <td>82</td>\n",
       "      <td>64</td>\n",
       "      <td>18</td>\n",
       "      <td>91</td>\n",
       "      <td>15</td>\n",
       "      <td>97</td>\n",
       "      <td>2</td>\n",
       "      <td>90</td>\n",
       "      <td>...</td>\n",
       "      <td>80</td>\n",
       "      <td>85</td>\n",
       "      <td>55</td>\n",
       "      <td>37</td>\n",
       "      <td>65</td>\n",
       "      <td>55</td>\n",
       "      <td>74</td>\n",
       "      <td>43</td>\n",
       "      <td>75</td>\n",
       "      <td>90</td>\n",
       "    </tr>\n",
       "    <tr>\n",
       "      <th>50</th>\n",
       "      <td>65</td>\n",
       "      <td>23</td>\n",
       "      <td>14</td>\n",
       "      <td>89</td>\n",
       "      <td>95</td>\n",
       "      <td>21</td>\n",
       "      <td>36</td>\n",
       "      <td>83</td>\n",
       "      <td>29</td>\n",
       "      <td>22</td>\n",
       "      <td>...</td>\n",
       "      <td>45</td>\n",
       "      <td>92</td>\n",
       "      <td>85</td>\n",
       "      <td>3</td>\n",
       "      <td>45</td>\n",
       "      <td>38</td>\n",
       "      <td>66</td>\n",
       "      <td>33</td>\n",
       "      <td>86</td>\n",
       "      <td>22</td>\n",
       "    </tr>\n",
       "    <tr>\n",
       "      <th>51</th>\n",
       "      <td>57</td>\n",
       "      <td>68</td>\n",
       "      <td>80</td>\n",
       "      <td>89</td>\n",
       "      <td>60</td>\n",
       "      <td>35</td>\n",
       "      <td>31</td>\n",
       "      <td>98</td>\n",
       "      <td>21</td>\n",
       "      <td>39</td>\n",
       "      <td>...</td>\n",
       "      <td>2</td>\n",
       "      <td>73</td>\n",
       "      <td>69</td>\n",
       "      <td>60</td>\n",
       "      <td>29</td>\n",
       "      <td>23</td>\n",
       "      <td>10</td>\n",
       "      <td>68</td>\n",
       "      <td>13</td>\n",
       "      <td>11</td>\n",
       "    </tr>\n",
       "    <tr>\n",
       "      <th>52</th>\n",
       "      <td>86</td>\n",
       "      <td>51</td>\n",
       "      <td>61</td>\n",
       "      <td>94</td>\n",
       "      <td>12</td>\n",
       "      <td>32</td>\n",
       "      <td>63</td>\n",
       "      <td>77</td>\n",
       "      <td>14</td>\n",
       "      <td>27</td>\n",
       "      <td>...</td>\n",
       "      <td>14</td>\n",
       "      <td>64</td>\n",
       "      <td>72</td>\n",
       "      <td>78</td>\n",
       "      <td>39</td>\n",
       "      <td>5</td>\n",
       "      <td>42</td>\n",
       "      <td>25</td>\n",
       "      <td>71</td>\n",
       "      <td>23</td>\n",
       "    </tr>\n",
       "    <tr>\n",
       "      <th>53</th>\n",
       "      <td>97</td>\n",
       "      <td>97</td>\n",
       "      <td>9</td>\n",
       "      <td>21</td>\n",
       "      <td>27</td>\n",
       "      <td>99</td>\n",
       "      <td>1</td>\n",
       "      <td>85</td>\n",
       "      <td>40</td>\n",
       "      <td>85</td>\n",
       "      <td>...</td>\n",
       "      <td>34</td>\n",
       "      <td>3</td>\n",
       "      <td>86</td>\n",
       "      <td>27</td>\n",
       "      <td>89</td>\n",
       "      <td>29</td>\n",
       "      <td>88</td>\n",
       "      <td>73</td>\n",
       "      <td>48</td>\n",
       "      <td>66</td>\n",
       "    </tr>\n",
       "    <tr>\n",
       "      <th>54</th>\n",
       "      <td>51</td>\n",
       "      <td>26</td>\n",
       "      <td>53</td>\n",
       "      <td>78</td>\n",
       "      <td>32</td>\n",
       "      <td>15</td>\n",
       "      <td>96</td>\n",
       "      <td>69</td>\n",
       "      <td>62</td>\n",
       "      <td>84</td>\n",
       "      <td>...</td>\n",
       "      <td>73</td>\n",
       "      <td>1</td>\n",
       "      <td>22</td>\n",
       "      <td>85</td>\n",
       "      <td>79</td>\n",
       "      <td>86</td>\n",
       "      <td>11</td>\n",
       "      <td>65</td>\n",
       "      <td>31</td>\n",
       "      <td>9</td>\n",
       "    </tr>\n",
       "    <tr>\n",
       "      <th>55</th>\n",
       "      <td>56</td>\n",
       "      <td>86</td>\n",
       "      <td>59</td>\n",
       "      <td>84</td>\n",
       "      <td>35</td>\n",
       "      <td>83</td>\n",
       "      <td>90</td>\n",
       "      <td>98</td>\n",
       "      <td>5</td>\n",
       "      <td>48</td>\n",
       "      <td>...</td>\n",
       "      <td>75</td>\n",
       "      <td>14</td>\n",
       "      <td>66</td>\n",
       "      <td>55</td>\n",
       "      <td>44</td>\n",
       "      <td>33</td>\n",
       "      <td>39</td>\n",
       "      <td>98</td>\n",
       "      <td>10</td>\n",
       "      <td>72</td>\n",
       "    </tr>\n",
       "  </tbody>\n",
       "</table>\n",
       "<p>56 rows × 45 columns</p>\n",
       "</div>"
      ],
      "text/plain": [
       "    0   1   2   3   4   5   6   7   8   9   ...  35  36  37  38  39  40  41  \\\n",
       "0   83  64  65  21  76  73  67  74  13  83  ...  19  20   2  99  32  61  58   \n",
       "1   11  58  40  43  30  46  61  72  51  70  ...  50  67  14  64  15  99  73   \n",
       "2   78  44  26  88   7  46  12  59  51   3  ...  84  71  52  48  77  61   9   \n",
       "3   14  24  71  99  42  67  65  24  94  23  ...  23   7  33  26  96  24  13   \n",
       "4   10   8  82  75  62  75  26  32  28  41  ...  95  88  94  89  37  34  36   \n",
       "5   75  96  78  94  99  97  26  97  15  69  ...  28  80  52  85  83  22   2   \n",
       "6   36  54  48  10  71   9  69  47  89  88  ...  99  21   6   4  52  18  42   \n",
       "7   20  63   9  38  40  30  16  92  69  62  ...  44  49  22  34  92   9  55   \n",
       "8   60  24  50  33  96  43  34  76  13  51  ...  93  76  83  71  20  37  96   \n",
       "9   44  66  64  23  23  32  46  22  37  70  ...   3  15  56  86  89  90  64   \n",
       "10  73   5  51  96  77  38  71  44  99  25  ...  33  85  29  44  48  63   3   \n",
       "11  72  44  49  72  20  57  37  70  58  17  ...  53  15  25   8  80  43  55   \n",
       "12  82  21  64  68  38  48  70  38  75  44  ...  59  27  22  23  45  27  84   \n",
       "13  56  85  38  34  40  53  99  92   7  74  ...  89  72  66  57   3  83  51   \n",
       "14  55  10  93  44   7  37  88  57  35  46  ...   8  97   8  61  29  50  87   \n",
       "15  69  58  67  27  88  55   6  57  56  26  ...  41   2  25  10  29  72  87   \n",
       "16  27  41   2  30  19  39  71  70  92   9  ...  84  52  46  74  35  61  85   \n",
       "17  19  56  96  98  24  42  35  11  68  53  ...  21  33  71  48  65   1   7   \n",
       "18  19  41  68  65  66  89   5  68  94  23  ...  82  95   5   9  42  33  50   \n",
       "19  11   9  82  44  51  86  12   4  61  60  ...  11  12  86  87  17  15  40   \n",
       "20  60  82  20  95  32   8  92  81  18  47  ...  24   1  85   3  84  11  93   \n",
       "21  81  70  60  37  92  52  77  71  19  74  ...  64  54  39   7   3  47  70   \n",
       "22  97   9  53  17  95  11  50  56  16  24  ...  20  21  54  67   7  45  30   \n",
       "23  16  15  75  51  86  73  34  26  24  28  ...  86  34  31  13  59  73  22   \n",
       "24  35  90  37  84  79  99  68  26  93  38  ...  92  64  16  48  25  98  44   \n",
       "25  60  44  33  20  27  32  60  70  25  58  ...  17  13  63  64  56  66  70   \n",
       "26  28  97  73  45  60  84  32  23  53  20  ...  23  64  36  89  83  55  75   \n",
       "27  30  35  43  80  99   4  26  54  72   7  ...  82  42  69  15  51   5  89   \n",
       "28  33  38  20  72  72  37  76  10  75   8  ...  33  69  52  85  53  58  74   \n",
       "29  17  25   8  81  17  75  59  45  16  57  ...  67   2  25   1  55  46  65   \n",
       "30  67  22  69  12   9  92   4  12  65  88  ...  76  39  21  50  26  89  19   \n",
       "31  52  74  15  78  49  71  50  39  88  63  ...  49  41  59  29  30  15  88   \n",
       "32  15  19  31  82  51  38   5  46   8  95  ...  87   5  51  37  39  91  93   \n",
       "33   4  23  44  49   3  99  67  69  82  64  ...   1  47  54  17  15  52  19   \n",
       "34  53  91  17  89  14  75  24  80  31  73  ...  93  19  53  68  89  46  41   \n",
       "35   9  44  63  93  26   4  64  23  17  40  ...  29  15  30   5  47  68  61   \n",
       "36  28  91  72  84  65  72   1  89  64  80  ...  19  57  92   3  37  27   5   \n",
       "37  49  31  81  80  58  62  41  85  44  34  ...   3  92  72   4  48  79   3   \n",
       "38  90  82  24  75  35  96  62  45   1  43  ...   8  43  61  30  67  94  79   \n",
       "39  42  42  54  31  84   6  79  56  90  55  ...   9  63  73  66  79  36  37   \n",
       "40  73  53  53  82  47  32  58  37  38  74  ...  77  38  46  44  69  20  53   \n",
       "41  11  54  94  97  38  97  60  94  14  27  ...  52  77  12  69  79  27  88   \n",
       "42  26  89  45  62  72   9  94  63  17  71  ...  17  68  86  86  84  86  47   \n",
       "43  56  42  79  66  72  24  87  80  88  51  ...  24  14  46  24  22  71  85   \n",
       "44  18  90  70  32   2  67  78  52  59  96  ...  66  35  31  78   7  89  92   \n",
       "45  25  50  22  43  42  24   2  46  70  89  ...  55  60  98   2  69  47   7   \n",
       "46  11  43  66  11  67  97  35  35  24  96  ...  57  98  56  62  90  18  72   \n",
       "47  47  26  46  53  20  96  16  58  88  36  ...  58  11  54  85  42  64  36   \n",
       "48  52  91  39   8  49  78  52  88  41  46  ...  23  28  62  47  84  92  95   \n",
       "49  48  90  82  64  18  91  15  97   2  90  ...  80  85  55  37  65  55  74   \n",
       "50  65  23  14  89  95  21  36  83  29  22  ...  45  92  85   3  45  38  66   \n",
       "51  57  68  80  89  60  35  31  98  21  39  ...   2  73  69  60  29  23  10   \n",
       "52  86  51  61  94  12  32  63  77  14  27  ...  14  64  72  78  39   5  42   \n",
       "53  97  97   9  21  27  99   1  85  40  85  ...  34   3  86  27  89  29  88   \n",
       "54  51  26  53  78  32  15  96  69  62  84  ...  73   1  22  85  79  86  11   \n",
       "55  56  86  59  84  35  83  90  98   5  48  ...  75  14  66  55  44  33  39   \n",
       "\n",
       "    42  43  44  \n",
       "0   64  36  86  \n",
       "1   70   7  21  \n",
       "2   66  94  81  \n",
       "3   48  88   6  \n",
       "4   99  77   3  \n",
       "5   43  91  14  \n",
       "6   19  90  43  \n",
       "7   54  48  77  \n",
       "8   90  51  69  \n",
       "9   67  58   3  \n",
       "10  75  79  49  \n",
       "11  43  78  35  \n",
       "12  67  53  34  \n",
       "13  92  24  74  \n",
       "14  56  81  39  \n",
       "15  24  65  27  \n",
       "16  22  60  14  \n",
       "17  95  86  39  \n",
       "18  21  20  38  \n",
       "19  86  73  38  \n",
       "20  42  86  53  \n",
       "21   9  59  39  \n",
       "22  30  45  25  \n",
       "23  85  82  84  \n",
       "24  52  79  26  \n",
       "25  37  67  75  \n",
       "26  83  50  26  \n",
       "27  72   2  45  \n",
       "28   1  44  23  \n",
       "29  64   6  40  \n",
       "30  59  18  24  \n",
       "31  35  27  60  \n",
       "32  74  34  28  \n",
       "33  60  44  13  \n",
       "34  22  96   8  \n",
       "35  65  73  44  \n",
       "36  45   7  76  \n",
       "37  60  17  57  \n",
       "38  69   6  77  \n",
       "39  19  71  55  \n",
       "40  56  58  12  \n",
       "41  47  74  56  \n",
       "42  34  77  17  \n",
       "43  75  59  20  \n",
       "44  84  32  78  \n",
       "45  53  66  35  \n",
       "46   2  44  51  \n",
       "47  19  61  36  \n",
       "48  97  37  64  \n",
       "49  43  75  90  \n",
       "50  33  86  22  \n",
       "51  68  13  11  \n",
       "52  25  71  23  \n",
       "53  73  48  66  \n",
       "54  65  31   9  \n",
       "55  98  10  72  \n",
       "\n",
       "[56 rows x 45 columns]"
      ]
     },
     "execution_count": 300,
     "metadata": {},
     "output_type": "execute_result"
    }
   ],
   "source": [
    "arr"
   ]
  },
  {
   "cell_type": "code",
   "execution_count": 301,
   "id": "14845483-758d-4cb8-95cb-da50067ae4c3",
   "metadata": {},
   "outputs": [
    {
     "data": {
      "text/plain": [
       "RangeIndex(start=0, stop=56, step=1)"
      ]
     },
     "execution_count": 301,
     "metadata": {},
     "output_type": "execute_result"
    }
   ],
   "source": [
    "arr.index"
   ]
  },
  {
   "cell_type": "code",
   "execution_count": 302,
   "id": "2956d60f-43f5-4c69-baa5-441ca9707791",
   "metadata": {},
   "outputs": [
    {
     "data": {
      "text/plain": [
       "(56, 45)"
      ]
     },
     "execution_count": 302,
     "metadata": {},
     "output_type": "execute_result"
    }
   ],
   "source": [
    "arr.shape"
   ]
  },
  {
   "cell_type": "code",
   "execution_count": 303,
   "id": "6226614c-a41b-4397-b37a-6ad31cf41800",
   "metadata": {},
   "outputs": [
    {
     "data": {
      "text/plain": [
       "2"
      ]
     },
     "execution_count": 303,
     "metadata": {},
     "output_type": "execute_result"
    }
   ],
   "source": [
    "arr.ndim"
   ]
  },
  {
   "cell_type": "code",
   "execution_count": 309,
   "id": "08532963-4f45-4669-afdb-b9bac4728b2c",
   "metadata": {},
   "outputs": [
    {
     "data": {
      "text/plain": [
       "<pandas.core.indexing._iLocIndexer at 0x2022b8ac5f0>"
      ]
     },
     "execution_count": 309,
     "metadata": {},
     "output_type": "execute_result"
    }
   ],
   "source": [
    "arr.iloc(0)"
   ]
  },
  {
   "cell_type": "code",
   "execution_count": 310,
   "id": "579bc82e-b427-4f3b-afc7-6ae5f1b0c25e",
   "metadata": {},
   "outputs": [
    {
     "data": {
      "text/plain": [
       "array([[21, 32, 25,  7, 18,  3, 42, 44],\n",
       "       [11, 49, 43, 33, 41, 15, 49, 31],\n",
       "       [23, 41, 21,  3, 14, 24, 46, 26],\n",
       "       [ 5, 48, 10, 13, 40, 32, 20, 47]])"
      ]
     },
     "execution_count": 310,
     "metadata": {},
     "output_type": "execute_result"
    }
   ],
   "source": [
    "a=np.random.randint(1,50,(4,8))\n",
    "a"
   ]
  },
  {
   "cell_type": "code",
   "execution_count": 311,
   "id": "8808353d-6fcb-4539-b8ab-fa3e268cbb04",
   "metadata": {},
   "outputs": [
    {
     "data": {
      "text/html": [
       "<div>\n",
       "<style scoped>\n",
       "    .dataframe tbody tr th:only-of-type {\n",
       "        vertical-align: middle;\n",
       "    }\n",
       "\n",
       "    .dataframe tbody tr th {\n",
       "        vertical-align: top;\n",
       "    }\n",
       "\n",
       "    .dataframe thead th {\n",
       "        text-align: right;\n",
       "    }\n",
       "</style>\n",
       "<table border=\"1\" class=\"dataframe\">\n",
       "  <thead>\n",
       "    <tr style=\"text-align: right;\">\n",
       "      <th></th>\n",
       "      <th>0</th>\n",
       "      <th>1</th>\n",
       "      <th>2</th>\n",
       "      <th>3</th>\n",
       "      <th>4</th>\n",
       "      <th>5</th>\n",
       "      <th>6</th>\n",
       "      <th>7</th>\n",
       "    </tr>\n",
       "  </thead>\n",
       "  <tbody>\n",
       "    <tr>\n",
       "      <th>0</th>\n",
       "      <td>21</td>\n",
       "      <td>32</td>\n",
       "      <td>25</td>\n",
       "      <td>7</td>\n",
       "      <td>18</td>\n",
       "      <td>3</td>\n",
       "      <td>42</td>\n",
       "      <td>44</td>\n",
       "    </tr>\n",
       "    <tr>\n",
       "      <th>1</th>\n",
       "      <td>11</td>\n",
       "      <td>49</td>\n",
       "      <td>43</td>\n",
       "      <td>33</td>\n",
       "      <td>41</td>\n",
       "      <td>15</td>\n",
       "      <td>49</td>\n",
       "      <td>31</td>\n",
       "    </tr>\n",
       "    <tr>\n",
       "      <th>2</th>\n",
       "      <td>23</td>\n",
       "      <td>41</td>\n",
       "      <td>21</td>\n",
       "      <td>3</td>\n",
       "      <td>14</td>\n",
       "      <td>24</td>\n",
       "      <td>46</td>\n",
       "      <td>26</td>\n",
       "    </tr>\n",
       "    <tr>\n",
       "      <th>3</th>\n",
       "      <td>5</td>\n",
       "      <td>48</td>\n",
       "      <td>10</td>\n",
       "      <td>13</td>\n",
       "      <td>40</td>\n",
       "      <td>32</td>\n",
       "      <td>20</td>\n",
       "      <td>47</td>\n",
       "    </tr>\n",
       "  </tbody>\n",
       "</table>\n",
       "</div>"
      ],
      "text/plain": [
       "    0   1   2   3   4   5   6   7\n",
       "0  21  32  25   7  18   3  42  44\n",
       "1  11  49  43  33  41  15  49  31\n",
       "2  23  41  21   3  14  24  46  26\n",
       "3   5  48  10  13  40  32  20  47"
      ]
     },
     "execution_count": 311,
     "metadata": {},
     "output_type": "execute_result"
    }
   ],
   "source": [
    "d=pd.DataFrame(a)\n",
    "d"
   ]
  },
  {
   "cell_type": "code",
   "execution_count": 314,
   "id": "df86f839-f40d-4232-b166-f2787cb2b423",
   "metadata": {},
   "outputs": [
    {
     "data": {
      "text/plain": [
       "0    11\n",
       "1    49\n",
       "2    43\n",
       "3    33\n",
       "4    41\n",
       "5    15\n",
       "6    49\n",
       "7    31\n",
       "Name: 1, dtype: int32"
      ]
     },
     "execution_count": 314,
     "metadata": {},
     "output_type": "execute_result"
    }
   ],
   "source": [
    "d.iloc[1]"
   ]
  },
  {
   "cell_type": "code",
   "execution_count": 313,
   "id": "125bdd04-2723-48be-9bb7-1e08f21cdb00",
   "metadata": {},
   "outputs": [
    {
     "data": {
      "text/plain": [
       "0    21\n",
       "1    32\n",
       "2    25\n",
       "3     7\n",
       "4    18\n",
       "5     3\n",
       "6    42\n",
       "7    44\n",
       "Name: 0, dtype: int32"
      ]
     },
     "execution_count": 313,
     "metadata": {},
     "output_type": "execute_result"
    }
   ],
   "source": [
    "d.loc[0]"
   ]
  },
  {
   "cell_type": "code",
   "execution_count": 315,
   "id": "c113815e-fa0b-4f78-9065-521ae000437e",
   "metadata": {},
   "outputs": [
    {
     "data": {
      "text/plain": [
       "0     5\n",
       "1    48\n",
       "2    10\n",
       "3    13\n",
       "4    40\n",
       "5    32\n",
       "6    20\n",
       "7    47\n",
       "Name: 3, dtype: int32"
      ]
     },
     "execution_count": 315,
     "metadata": {},
     "output_type": "execute_result"
    }
   ],
   "source": [
    "d.loc[3]"
   ]
  },
  {
   "cell_type": "code",
   "execution_count": null,
   "id": "ca655a62-a0b1-4e84-b506-451e403cfbae",
   "metadata": {},
   "outputs": [],
   "source": []
  }
 ],
 "metadata": {
  "kernelspec": {
   "display_name": "Python 3 (ipykernel)",
   "language": "python",
   "name": "python3"
  },
  "language_info": {
   "codemirror_mode": {
    "name": "ipython",
    "version": 3
   },
   "file_extension": ".py",
   "mimetype": "text/x-python",
   "name": "python",
   "nbconvert_exporter": "python",
   "pygments_lexer": "ipython3",
   "version": "3.12.0"
  }
 },
 "nbformat": 4,
 "nbformat_minor": 5
}
